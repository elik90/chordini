{
 "cells": [
  {
   "cell_type": "markdown",
   "id": "spiritual-newark",
   "metadata": {
    "toc": true
   },
   "source": [
    "<h1>Table of Contents<span class=\"tocSkip\"></span></h1>\n",
    "<div class=\"toc\"><ul class=\"toc-item\"><li><span><a href=\"#Chordini-Supplemental-Notebook\" data-toc-modified-id=\"Chordini-Supplemental-Notebook-1\">Chordini Supplemental Notebook</a></span><ul class=\"toc-item\"><li><span><a href=\"#Notebook-Setup\" data-toc-modified-id=\"Notebook-Setup-1.1\">Notebook Setup</a></span></li></ul></li><li><span><a href=\"#Data-Prep-Overview\" data-toc-modified-id=\"Data-Prep-Overview-2\">Data Prep Overview</a></span></li><li><span><a href=\"#Import-Files\" data-toc-modified-id=\"Import-Files-3\">Import Files</a></span><ul class=\"toc-item\"><li><span><a href=\"#RNN:-Song-Progression-Data---Import-and-Initial-Review\" data-toc-modified-id=\"RNN:-Song-Progression-Data---Import-and-Initial-Review-3.1\">RNN: Song Progression Data - Import and Initial Review</a></span><ul class=\"toc-item\"><li><span><a href=\"#RNN:-Song-Progression-Data---Cleaning-Summary\" data-toc-modified-id=\"RNN:-Song-Progression-Data---Cleaning-Summary-3.1.1\">RNN: Song Progression Data - Cleaning Summary</a></span></li></ul></li><li><span><a href=\"#Clustering:-Chord-Content-Data---Import-and-Initial-Review\" data-toc-modified-id=\"Clustering:-Chord-Content-Data---Import-and-Initial-Review-3.2\">Clustering: Chord Content Data - Import and Initial Review</a></span><ul class=\"toc-item\"><li><span><a href=\"#Clustering:-Chord-Content-Data---Cleaning-Summary\" data-toc-modified-id=\"Clustering:-Chord-Content-Data---Cleaning-Summary-3.2.1\">Clustering: Chord Content Data - Cleaning Summary</a></span></li></ul></li><li><span><a href=\"#A-common-issue-for-both-RNN-and-Clustering-data:-Chords-that-have-the-same-content-but-are-named-differently\" data-toc-modified-id=\"A-common-issue-for-both-RNN-and-Clustering-data:-Chords-that-have-the-same-content-but-are-named-differently-3.3\">A common issue for both RNN and Clustering data: Chords that have the same content but are named differently</a></span><ul class=\"toc-item\"><li><span><a href=\"#Resolving-duplicate-chord-issue-for-clustering-data\" data-toc-modified-id=\"Resolving-duplicate-chord-issue-for-clustering-data-3.3.1\">Resolving duplicate chord issue for clustering data</a></span></li><li><span><a href=\"#Resolving-duplicate-chord-issue-for-the-RNN-data\" data-toc-modified-id=\"Resolving-duplicate-chord-issue-for-the-RNN-data-3.3.2\">Resolving duplicate chord issue for the RNN data</a></span></li></ul></li><li><span><a href=\"#RNN:-Chord-Progression-Data---Further-EDA\" data-toc-modified-id=\"RNN:-Chord-Progression-Data---Further-EDA-3.4\">RNN: Chord Progression Data - Further EDA</a></span><ul class=\"toc-item\"><li><span><a href=\"#Handling-songs-with-too-few-unique-chords\" data-toc-modified-id=\"Handling-songs-with-too-few-unique-chords-3.4.1\">Handling songs with too few unique chords</a></span></li><li><span><a href=\"#Handling-wide-range-of-song-lengths\" data-toc-modified-id=\"Handling-wide-range-of-song-lengths-3.4.2\">Handling wide range of song lengths</a></span></li></ul></li></ul></li><li><span><a href=\"#RNN-Preprocessing\" data-toc-modified-id=\"RNN-Preprocessing-4\">RNN Preprocessing</a></span><ul class=\"toc-item\"><li><span><a href=\"#Tokenizer\" data-toc-modified-id=\"Tokenizer-4.1\">Tokenizer</a></span></li><li><span><a href=\"#Chord-frequency-charts\" data-toc-modified-id=\"Chord-frequency-charts-4.2\">Chord frequency charts</a></span></li><li><span><a href=\"#Creating-zero-padded-sequences\" data-toc-modified-id=\"Creating-zero-padded-sequences-4.3\">Creating zero padded sequences</a></span></li></ul></li><li><span><a href=\"#Defining-X-and-y\" data-toc-modified-id=\"Defining-X-and-y-5\">Defining X and y</a></span></li><li><span><a href=\"#train-test-split\" data-toc-modified-id=\"train-test-split-6\">train test split</a></span></li><li><span><a href=\"#RNN-Modeling\" data-toc-modified-id=\"RNN-Modeling-7\">RNN Modeling</a></span></li><li><span><a href=\"#RNN-Results\" data-toc-modified-id=\"RNN-Results-8\">RNN Results</a></span></li><li><span><a href=\"#RNN-Predictions\" data-toc-modified-id=\"RNN-Predictions-9\">RNN Predictions</a></span><ul class=\"toc-item\"><li><span><a href=\"#(Many-to-One)-Function\" data-toc-modified-id=\"(Many-to-One)-Function-9.1\">(Many to One) Function</a></span><ul class=\"toc-item\"><li><span><a href=\"#Save-output-to-be-processed-for-listening-via-prog_player.py\" data-toc-modified-id=\"Save-output-to-be-processed-for-listening-via-prog_player.py-9.1.1\">Save output to be processed for listening via prog_player.py</a></span></li></ul></li><li><span><a href=\"#(One-to-One)-Function\" data-toc-modified-id=\"(One-to-One)-Function-9.2\">(One to One) Function</a></span><ul class=\"toc-item\"><li><span><a href=\"#Save-output-to-be-processed-for-listening-via-prog_player.py\" data-toc-modified-id=\"Save-output-to-be-processed-for-listening-via-prog_player.py-9.2.1\">Save output to be processed for listening via prog_player.py</a></span></li></ul></li></ul></li><li><span><a href=\"#Revisiting-Chord-Content-Data-for-Clustering\" data-toc-modified-id=\"Revisiting-Chord-Content-Data-for-Clustering-10\">Revisiting Chord Content Data for Clustering</a></span><ul class=\"toc-item\"><li><span><a href=\"#Clustering:-Chord-Content-Data---Further-EDA\" data-toc-modified-id=\"Clustering:-Chord-Content-Data---Further-EDA-10.1\">Clustering: Chord Content Data - Further EDA</a></span></li><li><span><a href=\"#new-columns\" data-toc-modified-id=\"new-columns-10.2\">new columns</a></span></li><li><span><a href=\"#Handling-notes-across-multiple-octaves\" data-toc-modified-id=\"Handling-notes-across-multiple-octaves-10.3\">Handling notes across multiple octaves</a></span></li><li><span><a href=\"#Handling-half-step-notation-for-each-note\" data-toc-modified-id=\"Handling-half-step-notation-for-each-note-10.4\">Handling half-step notation for each note</a></span></li></ul></li><li><span><a href=\"#Clustering-Preprocessing:-One-Hot-Encoding\" data-toc-modified-id=\"Clustering-Preprocessing:-One-Hot-Encoding-11\">Clustering Preprocessing: One Hot Encoding</a></span><ul class=\"toc-item\"><li><span><a href=\"#Correlation-Matrix\" data-toc-modified-id=\"Correlation-Matrix-11.1\">Correlation Matrix</a></span></li><li><span><a href=\"#Scaling-(optional)\" data-toc-modified-id=\"Scaling-(optional)-11.2\">Scaling (optional)</a></span></li><li><span><a href=\"#PCA-(optional)\" data-toc-modified-id=\"PCA-(optional)-11.3\">PCA (optional)</a></span></li></ul></li><li><span><a href=\"#Clustering:-Modeling\" data-toc-modified-id=\"Clustering:-Modeling-12\">Clustering: Modeling</a></span><ul class=\"toc-item\"><li><span><a href=\"#K-Means-without-PCA\" data-toc-modified-id=\"K-Means-without-PCA-12.1\">K Means without PCA</a></span><ul class=\"toc-item\"><li><span><a href=\"#Setting-Clusters-=-85\" data-toc-modified-id=\"Setting-Clusters-=-85-12.1.1\">Setting Clusters = 85</a></span></li></ul></li></ul></li><li><span><a href=\"#K-Means-Results\" data-toc-modified-id=\"K-Means-Results-13\">K Means Results</a></span></li><li><span><a href=\"#K-Modes-(Cao)\" data-toc-modified-id=\"K-Modes-(Cao)-14\">K Modes (Cao)</a></span></li><li><span><a href=\"#K-Modes-(Huang)\" data-toc-modified-id=\"K-Modes-(Huang)-15\">K Modes (Huang)</a></span></li></ul></div>"
   ]
  },
  {
   "cell_type": "markdown",
   "id": "graduate-platinum",
   "metadata": {},
   "source": [
    "# Chordini Supplemental Notebook"
   ]
  },
  {
   "cell_type": "markdown",
   "id": "graphic-concentrate",
   "metadata": {},
   "source": [
    "  \n",
    "**Prerequisite**: Run chord_extraction.py to generate the songs_df.csv that will be used in this notebook to run RNN and clustering models.  The following files will be needed from the output of chord_extraction.py\n",
    "- songs_df.csv\n",
    "- chord_dict.json\n",
    "- roman_dict.json"
   ]
  },
  {
   "cell_type": "markdown",
   "id": "bright-protection",
   "metadata": {},
   "source": [
    "## Notebook Setup"
   ]
  },
  {
   "cell_type": "code",
   "execution_count": 1,
   "id": "choice-sampling",
   "metadata": {
    "ExecuteTime": {
     "end_time": "2021-04-12T02:12:15.651339Z",
     "start_time": "2021-04-12T02:12:13.038839Z"
    },
    "scrolled": true
   },
   "outputs": [
    {
     "name": "stdout",
     "output_type": "stream",
     "text": [
      "tensorflow version 2.2.0\n"
     ]
    }
   ],
   "source": [
    "import numpy as np\n",
    "import pandas as pd\n",
    "import matplotlib.pyplot as plt\n",
    "import json\n",
    "import csv\n",
    "import tensorflow as tf\n",
    "import itertools\n",
    "import seaborn as sns\n",
    "\n",
    "from tensorflow.keras.models import Sequential\n",
    "from tensorflow.keras.layers import Dense, Dropout, Embedding, LSTM, GRU, Bidirectional, BatchNormalization, RepeatVector, TimeDistributed, MaxPooling2D\n",
    "from tensorflow.keras.optimizers import Adam\n",
    "from tensorflow.keras.preprocessing.text import Tokenizer\n",
    "from tensorflow.keras.preprocessing.sequence import pad_sequences\n",
    "\n",
    "from sklearn.preprocessing import OneHotEncoder, MultiLabelBinarizer, StandardScaler, MinMaxScaler\n",
    "from sklearn.decomposition import PCA\n",
    "from sklearn.model_selection import train_test_split, GridSearchCV\n",
    "from sklearn.pipeline import Pipeline\n",
    "from sklearn.cluster import DBSCAN, KMeans\n",
    "from sklearn.mixture import GaussianMixture\n",
    "\n",
    "from sklearn.metrics import silhouette_score, silhouette_samples\n",
    "from sklearn.metrics import confusion_matrix, precision_recall_curve\n",
    "from sklearn.metrics import recall_score, classification_report, auc, roc_curve\n",
    "from sklearn.metrics import precision_recall_fscore_support, f1_score\n",
    "\n",
    "print(f\"tensorflow version {tf.__version__}\")"
   ]
  },
  {
   "cell_type": "code",
   "execution_count": 2,
   "id": "median-chambers",
   "metadata": {
    "ExecuteTime": {
     "end_time": "2021-04-12T02:12:15.655338Z",
     "start_time": "2021-04-12T02:12:15.652838Z"
    }
   },
   "outputs": [],
   "source": [
    "pd.set_option('max_columns', None)\n",
    "np.set_printoptions(threshold=np.inf)"
   ]
  },
  {
   "cell_type": "markdown",
   "id": "trained-bracket",
   "metadata": {},
   "source": [
    "# Data Prep Overview\n",
    "The primary effort is to make sure that the RNN data is prepped prior to tokenization.  The secondary effort is to make some conclusions on chord patterns using clustering.  Both tracks involve different forms of data but both share the same problem of having chords that are named differently but contain the same pitches.  <br>\n",
    "\n",
    "**FLOW**<br>\n",
    "*Import all pertinent data files*<br>\n",
    "\n",
    "*Perform initial examination of (**RNN**:Song Progression / **Clustering**:Chord Content) data to identify issues and respective options*<br>\n",
    "  \n",
    "  \n",
    "*EDA for RNN*<br>\n",
    "*Preprocessing for RNN*<br>\n",
    "*Modeling for RNN*<br>\n",
    "*Processing results from RNN*<br>\n",
    "\n",
    "*EDA for Clustering*<br>\n",
    "*Preprocessing for clustering*<br>\n",
    "*Modeling for clustering*<br>\n",
    "*Processing results from clustering*\n"
   ]
  },
  {
   "cell_type": "markdown",
   "id": "moral-volleyball",
   "metadata": {},
   "source": [
    "# Import Files"
   ]
  },
  {
   "cell_type": "markdown",
   "id": "wanted-trouble",
   "metadata": {},
   "source": [
    "## RNN: Song Progression Data - Import and Initial Review\n",
    "\n",
    "Import from `songs_df.csv` and perform preliminary examination <br>\n",
    "Because of the way the csv was read, some columns will have to be reinitialized."
   ]
  },
  {
   "cell_type": "code",
   "execution_count": 3,
   "id": "connected-favorite",
   "metadata": {
    "ExecuteTime": {
     "end_time": "2021-04-12T02:12:15.697340Z",
     "start_time": "2021-04-12T02:12:15.656838Z"
    },
    "scrolled": false
   },
   "outputs": [
    {
     "data": {
      "text/html": [
       "<div>\n",
       "<style scoped>\n",
       "    .dataframe tbody tr th:only-of-type {\n",
       "        vertical-align: middle;\n",
       "    }\n",
       "\n",
       "    .dataframe tbody tr th {\n",
       "        vertical-align: top;\n",
       "    }\n",
       "\n",
       "    .dataframe thead th {\n",
       "        text-align: right;\n",
       "    }\n",
       "</style>\n",
       "<table border=\"1\" class=\"dataframe\">\n",
       "  <thead>\n",
       "    <tr style=\"text-align: right;\">\n",
       "      <th></th>\n",
       "      <th>song_title</th>\n",
       "      <th>chord_progression</th>\n",
       "      <th>chord_list</th>\n",
       "      <th>num_unique</th>\n",
       "    </tr>\n",
       "  </thead>\n",
       "  <tbody>\n",
       "    <tr>\n",
       "      <th>0</th>\n",
       "      <td>A Child is Born</td>\n",
       "      <td>Fmaj7 B-m11/F Fmaj7 B-m11/F Fmaj7 B-m11/F Fmaj...</td>\n",
       "      <td>['Fmaj7', 'B-m11/F', 'Fmaj7', 'B-m11/F', 'Fmaj...</td>\n",
       "      <td>19</td>\n",
       "    </tr>\n",
       "    <tr>\n",
       "      <th>1</th>\n",
       "      <td>Volare</td>\n",
       "      <td>C C#dim Dm Dm7 G7 Dm7 G7 C G7 Cmaj7 C6 C/E E-d...</td>\n",
       "      <td>['C', 'C#dim', 'Dm', 'Dm7', 'G7', 'Dm7', 'G7',...</td>\n",
       "      <td>31</td>\n",
       "    </tr>\n",
       "    <tr>\n",
       "      <th>2</th>\n",
       "      <td>Wayne Shorter - Speak No Evil</td>\n",
       "      <td>Em7 Fmaj7 Em7 Fmaj7 Em7 Fmaj7 Em7 Fmaj7 Gm7 G#...</td>\n",
       "      <td>['Em7', 'Fmaj7', 'Em7', 'Fmaj7', 'Em7', 'Fmaj7...</td>\n",
       "      <td>14</td>\n",
       "    </tr>\n",
       "    <tr>\n",
       "      <th>3</th>\n",
       "      <td>Y Viva España</td>\n",
       "      <td>G7 Cm B- A- G7 Cm B- A- G7 Cm B- A- G7 A- G7 D...</td>\n",
       "      <td>['G7', 'Cm', 'B-', 'A-', 'G7', 'Cm', 'B-', 'A-...</td>\n",
       "      <td>9</td>\n",
       "    </tr>\n",
       "    <tr>\n",
       "      <th>4</th>\n",
       "      <td>Yesterday</td>\n",
       "      <td>C Bm7 E7 Am Am/G F G7 C G/B Am D F C E11 E7 Am...</td>\n",
       "      <td>['C', 'Bm7', 'E7', 'Am', 'Am/G', 'F', 'G7', 'C...</td>\n",
       "      <td>15</td>\n",
       "    </tr>\n",
       "  </tbody>\n",
       "</table>\n",
       "</div>"
      ],
      "text/plain": [
       "                      song_title  \\\n",
       "0                A Child is Born   \n",
       "1                         Volare   \n",
       "2  Wayne Shorter - Speak No Evil   \n",
       "3                  Y Viva España   \n",
       "4                      Yesterday   \n",
       "\n",
       "                                   chord_progression  \\\n",
       "0  Fmaj7 B-m11/F Fmaj7 B-m11/F Fmaj7 B-m11/F Fmaj...   \n",
       "1  C C#dim Dm Dm7 G7 Dm7 G7 C G7 Cmaj7 C6 C/E E-d...   \n",
       "2  Em7 Fmaj7 Em7 Fmaj7 Em7 Fmaj7 Em7 Fmaj7 Gm7 G#...   \n",
       "3  G7 Cm B- A- G7 Cm B- A- G7 Cm B- A- G7 A- G7 D...   \n",
       "4  C Bm7 E7 Am Am/G F G7 C G/B Am D F C E11 E7 Am...   \n",
       "\n",
       "                                          chord_list  num_unique  \n",
       "0  ['Fmaj7', 'B-m11/F', 'Fmaj7', 'B-m11/F', 'Fmaj...          19  \n",
       "1  ['C', 'C#dim', 'Dm', 'Dm7', 'G7', 'Dm7', 'G7',...          31  \n",
       "2  ['Em7', 'Fmaj7', 'Em7', 'Fmaj7', 'Em7', 'Fmaj7...          14  \n",
       "3  ['G7', 'Cm', 'B-', 'A-', 'G7', 'Cm', 'B-', 'A-...           9  \n",
       "4  ['C', 'Bm7', 'E7', 'Am', 'Am/G', 'F', 'G7', 'C...          15  "
      ]
     },
     "execution_count": 3,
     "metadata": {},
     "output_type": "execute_result"
    }
   ],
   "source": [
    "df = pd.read_csv('songs_df.csv')\n",
    "df.head()"
   ]
  },
  {
   "cell_type": "code",
   "execution_count": 4,
   "id": "abandoned-reduction",
   "metadata": {
    "ExecuteTime": {
     "end_time": "2021-04-12T02:12:15.712838Z",
     "start_time": "2021-04-12T02:12:15.698337Z"
    }
   },
   "outputs": [],
   "source": [
    "df['chord_progression'] = df['chord_progression'].astype('str')\n",
    "df['chord_list'] = df['chord_progression'].apply(lambda x: list(x.split(' ')))\n",
    "df['num_unique'] = df['chord_list'].apply(lambda x: len(set(x)))"
   ]
  },
  {
   "cell_type": "code",
   "execution_count": 5,
   "id": "dirty-edition",
   "metadata": {
    "ExecuteTime": {
     "end_time": "2021-04-12T02:12:15.737339Z",
     "start_time": "2021-04-12T02:12:15.713839Z"
    },
    "scrolled": true
   },
   "outputs": [
    {
     "name": "stdout",
     "output_type": "stream",
     "text": [
      "<class 'pandas.core.frame.DataFrame'>\n",
      "RangeIndex: 1875 entries, 0 to 1874\n",
      "Data columns (total 4 columns):\n",
      " #   Column             Non-Null Count  Dtype \n",
      "---  ------             --------------  ----- \n",
      " 0   song_title         1875 non-null   object\n",
      " 1   chord_progression  1875 non-null   object\n",
      " 2   chord_list         1875 non-null   object\n",
      " 3   num_unique         1875 non-null   int64 \n",
      "dtypes: int64(1), object(3)\n",
      "memory usage: 58.7+ KB\n",
      "None\n",
      "\n",
      "Type of chord_progression: <class 'str'>\n",
      "\n",
      "Type of chord_list: <class 'list'>\n",
      "\n",
      "             count       mean        std  min  25%   50%   75%   max\n",
      "num_unique  1875.0  16.765867  10.572568  1.0  9.0  15.0  22.0  83.0\n"
     ]
    }
   ],
   "source": [
    "print(df.info())\n",
    "print(f\"\\nType of chord_progression: {type(df['chord_progression'][0])}\")\n",
    "print(f\"\\nType of chord_list: {type(df['chord_list'][0])}\\n\")\n",
    "print(df.describe().T)"
   ]
  },
  {
   "cell_type": "code",
   "execution_count": 6,
   "id": "unsigned-style",
   "metadata": {
    "ExecuteTime": {
     "end_time": "2021-04-12T02:12:15.761839Z",
     "start_time": "2021-04-12T02:12:15.737838Z"
    }
   },
   "outputs": [
    {
     "data": {
      "text/html": [
       "<div>\n",
       "<style scoped>\n",
       "    .dataframe tbody tr th:only-of-type {\n",
       "        vertical-align: middle;\n",
       "    }\n",
       "\n",
       "    .dataframe tbody tr th {\n",
       "        vertical-align: top;\n",
       "    }\n",
       "\n",
       "    .dataframe thead th {\n",
       "        text-align: right;\n",
       "    }\n",
       "</style>\n",
       "<table border=\"1\" class=\"dataframe\">\n",
       "  <thead>\n",
       "    <tr style=\"text-align: right;\">\n",
       "      <th></th>\n",
       "      <th>song_title</th>\n",
       "      <th>chord_progression</th>\n",
       "      <th>chord_list</th>\n",
       "      <th>num_unique</th>\n",
       "    </tr>\n",
       "  </thead>\n",
       "  <tbody>\n",
       "    <tr>\n",
       "      <th>0</th>\n",
       "      <td>A Child is Born</td>\n",
       "      <td>Fmaj7 B-m11/F Fmaj7 B-m11/F Fmaj7 B-m11/F Fmaj...</td>\n",
       "      <td>[Fmaj7, B-m11/F, Fmaj7, B-m11/F, Fmaj7, B-m11/...</td>\n",
       "      <td>19</td>\n",
       "    </tr>\n",
       "    <tr>\n",
       "      <th>1</th>\n",
       "      <td>Volare</td>\n",
       "      <td>C C#dim Dm Dm7 G7 Dm7 G7 C G7 Cmaj7 C6 C/E E-d...</td>\n",
       "      <td>[C, C#dim, Dm, Dm7, G7, Dm7, G7, C, G7, Cmaj7,...</td>\n",
       "      <td>31</td>\n",
       "    </tr>\n",
       "  </tbody>\n",
       "</table>\n",
       "</div>"
      ],
      "text/plain": [
       "        song_title                                  chord_progression  \\\n",
       "0  A Child is Born  Fmaj7 B-m11/F Fmaj7 B-m11/F Fmaj7 B-m11/F Fmaj...   \n",
       "1           Volare  C C#dim Dm Dm7 G7 Dm7 G7 C G7 Cmaj7 C6 C/E E-d...   \n",
       "\n",
       "                                          chord_list  num_unique  \n",
       "0  [Fmaj7, B-m11/F, Fmaj7, B-m11/F, Fmaj7, B-m11/...          19  \n",
       "1  [C, C#dim, Dm, Dm7, G7, Dm7, G7, C, G7, Cmaj7,...          31  "
      ]
     },
     "execution_count": 6,
     "metadata": {},
     "output_type": "execute_result"
    }
   ],
   "source": [
    "df.head(2)"
   ]
  },
  {
   "cell_type": "markdown",
   "id": "limited-bermuda",
   "metadata": {},
   "source": [
    "The following additional column can be created to determine the length of songs in terms of number of chords.\n",
    "<br>\n",
    "- prog_length: number of chords throughout the entire songs"
   ]
  },
  {
   "cell_type": "code",
   "execution_count": 7,
   "id": "regular-popularity",
   "metadata": {
    "ExecuteTime": {
     "end_time": "2021-04-12T02:12:15.782838Z",
     "start_time": "2021-04-12T02:12:15.762839Z"
    },
    "scrolled": true
   },
   "outputs": [
    {
     "name": "stdout",
     "output_type": "stream",
     "text": [
      "<class 'pandas.core.frame.DataFrame'>\n",
      "RangeIndex: 1875 entries, 0 to 1874\n",
      "Data columns (total 5 columns):\n",
      " #   Column             Non-Null Count  Dtype \n",
      "---  ------             --------------  ----- \n",
      " 0   song_title         1875 non-null   object\n",
      " 1   chord_progression  1875 non-null   object\n",
      " 2   chord_list         1875 non-null   object\n",
      " 3   num_unique         1875 non-null   int64 \n",
      " 4   prog_length        1875 non-null   int64 \n",
      "dtypes: int64(2), object(3)\n",
      "memory usage: 73.4+ KB\n",
      "None\n",
      "num_unique details: \n",
      "count    1875.000000\n",
      "mean       16.765867\n",
      "std        10.572568\n",
      "min         1.000000\n",
      "25%         9.000000\n",
      "50%        15.000000\n",
      "75%        22.000000\n",
      "max        83.000000\n",
      "Name: num_unique, dtype: float64\n",
      "\n",
      "prog_length details: \n",
      "count    1875.00000\n",
      "mean       58.04640\n",
      "std        44.18651\n",
      "min         1.00000\n",
      "25%        32.00000\n",
      "50%        48.00000\n",
      "75%        70.00000\n",
      "max       467.00000\n",
      "Name: prog_length, dtype: float64\n",
      "\n"
     ]
    },
    {
     "data": {
      "text/html": [
       "<div>\n",
       "<style scoped>\n",
       "    .dataframe tbody tr th:only-of-type {\n",
       "        vertical-align: middle;\n",
       "    }\n",
       "\n",
       "    .dataframe tbody tr th {\n",
       "        vertical-align: top;\n",
       "    }\n",
       "\n",
       "    .dataframe thead th {\n",
       "        text-align: right;\n",
       "    }\n",
       "</style>\n",
       "<table border=\"1\" class=\"dataframe\">\n",
       "  <thead>\n",
       "    <tr style=\"text-align: right;\">\n",
       "      <th></th>\n",
       "      <th>song_title</th>\n",
       "      <th>chord_progression</th>\n",
       "      <th>chord_list</th>\n",
       "      <th>num_unique</th>\n",
       "      <th>prog_length</th>\n",
       "    </tr>\n",
       "  </thead>\n",
       "  <tbody>\n",
       "    <tr>\n",
       "      <th>0</th>\n",
       "      <td>A Child is Born</td>\n",
       "      <td>Fmaj7 B-m11/F Fmaj7 B-m11/F Fmaj7 B-m11/F Fmaj...</td>\n",
       "      <td>[Fmaj7, B-m11/F, Fmaj7, B-m11/F, Fmaj7, B-m11/...</td>\n",
       "      <td>19</td>\n",
       "      <td>79</td>\n",
       "    </tr>\n",
       "    <tr>\n",
       "      <th>1</th>\n",
       "      <td>Volare</td>\n",
       "      <td>C C#dim Dm Dm7 G7 Dm7 G7 C G7 Cmaj7 C6 C/E E-d...</td>\n",
       "      <td>[C, C#dim, Dm, Dm7, G7, Dm7, G7, C, G7, Cmaj7,...</td>\n",
       "      <td>31</td>\n",
       "      <td>73</td>\n",
       "    </tr>\n",
       "    <tr>\n",
       "      <th>2</th>\n",
       "      <td>Wayne Shorter - Speak No Evil</td>\n",
       "      <td>Em7 Fmaj7 Em7 Fmaj7 Em7 Fmaj7 Em7 Fmaj7 Gm7 G#...</td>\n",
       "      <td>[Em7, Fmaj7, Em7, Fmaj7, Em7, Fmaj7, Em7, Fmaj...</td>\n",
       "      <td>14</td>\n",
       "      <td>45</td>\n",
       "    </tr>\n",
       "    <tr>\n",
       "      <th>3</th>\n",
       "      <td>Y Viva España</td>\n",
       "      <td>G7 Cm B- A- G7 Cm B- A- G7 Cm B- A- G7 A- G7 D...</td>\n",
       "      <td>[G7, Cm, B-, A-, G7, Cm, B-, A-, G7, Cm, B-, A...</td>\n",
       "      <td>9</td>\n",
       "      <td>42</td>\n",
       "    </tr>\n",
       "    <tr>\n",
       "      <th>4</th>\n",
       "      <td>Yesterday</td>\n",
       "      <td>C Bm7 E7 Am Am/G F G7 C G/B Am D F C E11 E7 Am...</td>\n",
       "      <td>[C, Bm7, E7, Am, Am/G, F, G7, C, G/B, Am, D, F...</td>\n",
       "      <td>15</td>\n",
       "      <td>47</td>\n",
       "    </tr>\n",
       "  </tbody>\n",
       "</table>\n",
       "</div>"
      ],
      "text/plain": [
       "                      song_title  \\\n",
       "0                A Child is Born   \n",
       "1                         Volare   \n",
       "2  Wayne Shorter - Speak No Evil   \n",
       "3                  Y Viva España   \n",
       "4                      Yesterday   \n",
       "\n",
       "                                   chord_progression  \\\n",
       "0  Fmaj7 B-m11/F Fmaj7 B-m11/F Fmaj7 B-m11/F Fmaj...   \n",
       "1  C C#dim Dm Dm7 G7 Dm7 G7 C G7 Cmaj7 C6 C/E E-d...   \n",
       "2  Em7 Fmaj7 Em7 Fmaj7 Em7 Fmaj7 Em7 Fmaj7 Gm7 G#...   \n",
       "3  G7 Cm B- A- G7 Cm B- A- G7 Cm B- A- G7 A- G7 D...   \n",
       "4  C Bm7 E7 Am Am/G F G7 C G/B Am D F C E11 E7 Am...   \n",
       "\n",
       "                                          chord_list  num_unique  prog_length  \n",
       "0  [Fmaj7, B-m11/F, Fmaj7, B-m11/F, Fmaj7, B-m11/...          19           79  \n",
       "1  [C, C#dim, Dm, Dm7, G7, Dm7, G7, C, G7, Cmaj7,...          31           73  \n",
       "2  [Em7, Fmaj7, Em7, Fmaj7, Em7, Fmaj7, Em7, Fmaj...          14           45  \n",
       "3  [G7, Cm, B-, A-, G7, Cm, B-, A-, G7, Cm, B-, A...           9           42  \n",
       "4  [C, Bm7, E7, Am, Am/G, F, G7, C, G/B, Am, D, F...          15           47  "
      ]
     },
     "metadata": {},
     "output_type": "display_data"
    }
   ],
   "source": [
    "df['prog_length'] = df['chord_list'].apply(lambda x: len(x))\n",
    "\n",
    "print(df.info())\n",
    "print(f\"num_unique details: \\n{df['num_unique'].describe()}\\n\")\n",
    "print(f\"prog_length details: \\n{df['prog_length'].describe()}\\n\")\n",
    "\n",
    "display(df.head())\n"
   ]
  },
  {
   "cell_type": "code",
   "execution_count": 8,
   "id": "beginning-reader",
   "metadata": {
    "ExecuteTime": {
     "end_time": "2021-04-12T02:12:15.797838Z",
     "start_time": "2021-04-12T02:12:15.784340Z"
    },
    "scrolled": false
   },
   "outputs": [
    {
     "data": {
      "text/html": [
       "<div>\n",
       "<style scoped>\n",
       "    .dataframe tbody tr th:only-of-type {\n",
       "        vertical-align: middle;\n",
       "    }\n",
       "\n",
       "    .dataframe tbody tr th {\n",
       "        vertical-align: top;\n",
       "    }\n",
       "\n",
       "    .dataframe thead th {\n",
       "        text-align: right;\n",
       "    }\n",
       "</style>\n",
       "<table border=\"1\" class=\"dataframe\">\n",
       "  <thead>\n",
       "    <tr style=\"text-align: right;\">\n",
       "      <th></th>\n",
       "      <th>song_title</th>\n",
       "      <th>chord_progression</th>\n",
       "      <th>chord_list</th>\n",
       "      <th>num_unique</th>\n",
       "      <th>prog_length</th>\n",
       "    </tr>\n",
       "  </thead>\n",
       "  <tbody>\n",
       "    <tr>\n",
       "      <th>107</th>\n",
       "      <td>Albert The Lion</td>\n",
       "      <td>C</td>\n",
       "      <td>[C]</td>\n",
       "      <td>1</td>\n",
       "      <td>1</td>\n",
       "    </tr>\n",
       "    <tr>\n",
       "      <th>168</th>\n",
       "      <td>And Now, The Queen</td>\n",
       "      <td>F</td>\n",
       "      <td>[F]</td>\n",
       "      <td>1</td>\n",
       "      <td>1</td>\n",
       "    </tr>\n",
       "    <tr>\n",
       "      <th>206</th>\n",
       "      <td>Arthur Darley</td>\n",
       "      <td>B-</td>\n",
       "      <td>[B-]</td>\n",
       "      <td>1</td>\n",
       "      <td>1</td>\n",
       "    </tr>\n",
       "    <tr>\n",
       "      <th>241</th>\n",
       "      <td>Bach Goes To Town</td>\n",
       "      <td>C</td>\n",
       "      <td>[C]</td>\n",
       "      <td>1</td>\n",
       "      <td>1</td>\n",
       "    </tr>\n",
       "    <tr>\n",
       "      <th>887</th>\n",
       "      <td>Orfeo Negro [Black Orpheus]</td>\n",
       "      <td>Dm</td>\n",
       "      <td>[Dm]</td>\n",
       "      <td>1</td>\n",
       "      <td>1</td>\n",
       "    </tr>\n",
       "    <tr>\n",
       "      <th>1264</th>\n",
       "      <td>Sugar Blues Boogie - Clarence Williams</td>\n",
       "      <td>C</td>\n",
       "      <td>[C]</td>\n",
       "      <td>1</td>\n",
       "      <td>1</td>\n",
       "    </tr>\n",
       "    <tr>\n",
       "      <th>1418</th>\n",
       "      <td>The Fives</td>\n",
       "      <td>C</td>\n",
       "      <td>[C]</td>\n",
       "      <td>1</td>\n",
       "      <td>1</td>\n",
       "    </tr>\n",
       "    <tr>\n",
       "      <th>1503</th>\n",
       "      <td>The Touch Of Your Lips</td>\n",
       "      <td>nan</td>\n",
       "      <td>[nan]</td>\n",
       "      <td>1</td>\n",
       "      <td>1</td>\n",
       "    </tr>\n",
       "    <tr>\n",
       "      <th>1555</th>\n",
       "      <td>Tim's Boogie</td>\n",
       "      <td>F</td>\n",
       "      <td>[F]</td>\n",
       "      <td>1</td>\n",
       "      <td>1</td>\n",
       "    </tr>\n",
       "    <tr>\n",
       "      <th>1779</th>\n",
       "      <td>Woodchopper's Ball</td>\n",
       "      <td>C</td>\n",
       "      <td>[C]</td>\n",
       "      <td>1</td>\n",
       "      <td>1</td>\n",
       "    </tr>\n",
       "    <tr>\n",
       "      <th>1793</th>\n",
       "      <td>Yancey Goes Honky Tonk - Meade Lux Lewis</td>\n",
       "      <td>C</td>\n",
       "      <td>[C]</td>\n",
       "      <td>1</td>\n",
       "      <td>1</td>\n",
       "    </tr>\n",
       "  </tbody>\n",
       "</table>\n",
       "</div>"
      ],
      "text/plain": [
       "                                    song_title chord_progression chord_list  \\\n",
       "107                            Albert The Lion                 C        [C]   \n",
       "168                         And Now, The Queen                 F        [F]   \n",
       "206                              Arthur Darley                B-       [B-]   \n",
       "241                          Bach Goes To Town                 C        [C]   \n",
       "887                Orfeo Negro [Black Orpheus]                Dm       [Dm]   \n",
       "1264    Sugar Blues Boogie - Clarence Williams                 C        [C]   \n",
       "1418                                 The Fives                 C        [C]   \n",
       "1503                    The Touch Of Your Lips               nan      [nan]   \n",
       "1555                              Tim's Boogie                 F        [F]   \n",
       "1779                        Woodchopper's Ball                 C        [C]   \n",
       "1793  Yancey Goes Honky Tonk - Meade Lux Lewis                 C        [C]   \n",
       "\n",
       "      num_unique  prog_length  \n",
       "107            1            1  \n",
       "168            1            1  \n",
       "206            1            1  \n",
       "241            1            1  \n",
       "887            1            1  \n",
       "1264           1            1  \n",
       "1418           1            1  \n",
       "1503           1            1  \n",
       "1555           1            1  \n",
       "1779           1            1  \n",
       "1793           1            1  "
      ]
     },
     "execution_count": 8,
     "metadata": {},
     "output_type": "execute_result"
    }
   ],
   "source": [
    "df[df['prog_length']==1]"
   ]
  },
  {
   "cell_type": "markdown",
   "id": "conditional-witch",
   "metadata": {},
   "source": [
    "### RNN: Song Progression Data - Cleaning Summary\n",
    "\n",
    "This just a summary and will be handled in \"RNN: Chord Progression Data - Further EDA\"\n",
    "\n",
    "Issues to address:<br>\n",
    "- Chords that have the same content but are named differently\n",
    "- Songs with few unique chords\n",
    "- Song lengths and notion of repetition"
   ]
  },
  {
   "cell_type": "markdown",
   "id": "atomic-ebony",
   "metadata": {},
   "source": [
    "## Clustering: Chord Content Data - Import and Initial Review"
   ]
  },
  {
   "cell_type": "code",
   "execution_count": 9,
   "id": "radical-click",
   "metadata": {
    "ExecuteTime": {
     "end_time": "2021-04-12T02:12:15.808337Z",
     "start_time": "2021-04-12T02:12:15.798841Z"
    },
    "scrolled": true
   },
   "outputs": [
    {
     "name": "stdout",
     "output_type": "stream",
     "text": [
      "Sample of chord_dict: \n",
      "{'Fmaj7': ['F2', 'A2', 'C3', 'E3'], 'B-m11/F': ['F3', 'A-3', 'B-3', 'C4', 'D-4', 'E-4']}\n",
      "\n",
      "Sample of roman_dict: \n",
      "{'Fmaj7': 'IV7', 'B-m11/F': 'bvii76#543'}\n"
     ]
    }
   ],
   "source": [
    "# import all dictionaries\n",
    "\n",
    "with open(\"chord_dict.json\", \"r\") as chord_jf:\n",
    "    chord_dict = json.load(chord_jf)\n",
    "    \n",
    "with open(\"roman_dict.json\", \"r\") as roman_jf:\n",
    "    roman_dict = json.load(roman_jf)\n",
    "    \n",
    "\n",
    "print(f\"Sample of chord_dict: \\n{dict(itertools.islice(chord_dict.items(), 2))}\")\n",
    "print(f\"\\nSample of roman_dict: \\n{dict(itertools.islice(roman_dict.items(), 2))}\")"
   ]
  },
  {
   "cell_type": "code",
   "execution_count": 10,
   "id": "mediterranean-moral",
   "metadata": {
    "ExecuteTime": {
     "end_time": "2021-04-12T02:12:15.824338Z",
     "start_time": "2021-04-12T02:12:15.809338Z"
    },
    "scrolled": true
   },
   "outputs": [
    {
     "name": "stdout",
     "output_type": "stream",
     "text": [
      "<class 'pandas.core.frame.DataFrame'>\n",
      "RangeIndex: 1439 entries, 0 to 1438\n",
      "Data columns (total 4 columns):\n",
      " #   Column             Non-Null Count  Dtype \n",
      "---  ------             --------------  ----- \n",
      " 0   name               1439 non-null   object\n",
      " 1   chord_pitches      1439 non-null   object\n",
      " 2   roman              1439 non-null   object\n",
      " 3   chord_pitches_str  1439 non-null   object\n",
      "dtypes: object(4)\n",
      "memory usage: 45.1+ KB\n",
      "None\n"
     ]
    },
    {
     "data": {
      "text/html": [
       "<div>\n",
       "<style scoped>\n",
       "    .dataframe tbody tr th:only-of-type {\n",
       "        vertical-align: middle;\n",
       "    }\n",
       "\n",
       "    .dataframe tbody tr th {\n",
       "        vertical-align: top;\n",
       "    }\n",
       "\n",
       "    .dataframe thead th {\n",
       "        text-align: right;\n",
       "    }\n",
       "</style>\n",
       "<table border=\"1\" class=\"dataframe\">\n",
       "  <thead>\n",
       "    <tr style=\"text-align: right;\">\n",
       "      <th></th>\n",
       "      <th>name</th>\n",
       "      <th>chord_pitches</th>\n",
       "      <th>roman</th>\n",
       "      <th>chord_pitches_str</th>\n",
       "    </tr>\n",
       "  </thead>\n",
       "  <tbody>\n",
       "    <tr>\n",
       "      <th>0</th>\n",
       "      <td>Fmaj7</td>\n",
       "      <td>[F2, A2, C3, E3]</td>\n",
       "      <td>IV7</td>\n",
       "      <td>F2, A2, C3, E3</td>\n",
       "    </tr>\n",
       "    <tr>\n",
       "      <th>1</th>\n",
       "      <td>B-m11/F</td>\n",
       "      <td>[F3, A-3, B-3, C4, D-4, E-4]</td>\n",
       "      <td>bvii76#543</td>\n",
       "      <td>F3, A-3, B-3, C4, D-4, E-4</td>\n",
       "    </tr>\n",
       "    <tr>\n",
       "      <th>2</th>\n",
       "      <td>E/o7</td>\n",
       "      <td>[E3, G3, B-3, D4]</td>\n",
       "      <td>iii/o7b53</td>\n",
       "      <td>E3, G3, B-3, D4</td>\n",
       "    </tr>\n",
       "    <tr>\n",
       "      <th>3</th>\n",
       "      <td>Eo7</td>\n",
       "      <td>[E3, G3, B-3, D-4]</td>\n",
       "      <td>iiiob7b53</td>\n",
       "      <td>E3, G3, B-3, D-4</td>\n",
       "    </tr>\n",
       "    <tr>\n",
       "      <th>4</th>\n",
       "      <td>Dm9</td>\n",
       "      <td>[D2, F2, A2, C3, E3]</td>\n",
       "      <td>ii7532</td>\n",
       "      <td>D2, F2, A2, C3, E3</td>\n",
       "    </tr>\n",
       "  </tbody>\n",
       "</table>\n",
       "</div>"
      ],
      "text/plain": [
       "      name                 chord_pitches       roman  \\\n",
       "0    Fmaj7              [F2, A2, C3, E3]         IV7   \n",
       "1  B-m11/F  [F3, A-3, B-3, C4, D-4, E-4]  bvii76#543   \n",
       "2     E/o7             [E3, G3, B-3, D4]   iii/o7b53   \n",
       "3      Eo7            [E3, G3, B-3, D-4]   iiiob7b53   \n",
       "4      Dm9          [D2, F2, A2, C3, E3]      ii7532   \n",
       "\n",
       "            chord_pitches_str  \n",
       "0              F2, A2, C3, E3  \n",
       "1  F3, A-3, B-3, C4, D-4, E-4  \n",
       "2             E3, G3, B-3, D4  \n",
       "3            E3, G3, B-3, D-4  \n",
       "4          D2, F2, A2, C3, E3  "
      ]
     },
     "execution_count": 10,
     "metadata": {},
     "output_type": "execute_result"
    }
   ],
   "source": [
    "# Creating a dataframe with the dictionaries\n",
    "\n",
    "chord_definitions = pd.DataFrame(chord_dict.items(), columns=['name', 'chord_pitches'])\n",
    "chord_definitions['roman'] = roman_dict.values()\n",
    "chord_definitions['chord_pitches_str'] = chord_definitions['chord_pitches'].apply(lambda x: (', '.join(x)))\n",
    "print(chord_definitions.info())\n",
    "chord_definitions.head()"
   ]
  },
  {
   "cell_type": "markdown",
   "id": "educated-thousand",
   "metadata": {},
   "source": [
    "### Clustering: Chord Content Data - Cleaning Summary\n",
    "\n",
    "For the sake of continuity, these issues won't be resolved until after the RNN EDA, modeling, and results.  \n",
    "\n",
    "Issues to address:<br>\n",
    "- Chords that have the same content but are named differently\n",
    "- Chord notes have more duplicates for equivalent notes.  C# = D-, where \"-\" signifies a \"flat\" note\n",
    "- Columns to expand from chord name\n",
    "    - Pull specific identifiers (6, 7, 9, 11, 13, dim, sus..)\n",
    "- Columns to expand from roman notation\n",
    "    - Pull just the interval, denoted by roman numeral\n",
    "    - Upper case roman numerals signify \"major\" chords while lower case numerals signify a \"minor\" chord.\n",
    "    "
   ]
  },
  {
   "cell_type": "markdown",
   "id": "matched-necklace",
   "metadata": {},
   "source": [
    "## A common issue for both RNN and Clustering data: Chords that have the same content but are named differently\n",
    "\n",
    "The first order of business is to handle the first issue in both datasets.  Both datasets can go through data consolidation on the basis of chords that have the same pitch content but different chord names.  This is a problem because the models will be learning the patterns of a multiple chords with different names event though they all share the same application within a song.  Song Progression Data will require that these chords get replaced with a common chord name.  The Chord Content Data will require that duplicate chord contents with longer names be dropped.\n",
    "\n",
    "Chord definitions for which chords to drop and replace will be created from the Chord Content Data.  To accomplish this, first examine the chords that need to be addressed by identifying the duplicates."
   ]
  },
  {
   "cell_type": "code",
   "execution_count": 11,
   "id": "naughty-alexander",
   "metadata": {
    "ExecuteTime": {
     "end_time": "2021-04-12T02:12:15.837339Z",
     "start_time": "2021-04-12T02:12:15.825338Z"
    },
    "scrolled": false
   },
   "outputs": [
    {
     "name": "stdout",
     "output_type": "stream",
     "text": [
      "208 duplicates\n"
     ]
    },
    {
     "data": {
      "text/html": [
       "<div>\n",
       "<style scoped>\n",
       "    .dataframe tbody tr th:only-of-type {\n",
       "        vertical-align: middle;\n",
       "    }\n",
       "\n",
       "    .dataframe tbody tr th {\n",
       "        vertical-align: top;\n",
       "    }\n",
       "\n",
       "    .dataframe thead th {\n",
       "        text-align: right;\n",
       "    }\n",
       "</style>\n",
       "<table border=\"1\" class=\"dataframe\">\n",
       "  <thead>\n",
       "    <tr style=\"text-align: right;\">\n",
       "      <th></th>\n",
       "      <th>name</th>\n",
       "      <th>chord_pitches</th>\n",
       "      <th>roman</th>\n",
       "      <th>chord_pitches_str</th>\n",
       "    </tr>\n",
       "  </thead>\n",
       "  <tbody>\n",
       "    <tr>\n",
       "      <th>1293</th>\n",
       "      <td>E7/A#alterb5</td>\n",
       "      <td>[A#1, E3, G#3, B3, D4]</td>\n",
       "      <td>III#7542</td>\n",
       "      <td>A#1, E3, G#3, B3, D4</td>\n",
       "    </tr>\n",
       "    <tr>\n",
       "      <th>1155</th>\n",
       "      <td>E7/A#</td>\n",
       "      <td>[A#1, E3, G#3, B3, D4]</td>\n",
       "      <td>III#7542</td>\n",
       "      <td>A#1, E3, G#3, B3, D4</td>\n",
       "    </tr>\n",
       "    <tr>\n",
       "      <th>325</th>\n",
       "      <td>A#7</td>\n",
       "      <td>[A#2, C##3, E#3, G#3]</td>\n",
       "      <td>#VI75#3</td>\n",
       "      <td>A#2, C##3, E#3, G#3</td>\n",
       "    </tr>\n",
       "    <tr>\n",
       "      <th>682</th>\n",
       "      <td>A#7alterb5</td>\n",
       "      <td>[A#2, C##3, E#3, G#3]</td>\n",
       "      <td>#VI75#3</td>\n",
       "      <td>A#2, C##3, E#3, G#3</td>\n",
       "    </tr>\n",
       "    <tr>\n",
       "      <th>963</th>\n",
       "      <td>A--7alter#5</td>\n",
       "      <td>[A--2, C-3, E--3, G--3]</td>\n",
       "      <td>bbVI75#3</td>\n",
       "      <td>A--2, C-3, E--3, G--3</td>\n",
       "    </tr>\n",
       "    <tr>\n",
       "      <th>823</th>\n",
       "      <td>A--7</td>\n",
       "      <td>[A--2, C-3, E--3, G--3]</td>\n",
       "      <td>bbVI75#3</td>\n",
       "      <td>A--2, C-3, E--3, G--3</td>\n",
       "    </tr>\n",
       "    <tr>\n",
       "      <th>1171</th>\n",
       "      <td>A--7alter#3</td>\n",
       "      <td>[A--2, C-3, E--3, G--3]</td>\n",
       "      <td>bbVI75#3</td>\n",
       "      <td>A--2, C-3, E--3, G--3</td>\n",
       "    </tr>\n",
       "    <tr>\n",
       "      <th>818</th>\n",
       "      <td>A--7addb9</td>\n",
       "      <td>[A--2, C-3, E--3, G--3, B---3]</td>\n",
       "      <td>bbVI75#3b2</td>\n",
       "      <td>A--2, C-3, E--3, G--3, B---3</td>\n",
       "    </tr>\n",
       "    <tr>\n",
       "      <th>1113</th>\n",
       "      <td>A--7alter#3addb9</td>\n",
       "      <td>[A--2, C-3, E--3, G--3, B---3]</td>\n",
       "      <td>bbVI75#3b2</td>\n",
       "      <td>A--2, C-3, E--3, G--3, B---3</td>\n",
       "    </tr>\n",
       "  </tbody>\n",
       "</table>\n",
       "</div>"
      ],
      "text/plain": [
       "                  name                   chord_pitches       roman  \\\n",
       "1293      E7/A#alterb5          [A#1, E3, G#3, B3, D4]    III#7542   \n",
       "1155             E7/A#          [A#1, E3, G#3, B3, D4]    III#7542   \n",
       "325                A#7           [A#2, C##3, E#3, G#3]     #VI75#3   \n",
       "682         A#7alterb5           [A#2, C##3, E#3, G#3]     #VI75#3   \n",
       "963        A--7alter#5         [A--2, C-3, E--3, G--3]    bbVI75#3   \n",
       "823               A--7         [A--2, C-3, E--3, G--3]    bbVI75#3   \n",
       "1171       A--7alter#3         [A--2, C-3, E--3, G--3]    bbVI75#3   \n",
       "818          A--7addb9  [A--2, C-3, E--3, G--3, B---3]  bbVI75#3b2   \n",
       "1113  A--7alter#3addb9  [A--2, C-3, E--3, G--3, B---3]  bbVI75#3b2   \n",
       "\n",
       "                 chord_pitches_str  \n",
       "1293          A#1, E3, G#3, B3, D4  \n",
       "1155          A#1, E3, G#3, B3, D4  \n",
       "325            A#2, C##3, E#3, G#3  \n",
       "682            A#2, C##3, E#3, G#3  \n",
       "963          A--2, C-3, E--3, G--3  \n",
       "823          A--2, C-3, E--3, G--3  \n",
       "1171         A--2, C-3, E--3, G--3  \n",
       "818   A--2, C-3, E--3, G--3, B---3  \n",
       "1113  A--2, C-3, E--3, G--3, B---3  "
      ]
     },
     "execution_count": 11,
     "metadata": {},
     "output_type": "execute_result"
    }
   ],
   "source": [
    "# Finding how many duplicates need to be handled\n",
    "chord_duplicates = chord_definitions[chord_definitions['chord_pitches_str'].duplicated(keep=False)].sort_values('chord_pitches_str')\n",
    "dropped_duplicates = chord_definitions['chord_pitches_str'].drop_duplicates()\n",
    "print(f\"{chord_definitions.shape[0] - dropped_duplicates.shape[0]} duplicates\")\n",
    "chord_duplicates.head(9)"
   ]
  },
  {
   "cell_type": "markdown",
   "id": "abandoned-scientist",
   "metadata": {},
   "source": [
    "There are indeed chords that have the same pitches but are named differently.  The goal is to rename all chords with the same pitch content to some common name.  The shortest name will be used for simplicity.  This will be accomplished by grouping all chords with the same content and then creating lists of their various names."
   ]
  },
  {
   "cell_type": "code",
   "execution_count": 12,
   "id": "painful-honduras",
   "metadata": {
    "ExecuteTime": {
     "end_time": "2021-04-12T02:12:15.854340Z",
     "start_time": "2021-04-12T02:12:15.838339Z"
    },
    "scrolled": true
   },
   "outputs": [
    {
     "data": {
      "text/plain": [
       "chord_pitches_str\n",
       "A#1, E3, G#3, B3, D4                                       [E7/A#alterb5, E7/A#]\n",
       "A#2, C##3, E#3, G#3                                            [A#7, A#7alterb5]\n",
       "A--2, C-3, E--3, G--3                           [A--7alter#5, A--7, A--7alter#3]\n",
       "A--2, C-3, E--3, G--3, B---3                       [A--7addb9, A--7alter#3addb9]\n",
       "A--2, C-3, E--3, G--3, B--3                                  [A--9alter#3, A--9]\n",
       "                                                      ...                       \n",
       "G2, B2, D3, F3                                        [G7alter#3, G7alter#5, G7]\n",
       "G2, B2, D3, F3, A#3                                    [G7add#9, G7alter#5add#9]\n",
       "G2, B2, D3, F3, A-3             [G7alterb5addb9, G7alter#5addb9, G7alter#3addb9]\n",
       "G2, B2, D3, F3, A3                                    [G9alterb5, G9alter#5, G9]\n",
       "G2, B2, D3, F3, A3, C4, E4            [G13alter#11, G13alterb5, G13alter#3, G13]\n",
       "Length: 148, dtype: object"
      ]
     },
     "execution_count": 12,
     "metadata": {},
     "output_type": "execute_result"
    }
   ],
   "source": [
    "# group by chord_pitches_str and create list of unique 'names'\n",
    "group = chord_duplicates.groupby('chord_pitches_str')\n",
    "duplicates_series = group.apply(lambda x: x['name'].unique())\n",
    "duplicates_series"
   ]
  },
  {
   "cell_type": "markdown",
   "id": "developing-stand",
   "metadata": {},
   "source": [
    "From this duplicates_series, a dictionary can be created where the key is the chord name to be changed and the value is the common chord name we plan to use."
   ]
  },
  {
   "cell_type": "code",
   "execution_count": 13,
   "id": "flush-gazette",
   "metadata": {
    "ExecuteTime": {
     "end_time": "2021-04-12T02:12:15.864339Z",
     "start_time": "2021-04-12T02:12:15.855338Z"
    },
    "scrolled": true
   },
   "outputs": [
    {
     "name": "stdout",
     "output_type": "stream",
     "text": [
      "208\n"
     ]
    },
    {
     "data": {
      "text/plain": [
       "{'E7/A#alterb5': 'E7/A#',\n",
       " 'A#7alterb5': 'A#7',\n",
       " 'A--7alter#5': 'A--7',\n",
       " 'A--7alter#3': 'A--7',\n",
       " 'A--7alter#3addb9': 'A--7addb9',\n",
       " 'A--9alter#3': 'A--9',\n",
       " 'A--13alter#3': 'A--13',\n",
       " 'A-9alter#5': 'A-9',\n",
       " 'A-13alterb5': 'A-13',\n",
       " 'A-13alter#9alter#11': 'A-13',\n",
       " 'A-13alter#3': 'A-13',\n",
       " 'E-13/A-': 'A-M13',\n",
       " 'C-/A-': 'A-m7',\n",
       " 'Fm6/A-': 'D/o7/A-',\n",
       " 'A-7alterb5': 'A-7alter#5',\n",
       " 'A-9alterb5': 'A-9alter#3',\n",
       " 'A-7alter#5add#9': 'A-7add#9',\n",
       " 'A-maj7alterb5': 'A-maj7',\n",
       " 'A7alter#5add#9': 'A7add#9',\n",
       " 'A7alterb5add#9': 'A7add#9',\n",
       " 'A13alter#3': 'A13',\n",
       " 'Amaj7alterb5': 'Amaj7',\n",
       " 'A7alterb5': 'A7alter#3',\n",
       " 'A7alter#5': 'A7alter#3',\n",
       " 'A7alter#5addb9': 'A7addb9',\n",
       " 'A7alter#3addb9': 'A7addb9',\n",
       " 'A7alterb5addb9': 'A7addb9',\n",
       " 'A9alterb5': 'A9',\n",
       " 'A9alter#3': 'A9',\n",
       " 'A9alter#5': 'A9',\n",
       " 'A13alterb9alter#11': 'A13alter#9',\n",
       " 'A13alterb9alterb13': 'A13alter#9',\n",
       " 'A13alterb9': 'A13alter#9',\n",
       " 'F6/A': 'Dm7/A',\n",
       " 'Amalter#5': 'Am',\n",
       " 'C/A': 'Am7',\n",
       " 'Am7alter#5': 'Am7',\n",
       " 'Am9alterb5': 'Am9',\n",
       " 'A7alter#5alter#3': 'A7',\n",
       " 'B#13alterb9alterb13': 'B#13alter#3',\n",
       " 'B--7alter#3': 'B--7',\n",
       " 'B-9alter#5': 'B-9alter#3',\n",
       " 'B-13alter#3': 'B-13alter#11',\n",
       " 'B-13alter#5alterb9': 'B-13alter#11',\n",
       " 'G/o7/B-': 'B-m6',\n",
       " 'Gm6/B-': 'E/o7/B-',\n",
       " 'B-7alter#3': 'B-7',\n",
       " 'B-7alterb5': 'B-7',\n",
       " 'B-7alter#5': 'B-7',\n",
       " 'B-7alterb5add#9': 'B-7add#9',\n",
       " 'B-9alterb5': 'B-9',\n",
       " 'B-13alterb5': 'B-13',\n",
       " 'B-13alterb9': 'B-13',\n",
       " 'B-13alterb9alterb13': 'B-13',\n",
       " 'Gm7/B-': 'B-6',\n",
       " 'B7alterb5add#9': 'B7add#9',\n",
       " 'B9alterb5': 'B9',\n",
       " 'B13alterb9': 'B13',\n",
       " 'B13alterb5': 'B13',\n",
       " 'Bmaj7alterb5': 'Bmaj7',\n",
       " 'B7alterb5': 'B7alter#3',\n",
       " 'B7alter#5': 'B7alter#3',\n",
       " 'B9alter#5': 'B9alter#3',\n",
       " 'B7alterb5addb9': 'B7alter#5addb9',\n",
       " 'G6/B': 'Em7/B',\n",
       " 'Bmalter#5': 'Bm',\n",
       " 'Dm/B': 'B/o7',\n",
       " 'C#alterb5': 'C#',\n",
       " 'C#13alter#11': 'C#13',\n",
       " 'C#7alter#5': 'C#7',\n",
       " 'C#7alter#3': 'C#7',\n",
       " 'C#7alter#5add#9': 'C#7add#9',\n",
       " 'C#9alterb5': 'C#9',\n",
       " 'C#9alter#5': 'C#9',\n",
       " 'C#7alter#5addb9': 'C#7addb9',\n",
       " 'C#7alterb5addb9': 'C#7addb9',\n",
       " 'F#m7/C#': 'A6/C#',\n",
       " 'C#m7alter#5': 'C#m7',\n",
       " 'C-7alterb5': 'C-7',\n",
       " 'C-7alter#5addb9': 'C-7addb9',\n",
       " 'C-9alter#3': 'C-9',\n",
       " 'C-9alter#5': 'C-9',\n",
       " 'F13/C': 'Cm13',\n",
       " 'C7alter#5addb9': 'C7addb9',\n",
       " 'C9alter#5': 'C9alter#3',\n",
       " 'C13alter#3': 'C13alter#11',\n",
       " 'C13alterb9': 'C13alter#11',\n",
       " 'Em7/C': 'CM9',\n",
       " 'D7/C': 'D/C',\n",
       " 'Fm6/C': 'D/o7/C',\n",
       " 'F6/C': 'Dm7/C',\n",
       " 'C6': 'Am7/C',\n",
       " 'C7alter#5': 'C7',\n",
       " 'C7alter#3': 'C7',\n",
       " 'C7alter#5add#9': 'C7add#9',\n",
       " 'C9alterb5': 'C9',\n",
       " 'Cmaj7alter#5': 'Cmaj7',\n",
       " 'Cmaj7alterb5': 'Cmaj7',\n",
       " 'D#7alterb5': 'D#7alter#3',\n",
       " 'D#9alterb5': 'D#9',\n",
       " 'D--7alterb5': 'D--7',\n",
       " 'D--7alter#5': 'D--7',\n",
       " 'D-9alterb5': 'D-9',\n",
       " 'D-9alter#5': 'D-9',\n",
       " 'D-13alterb9': 'D-13alter#11',\n",
       " 'D-13alter#5': 'D-13alter#11',\n",
       " 'D-7alter#5add#9': 'D-7add#9',\n",
       " 'D-M13': 'A-13/D-alterb9',\n",
       " 'D-7alter#3': 'D-7',\n",
       " 'D-7alterb5': 'D-7',\n",
       " 'D-7alter#5': 'D-7',\n",
       " 'D-7alterb5addb9': 'D-7alter#5addb9',\n",
       " 'G9/Dalter#3': 'G9/D',\n",
       " 'C7/Dalter#5': 'C7/D',\n",
       " 'D7alter#3': 'D7',\n",
       " 'D7alter#5add#9': 'D7add#9',\n",
       " 'D7alterb5addb9': 'D7alter#5addb9',\n",
       " 'D9alter#5': 'D9',\n",
       " 'D9alterb5': 'D9',\n",
       " 'D9alter#3': 'D9',\n",
       " 'D13alterb9alterb13': 'D13alter#11',\n",
       " 'D13alterb9': 'D13alter#11',\n",
       " 'Dm6': 'B/o7/D',\n",
       " 'Gm6/D': 'E/o7/D',\n",
       " 'D7alterb5': 'D7alter#5',\n",
       " 'D7alter#3addb9': 'D7addb9',\n",
       " 'Dmalter#5': 'Dm',\n",
       " 'Dm7alter#5': 'Dm7',\n",
       " 'G7/Dalter#3': 'G7/D',\n",
       " 'B7/E#alterb5': 'B7/E#',\n",
       " 'E#7alter#5': 'E#7',\n",
       " 'Cm6/E-': 'A/o7/E-',\n",
       " 'E-9alter#5': 'E-9alter#3',\n",
       " 'E-13alterb9': 'E-13',\n",
       " 'E-13alterb5': 'E-13',\n",
       " 'E-7alterb5': 'E-7',\n",
       " 'E-7alter#5': 'E-7',\n",
       " 'E-7alter#3': 'E-7',\n",
       " 'E-9alterb5': 'E-9',\n",
       " 'E7alter#5add#9': 'E7add#9',\n",
       " 'E7alterb5add#9': 'E7add#9',\n",
       " 'E9alter#5': 'E9',\n",
       " 'E9alter#3': 'E9',\n",
       " 'E9alterb5': 'E9',\n",
       " 'E13alterb9alterb13': 'E13',\n",
       " 'E13alter#11': 'E13',\n",
       " 'E7alter#5addb9': 'E7addb9',\n",
       " 'Emalter#5': 'Em',\n",
       " 'E7alterb5': 'E7',\n",
       " 'E7alter#3': 'E7',\n",
       " 'C6/E': 'Am7/E',\n",
       " 'F#7alter#5': 'F#7',\n",
       " 'F#7alter#3': 'F#7',\n",
       " 'F#7alterb5': 'F#7',\n",
       " 'F#9alter#3': 'F#9',\n",
       " 'F#9alter#5': 'F#9',\n",
       " 'F#9alterb5': 'F#9',\n",
       " 'F#13alterb9': 'F#13alter#11',\n",
       " 'F#13alterb5': 'F#13alter#11',\n",
       " 'F#7alter#5addb9': 'F#7addb9',\n",
       " 'F#7alterb5addb9': 'F#7addb9',\n",
       " 'F#m7alter#5': 'F#m7',\n",
       " 'C9/F#alter#5': 'C9/F#',\n",
       " 'F-13alterb9alterb13': 'F-13alterb9',\n",
       " 'F-9alterb5': 'F-9',\n",
       " 'F-9alter#3': 'F-9',\n",
       " 'F13alter#3': 'F13',\n",
       " 'Fmalter#5': 'Fm',\n",
       " 'Fm7alter#5': 'Fm7',\n",
       " 'F7alterb5': 'F7',\n",
       " 'F7alter#3': 'F7',\n",
       " 'F7alterb5add#9': 'F7add#9',\n",
       " 'F7alter#5add#9': 'F7add#9',\n",
       " 'F7alter#5addb9': 'F7addb9',\n",
       " 'F9alterb5': 'F9alter#3',\n",
       " 'F9alter#5': 'F9alter#3',\n",
       " 'F13alterb5': 'F13alter#11',\n",
       " 'F13alterb9': 'F13alter#11',\n",
       " 'FM9': 'Am7/F',\n",
       " 'FM13alter#11': 'FM13',\n",
       " 'G7/Falter#3': 'G7/F',\n",
       " 'F6': 'Dm7/F',\n",
       " 'Fmaj7alterb5': 'Fmaj7alter#5',\n",
       " 'G#9alter#3': 'G#9',\n",
       " 'E/G#alterb5': 'E/G#',\n",
       " 'G#alterb5': 'G#',\n",
       " 'G#7alter#5': 'G#7alter#3',\n",
       " 'G#9alterb5': 'G#9alter#5',\n",
       " 'G-7alterb5': 'G-7',\n",
       " 'G-7alter#3': 'G-7',\n",
       " 'G-9alter#5': 'G-9',\n",
       " 'G-9alterb5': 'G-9',\n",
       " 'D13/Galterb9': 'D13/Galter#3alterb9alter#11',\n",
       " 'G13alterb9': 'G13alterb5alterb9',\n",
       " 'G7alter#3addb13': 'G7addb13',\n",
       " 'Cm6/G': 'A/o7/G',\n",
       " 'C7/Galter#3': 'C7/G',\n",
       " 'Gm9alterb5': 'Gm9',\n",
       " 'G7alter#3': 'G7',\n",
       " 'G7alter#5': 'G7',\n",
       " 'G7alter#5add#9': 'G7add#9',\n",
       " 'G7alterb5addb9': 'G7alter#3addb9',\n",
       " 'G7alter#5addb9': 'G7alter#3addb9',\n",
       " 'G9alterb5': 'G9',\n",
       " 'G9alter#5': 'G9',\n",
       " 'G13alter#11': 'G13',\n",
       " 'G13alterb5': 'G13',\n",
       " 'G13alter#3': 'G13'}"
      ]
     },
     "execution_count": 13,
     "metadata": {},
     "output_type": "execute_result"
    }
   ],
   "source": [
    "# create a dictionary {shortest chord name : [list of chords with longer names]}\n",
    "duplicates_dict = {}\n",
    "duplicates_master = []\n",
    "for dups in duplicates_series:\n",
    "    shortest_dup = dups.min()\n",
    "    long_dups = np.delete(dups, dups.argmin())\n",
    "    for dup in long_dups:\n",
    "        duplicates_dict[dup] = shortest_dup\n",
    "        duplicates_master.append(dup)\n",
    "print(len(duplicates_master))\n",
    "duplicates_dict"
   ]
  },
  {
   "cell_type": "markdown",
   "id": "indian-declaration",
   "metadata": {
    "ExecuteTime": {
     "end_time": "2021-04-06T13:57:06.185708Z",
     "start_time": "2021-04-06T13:56:53.439Z"
    },
    "scrolled": true
   },
   "source": [
    "### Resolving duplicate chord issue for clustering data\n",
    "If the chord_def table has any chords that exist in the `duplicates_master` list, then those rows will be dropped since another chord with a shorter name retains the same information.  "
   ]
  },
  {
   "cell_type": "code",
   "execution_count": 14,
   "id": "subjective-authorization",
   "metadata": {
    "ExecuteTime": {
     "end_time": "2021-04-12T02:12:15.903338Z",
     "start_time": "2021-04-12T02:12:15.865337Z"
    },
    "scrolled": true
   },
   "outputs": [
    {
     "name": "stdout",
     "output_type": "stream",
     "text": [
      "208\n"
     ]
    },
    {
     "data": {
      "text/html": [
       "<div>\n",
       "<style scoped>\n",
       "    .dataframe tbody tr th:only-of-type {\n",
       "        vertical-align: middle;\n",
       "    }\n",
       "\n",
       "    .dataframe tbody tr th {\n",
       "        vertical-align: top;\n",
       "    }\n",
       "\n",
       "    .dataframe thead th {\n",
       "        text-align: right;\n",
       "    }\n",
       "</style>\n",
       "<table border=\"1\" class=\"dataframe\">\n",
       "  <thead>\n",
       "    <tr style=\"text-align: right;\">\n",
       "      <th></th>\n",
       "      <th>name</th>\n",
       "      <th>chord_pitches</th>\n",
       "      <th>roman</th>\n",
       "      <th>chord_pitches_str</th>\n",
       "    </tr>\n",
       "  </thead>\n",
       "  <tbody>\n",
       "    <tr>\n",
       "      <th>0</th>\n",
       "      <td>Fmaj7</td>\n",
       "      <td>[F2, A2, C3, E3]</td>\n",
       "      <td>IV7</td>\n",
       "      <td>F2, A2, C3, E3</td>\n",
       "    </tr>\n",
       "    <tr>\n",
       "      <th>1</th>\n",
       "      <td>B-m11/F</td>\n",
       "      <td>[F3, A-3, B-3, C4, D-4, E-4]</td>\n",
       "      <td>bvii76#543</td>\n",
       "      <td>F3, A-3, B-3, C4, D-4, E-4</td>\n",
       "    </tr>\n",
       "    <tr>\n",
       "      <th>2</th>\n",
       "      <td>E/o7</td>\n",
       "      <td>[E3, G3, B-3, D4]</td>\n",
       "      <td>iii/o7b53</td>\n",
       "      <td>E3, G3, B-3, D4</td>\n",
       "    </tr>\n",
       "    <tr>\n",
       "      <th>3</th>\n",
       "      <td>Eo7</td>\n",
       "      <td>[E3, G3, B-3, D-4]</td>\n",
       "      <td>iiiob7b53</td>\n",
       "      <td>E3, G3, B-3, D-4</td>\n",
       "    </tr>\n",
       "    <tr>\n",
       "      <th>4</th>\n",
       "      <td>Dm9</td>\n",
       "      <td>[D2, F2, A2, C3, E3]</td>\n",
       "      <td>ii7532</td>\n",
       "      <td>D2, F2, A2, C3, E3</td>\n",
       "    </tr>\n",
       "    <tr>\n",
       "      <th>...</th>\n",
       "      <td>...</td>\n",
       "      <td>...</td>\n",
       "      <td>...</td>\n",
       "      <td>...</td>\n",
       "    </tr>\n",
       "    <tr>\n",
       "      <th>1434</th>\n",
       "      <td>Fsus/B-</td>\n",
       "      <td>[B-2, C3, F3]</td>\n",
       "      <td>iv52</td>\n",
       "      <td>B-2, C3, F3</td>\n",
       "    </tr>\n",
       "    <tr>\n",
       "      <th>1435</th>\n",
       "      <td>C#/B</td>\n",
       "      <td>[B1, C#3, E#3, G#3]</td>\n",
       "      <td>#I42</td>\n",
       "      <td>B1, C#3, E#3, G#3</td>\n",
       "    </tr>\n",
       "    <tr>\n",
       "      <th>1436</th>\n",
       "      <td>C#/B#</td>\n",
       "      <td>[B#1, C#3, E#3, G#3]</td>\n",
       "      <td>#I42</td>\n",
       "      <td>B#1, C#3, E#3, G#3</td>\n",
       "    </tr>\n",
       "    <tr>\n",
       "      <th>1437</th>\n",
       "      <td>F#/E#</td>\n",
       "      <td>[E#2, F#3, A#3, C#4]</td>\n",
       "      <td>#IV42</td>\n",
       "      <td>E#2, F#3, A#3, C#4</td>\n",
       "    </tr>\n",
       "    <tr>\n",
       "      <th>1438</th>\n",
       "      <td>CM9/E</td>\n",
       "      <td>[E3, G3, B3, C4, D4]</td>\n",
       "      <td>I7653</td>\n",
       "      <td>E3, G3, B3, C4, D4</td>\n",
       "    </tr>\n",
       "  </tbody>\n",
       "</table>\n",
       "<p>1231 rows × 4 columns</p>\n",
       "</div>"
      ],
      "text/plain": [
       "         name                 chord_pitches       roman  \\\n",
       "0       Fmaj7              [F2, A2, C3, E3]         IV7   \n",
       "1     B-m11/F  [F3, A-3, B-3, C4, D-4, E-4]  bvii76#543   \n",
       "2        E/o7             [E3, G3, B-3, D4]   iii/o7b53   \n",
       "3         Eo7            [E3, G3, B-3, D-4]   iiiob7b53   \n",
       "4         Dm9          [D2, F2, A2, C3, E3]      ii7532   \n",
       "...       ...                           ...         ...   \n",
       "1434  Fsus/B-                 [B-2, C3, F3]        iv52   \n",
       "1435     C#/B           [B1, C#3, E#3, G#3]        #I42   \n",
       "1436    C#/B#          [B#1, C#3, E#3, G#3]        #I42   \n",
       "1437    F#/E#          [E#2, F#3, A#3, C#4]       #IV42   \n",
       "1438    CM9/E          [E3, G3, B3, C4, D4]       I7653   \n",
       "\n",
       "               chord_pitches_str  \n",
       "0                 F2, A2, C3, E3  \n",
       "1     F3, A-3, B-3, C4, D-4, E-4  \n",
       "2                E3, G3, B-3, D4  \n",
       "3               E3, G3, B-3, D-4  \n",
       "4             D2, F2, A2, C3, E3  \n",
       "...                          ...  \n",
       "1434                 B-2, C3, F3  \n",
       "1435           B1, C#3, E#3, G#3  \n",
       "1436          B#1, C#3, E#3, G#3  \n",
       "1437          E#2, F#3, A#3, C#4  \n",
       "1438          E3, G3, B3, C4, D4  \n",
       "\n",
       "[1231 rows x 4 columns]"
      ]
     },
     "execution_count": 14,
     "metadata": {},
     "output_type": "execute_result"
    }
   ],
   "source": [
    "chord_def = chord_definitions[~chord_definitions['name'].isin(duplicates_master)]\n",
    "print(chord_definitions.shape[0] - chord_def.shape[0])\n",
    "chord_def.reset_index(drop=True)\n",
    "chord_def"
   ]
  },
  {
   "cell_type": "markdown",
   "id": "biblical-cruise",
   "metadata": {},
   "source": [
    "Though duplicates exist in the roman numeral notation, they will be kept for the sake of distinguishing the similarity of chords that have the same pitches in varied orders.  Chords can share a similar roman notation but have different chord contents.   "
   ]
  },
  {
   "cell_type": "markdown",
   "id": "confirmed-knowing",
   "metadata": {},
   "source": [
    "### Resolving duplicate chord issue for the RNN data"
   ]
  },
  {
   "cell_type": "markdown",
   "id": "fewer-singapore",
   "metadata": {},
   "source": [
    "For the `chord_list` progression dataframe, keys of `duplicates_dict` that occur in the progression data need to replaced with the values of `duplicates_dict`"
   ]
  },
  {
   "cell_type": "code",
   "execution_count": 15,
   "id": "rubber-effect",
   "metadata": {
    "ExecuteTime": {
     "end_time": "2021-04-12T02:12:15.924341Z",
     "start_time": "2021-04-12T02:12:15.904337Z"
    },
    "scrolled": true
   },
   "outputs": [
    {
     "data": {
      "text/html": [
       "<div>\n",
       "<style scoped>\n",
       "    .dataframe tbody tr th:only-of-type {\n",
       "        vertical-align: middle;\n",
       "    }\n",
       "\n",
       "    .dataframe tbody tr th {\n",
       "        vertical-align: top;\n",
       "    }\n",
       "\n",
       "    .dataframe thead th {\n",
       "        text-align: right;\n",
       "    }\n",
       "</style>\n",
       "<table border=\"1\" class=\"dataframe\">\n",
       "  <thead>\n",
       "    <tr style=\"text-align: right;\">\n",
       "      <th></th>\n",
       "      <th>song_title</th>\n",
       "      <th>chord_progression</th>\n",
       "      <th>chord_list</th>\n",
       "      <th>num_unique</th>\n",
       "      <th>prog_length</th>\n",
       "    </tr>\n",
       "  </thead>\n",
       "  <tbody>\n",
       "    <tr>\n",
       "      <th>24</th>\n",
       "      <td>A Flower Is A Lovesome Thing - Billy Strayhorn</td>\n",
       "      <td>Fmaj7 Dm7 Gm7 C13alterb9 Fmaj7 Dm7 Gm7 C7addb9...</td>\n",
       "      <td>[Fmaj7, Dm7, Gm7, C13alterb9, Fmaj7, Dm7, Gm7,...</td>\n",
       "      <td>24</td>\n",
       "      <td>58</td>\n",
       "    </tr>\n",
       "    <tr>\n",
       "      <th>56</th>\n",
       "      <td>A Sleeping Bee - Arlen</td>\n",
       "      <td>F C7alter#3 Fmaj7 C7alter#3 F G#maj7 C#maj7 F#...</td>\n",
       "      <td>[F, C7alter#3, Fmaj7, C7alter#3, F, G#maj7, C#...</td>\n",
       "      <td>44</td>\n",
       "      <td>87</td>\n",
       "    </tr>\n",
       "    <tr>\n",
       "      <th>70</th>\n",
       "      <td>A Woman Is A Sometime Thing - Gershwin &amp; Heyward</td>\n",
       "      <td>Am C#7alter#5 Dm7 F7 Am F7 D Em7 E7 Am E7 Am E...</td>\n",
       "      <td>[Am, C#7alter#5, Dm7, F7, Am, F7, D, Em7, E7, ...</td>\n",
       "      <td>15</td>\n",
       "      <td>97</td>\n",
       "    </tr>\n",
       "    <tr>\n",
       "      <th>249</th>\n",
       "      <td>Bag Of Blues</td>\n",
       "      <td>C13 C#7alter#5 C13 F#9 F13 B-9 E-13 A-7 G7 C13...</td>\n",
       "      <td>[C13, C#7alter#5, C13, F#9, F13, B-9, E-13, A-...</td>\n",
       "      <td>18</td>\n",
       "      <td>39</td>\n",
       "    </tr>\n",
       "    <tr>\n",
       "      <th>738</th>\n",
       "      <td>Deixa - Baden Powell</td>\n",
       "      <td>F#m7 Dmaj7 E9 Amaj7 Em7 Dmaj7 Bm7 C#7add#9 F#m...</td>\n",
       "      <td>[F#m7, Dmaj7, E9, Amaj7, Em7, Dmaj7, Bm7, C#7a...</td>\n",
       "      <td>14</td>\n",
       "      <td>24</td>\n",
       "    </tr>\n",
       "    <tr>\n",
       "      <th>762</th>\n",
       "      <td>Estate - Joao Gilberto</td>\n",
       "      <td>Em9 E-/o7 Dm9 Gm7 A7 Dm9 Gm7 C9 Cm7 F7/F# B- G...</td>\n",
       "      <td>[Em9, E-/o7, Dm9, Gm7, A7, Dm9, Gm7, C9, Cm7, ...</td>\n",
       "      <td>21</td>\n",
       "      <td>66</td>\n",
       "    </tr>\n",
       "    <tr>\n",
       "      <th>1184</th>\n",
       "      <td>Speak No Evil - Wayne Shorter</td>\n",
       "      <td>Em7 Fmaj7 Em7 Fmaj7 Em7 Fmaj7 Em7 Fmaj7 G#m7 C...</td>\n",
       "      <td>[Em7, Fmaj7, Em7, Fmaj7, Em7, Fmaj7, Em7, Fmaj...</td>\n",
       "      <td>15</td>\n",
       "      <td>56</td>\n",
       "    </tr>\n",
       "    <tr>\n",
       "      <th>1209</th>\n",
       "      <td>Star Crossed Lovers</td>\n",
       "      <td>B-maj7 C#7/B Fmaj7/C Dm7 Gm7 C9 Fmaj7 B9alterb...</td>\n",
       "      <td>[B-maj7, C#7/B, Fmaj7/C, Dm7, Gm7, C9, Fmaj7, ...</td>\n",
       "      <td>23</td>\n",
       "      <td>43</td>\n",
       "    </tr>\n",
       "    <tr>\n",
       "      <th>1608</th>\n",
       "      <td>Ugetsu - Cedar Walton</td>\n",
       "      <td>D9alter#3 Bm7 E13 E-9alterb5 Dmaj7 C#7alter#5 ...</td>\n",
       "      <td>[D9alter#3, Bm7, E13, E-9alterb5, Dmaj7, C#7al...</td>\n",
       "      <td>14</td>\n",
       "      <td>15</td>\n",
       "    </tr>\n",
       "  </tbody>\n",
       "</table>\n",
       "</div>"
      ],
      "text/plain": [
       "                                            song_title  \\\n",
       "24      A Flower Is A Lovesome Thing - Billy Strayhorn   \n",
       "56                              A Sleeping Bee - Arlen   \n",
       "70    A Woman Is A Sometime Thing - Gershwin & Heyward   \n",
       "249                                       Bag Of Blues   \n",
       "738                               Deixa - Baden Powell   \n",
       "762                             Estate - Joao Gilberto   \n",
       "1184                     Speak No Evil - Wayne Shorter   \n",
       "1209                               Star Crossed Lovers   \n",
       "1608                             Ugetsu - Cedar Walton   \n",
       "\n",
       "                                      chord_progression  \\\n",
       "24    Fmaj7 Dm7 Gm7 C13alterb9 Fmaj7 Dm7 Gm7 C7addb9...   \n",
       "56    F C7alter#3 Fmaj7 C7alter#3 F G#maj7 C#maj7 F#...   \n",
       "70    Am C#7alter#5 Dm7 F7 Am F7 D Em7 E7 Am E7 Am E...   \n",
       "249   C13 C#7alter#5 C13 F#9 F13 B-9 E-13 A-7 G7 C13...   \n",
       "738   F#m7 Dmaj7 E9 Amaj7 Em7 Dmaj7 Bm7 C#7add#9 F#m...   \n",
       "762   Em9 E-/o7 Dm9 Gm7 A7 Dm9 Gm7 C9 Cm7 F7/F# B- G...   \n",
       "1184  Em7 Fmaj7 Em7 Fmaj7 Em7 Fmaj7 Em7 Fmaj7 G#m7 C...   \n",
       "1209  B-maj7 C#7/B Fmaj7/C Dm7 Gm7 C9 Fmaj7 B9alterb...   \n",
       "1608  D9alter#3 Bm7 E13 E-9alterb5 Dmaj7 C#7alter#5 ...   \n",
       "\n",
       "                                             chord_list  num_unique  \\\n",
       "24    [Fmaj7, Dm7, Gm7, C13alterb9, Fmaj7, Dm7, Gm7,...          24   \n",
       "56    [F, C7alter#3, Fmaj7, C7alter#3, F, G#maj7, C#...          44   \n",
       "70    [Am, C#7alter#5, Dm7, F7, Am, F7, D, Em7, E7, ...          15   \n",
       "249   [C13, C#7alter#5, C13, F#9, F13, B-9, E-13, A-...          18   \n",
       "738   [F#m7, Dmaj7, E9, Amaj7, Em7, Dmaj7, Bm7, C#7a...          14   \n",
       "762   [Em9, E-/o7, Dm9, Gm7, A7, Dm9, Gm7, C9, Cm7, ...          21   \n",
       "1184  [Em7, Fmaj7, Em7, Fmaj7, Em7, Fmaj7, Em7, Fmaj...          15   \n",
       "1209  [B-maj7, C#7/B, Fmaj7/C, Dm7, Gm7, C9, Fmaj7, ...          23   \n",
       "1608  [D9alter#3, Bm7, E13, E-9alterb5, Dmaj7, C#7al...          14   \n",
       "\n",
       "      prog_length  \n",
       "24             58  \n",
       "56             87  \n",
       "70             97  \n",
       "249            39  \n",
       "738            24  \n",
       "762            66  \n",
       "1184           56  \n",
       "1209           43  \n",
       "1608           15  "
      ]
     },
     "execution_count": 15,
     "metadata": {},
     "output_type": "execute_result"
    }
   ],
   "source": [
    "# spot checking to see if any keys from duplicates_dict exist\n",
    "substring = 'C#7alter#5'\n",
    "df[df['chord_progression'].apply(lambda x: x.find(substring) != -1)]"
   ]
  },
  {
   "cell_type": "code",
   "execution_count": 16,
   "id": "atmospheric-connectivity",
   "metadata": {
    "ExecuteTime": {
     "end_time": "2021-04-12T02:12:16.098338Z",
     "start_time": "2021-04-12T02:12:15.925339Z"
    }
   },
   "outputs": [],
   "source": [
    "# Create tuples where keys and values are accessed as indices\n",
    "duplicate_tuples = duplicates_dict.items()\n",
    "for pair in duplicate_tuples:\n",
    "    df['chord_progression'] = df['chord_progression'].apply(lambda x: x.replace(pair[0], pair[1]))"
   ]
  },
  {
   "cell_type": "code",
   "execution_count": 17,
   "id": "pending-blond",
   "metadata": {
    "ExecuteTime": {
     "end_time": "2021-04-12T02:12:16.105839Z",
     "start_time": "2021-04-12T02:12:16.099338Z"
    },
    "scrolled": true
   },
   "outputs": [
    {
     "data": {
      "text/html": [
       "<div>\n",
       "<style scoped>\n",
       "    .dataframe tbody tr th:only-of-type {\n",
       "        vertical-align: middle;\n",
       "    }\n",
       "\n",
       "    .dataframe tbody tr th {\n",
       "        vertical-align: top;\n",
       "    }\n",
       "\n",
       "    .dataframe thead th {\n",
       "        text-align: right;\n",
       "    }\n",
       "</style>\n",
       "<table border=\"1\" class=\"dataframe\">\n",
       "  <thead>\n",
       "    <tr style=\"text-align: right;\">\n",
       "      <th></th>\n",
       "      <th>song_title</th>\n",
       "      <th>chord_progression</th>\n",
       "      <th>chord_list</th>\n",
       "      <th>num_unique</th>\n",
       "      <th>prog_length</th>\n",
       "    </tr>\n",
       "  </thead>\n",
       "  <tbody>\n",
       "  </tbody>\n",
       "</table>\n",
       "</div>"
      ],
      "text/plain": [
       "Empty DataFrame\n",
       "Columns: [song_title, chord_progression, chord_list, num_unique, prog_length]\n",
       "Index: []"
      ]
     },
     "execution_count": 17,
     "metadata": {},
     "output_type": "execute_result"
    }
   ],
   "source": [
    "# spot checking to see if any keys from duplicates_dict exist\n",
    "substring = 'C#7alter#5'\n",
    "df[df['chord_progression'].apply(lambda x: x.find(substring) != -1)]"
   ]
  },
  {
   "cell_type": "markdown",
   "id": "focused-intermediate",
   "metadata": {},
   "source": [
    "The columns can all be cleaned up now where:<br>\n",
    "- chord_list is a list with the replaced duplicated chords\n",
    "- num_unique chords are recalculated based on the consolidated chords\n",
    "- prog_length is also recalculated but should not have changed value"
   ]
  },
  {
   "cell_type": "code",
   "execution_count": 18,
   "id": "endless-topic",
   "metadata": {
    "ExecuteTime": {
     "end_time": "2021-04-12T02:12:16.144839Z",
     "start_time": "2021-04-12T02:12:16.106837Z"
    }
   },
   "outputs": [
    {
     "name": "stdout",
     "output_type": "stream",
     "text": [
      "<class 'pandas.core.frame.DataFrame'>\n",
      "RangeIndex: 1875 entries, 0 to 1874\n",
      "Data columns (total 5 columns):\n",
      " #   Column             Non-Null Count  Dtype \n",
      "---  ------             --------------  ----- \n",
      " 0   song_title         1875 non-null   object\n",
      " 1   chord_progression  1875 non-null   object\n",
      " 2   chord_list         1875 non-null   object\n",
      " 3   num_unique         1875 non-null   int64 \n",
      " 4   prog_length        1875 non-null   int64 \n",
      "dtypes: int64(2), object(3)\n",
      "memory usage: 73.4+ KB\n",
      "None\n",
      "\n",
      "Type of chord_progression: <class 'str'>\n",
      "\n",
      "Type of chord_list: <class 'list'>\n",
      "\n"
     ]
    }
   ],
   "source": [
    "# recalculate the chord_list column and num_unique column since chord names have changed.  prog_length should remain the same\n",
    "df['chord_list'] = df['chord_progression'].apply(lambda x: list(x.split(' ')))\n",
    "df['num_unique'] = df['chord_list'].apply(lambda x: len(set(x)))\n",
    "df['prog_length'] = df['chord_list'].apply(lambda x: len(x))\n",
    "print(df.info())\n",
    "print(f\"\\nType of chord_progression: {type(df['chord_progression'][0])}\")\n",
    "print(f\"\\nType of chord_list: {type(df['chord_list'][0])}\\n\")\n"
   ]
  },
  {
   "cell_type": "markdown",
   "id": "protective-canal",
   "metadata": {},
   "source": [
    "Now that both datasets have addressed the issue of chords sharing the same contents while having unique names, EDA can continue as a separate efforts between RNNs and Clustering."
   ]
  },
  {
   "cell_type": "markdown",
   "id": "narrow-duncan",
   "metadata": {},
   "source": [
    "## RNN: Chord Progression Data - Further EDA\n",
    "\n",
    "Issues to address:<br>\n",
    "- ~~Chords that have the same content but are named differently~~\n",
    "- Songs with few unique chords\n",
    "- Song lengths and notion of repetition\n"
   ]
  },
  {
   "cell_type": "markdown",
   "id": "stock-communications",
   "metadata": {},
   "source": [
    "### Handling songs with too few unique chords\n",
    "If a song has only 4 unique chords but has a progression length of 120, that means that the 4 chord progression is likely repeating 30 times.  To prevent our model from learning such a repetitive process, such songs will be removed from the dataset.  \n",
    "\n",
    "Decisions will be based on the .describe() function of the `num_unique` column.  This will be done by dropping songs that are below 1 standard deviation from the mean."
   ]
  },
  {
   "cell_type": "code",
   "execution_count": 19,
   "id": "pressing-loading",
   "metadata": {
    "ExecuteTime": {
     "end_time": "2021-04-12T02:12:16.162839Z",
     "start_time": "2021-04-12T02:12:16.145338Z"
    },
    "scrolled": false
   },
   "outputs": [
    {
     "data": {
      "text/plain": [
       "count    1875.000000\n",
       "mean       16.412267\n",
       "std        10.173530\n",
       "min         1.000000\n",
       "25%         9.000000\n",
       "50%        15.000000\n",
       "75%        21.000000\n",
       "max        79.000000\n",
       "Name: num_unique, dtype: float64"
      ]
     },
     "execution_count": 19,
     "metadata": {},
     "output_type": "execute_result"
    }
   ],
   "source": [
    "df['num_unique'].describe()"
   ]
  },
  {
   "cell_type": "code",
   "execution_count": 20,
   "id": "varying-trance",
   "metadata": {
    "ExecuteTime": {
     "end_time": "2021-04-12T02:12:16.184341Z",
     "start_time": "2021-04-12T02:12:16.163337Z"
    },
    "scrolled": true
   },
   "outputs": [
    {
     "data": {
      "text/html": [
       "<div>\n",
       "<style scoped>\n",
       "    .dataframe tbody tr th:only-of-type {\n",
       "        vertical-align: middle;\n",
       "    }\n",
       "\n",
       "    .dataframe tbody tr th {\n",
       "        vertical-align: top;\n",
       "    }\n",
       "\n",
       "    .dataframe thead th {\n",
       "        text-align: right;\n",
       "    }\n",
       "</style>\n",
       "<table border=\"1\" class=\"dataframe\">\n",
       "  <thead>\n",
       "    <tr style=\"text-align: right;\">\n",
       "      <th></th>\n",
       "      <th>song_title</th>\n",
       "      <th>chord_progression</th>\n",
       "      <th>chord_list</th>\n",
       "      <th>num_unique</th>\n",
       "      <th>prog_length</th>\n",
       "    </tr>\n",
       "  </thead>\n",
       "  <tbody>\n",
       "    <tr>\n",
       "      <th>0</th>\n",
       "      <td>A Child is Born</td>\n",
       "      <td>Fmaj7 B-m11/F Fmaj7 B-m11/F Fmaj7 B-m11/F Fmaj...</td>\n",
       "      <td>[Fmaj7, B-m11/F, Fmaj7, B-m11/F, Fmaj7, B-m11/...</td>\n",
       "      <td>19</td>\n",
       "      <td>79</td>\n",
       "    </tr>\n",
       "    <tr>\n",
       "      <th>1</th>\n",
       "      <td>Volare</td>\n",
       "      <td>C C#dim Dm Dm7 G7 Dm7 G7 C G7 Cmaj7 Am7/C C/E ...</td>\n",
       "      <td>[C, C#dim, Dm, Dm7, G7, Dm7, G7, C, G7, Cmaj7,...</td>\n",
       "      <td>31</td>\n",
       "      <td>73</td>\n",
       "    </tr>\n",
       "    <tr>\n",
       "      <th>2</th>\n",
       "      <td>Wayne Shorter - Speak No Evil</td>\n",
       "      <td>Em7 Fmaj7 Em7 Fmaj7 Em7 Fmaj7 Em7 Fmaj7 Gm7 G#...</td>\n",
       "      <td>[Em7, Fmaj7, Em7, Fmaj7, Em7, Fmaj7, Em7, Fmaj...</td>\n",
       "      <td>14</td>\n",
       "      <td>45</td>\n",
       "    </tr>\n",
       "    <tr>\n",
       "      <th>3</th>\n",
       "      <td>Y Viva España</td>\n",
       "      <td>G7 Cm B- A- G7 Cm B- A- G7 Cm B- A- G7 A- G7 D...</td>\n",
       "      <td>[G7, Cm, B-, A-, G7, Cm, B-, A-, G7, Cm, B-, A...</td>\n",
       "      <td>9</td>\n",
       "      <td>42</td>\n",
       "    </tr>\n",
       "    <tr>\n",
       "      <th>4</th>\n",
       "      <td>Yesterday</td>\n",
       "      <td>C Bm7 E7 Am Am/G F G7 C G/B Am D F C E11 E7 Am...</td>\n",
       "      <td>[C, Bm7, E7, Am, Am/G, F, G7, C, G/B, Am, D, F...</td>\n",
       "      <td>15</td>\n",
       "      <td>47</td>\n",
       "    </tr>\n",
       "  </tbody>\n",
       "</table>\n",
       "</div>"
      ],
      "text/plain": [
       "                      song_title  \\\n",
       "0                A Child is Born   \n",
       "1                         Volare   \n",
       "2  Wayne Shorter - Speak No Evil   \n",
       "3                  Y Viva España   \n",
       "4                      Yesterday   \n",
       "\n",
       "                                   chord_progression  \\\n",
       "0  Fmaj7 B-m11/F Fmaj7 B-m11/F Fmaj7 B-m11/F Fmaj...   \n",
       "1  C C#dim Dm Dm7 G7 Dm7 G7 C G7 Cmaj7 Am7/C C/E ...   \n",
       "2  Em7 Fmaj7 Em7 Fmaj7 Em7 Fmaj7 Em7 Fmaj7 Gm7 G#...   \n",
       "3  G7 Cm B- A- G7 Cm B- A- G7 Cm B- A- G7 A- G7 D...   \n",
       "4  C Bm7 E7 Am Am/G F G7 C G/B Am D F C E11 E7 Am...   \n",
       "\n",
       "                                          chord_list  num_unique  prog_length  \n",
       "0  [Fmaj7, B-m11/F, Fmaj7, B-m11/F, Fmaj7, B-m11/...          19           79  \n",
       "1  [C, C#dim, Dm, Dm7, G7, Dm7, G7, C, G7, Cmaj7,...          31           73  \n",
       "2  [Em7, Fmaj7, Em7, Fmaj7, Em7, Fmaj7, Em7, Fmaj...          14           45  \n",
       "3  [G7, Cm, B-, A-, G7, Cm, B-, A-, G7, Cm, B-, A...           9           42  \n",
       "4  [C, Bm7, E7, Am, Am/G, F, G7, C, G/B, Am, D, F...          15           47  "
      ]
     },
     "execution_count": 20,
     "metadata": {},
     "output_type": "execute_result"
    }
   ],
   "source": [
    "df.drop(df[df['num_unique']<8].index, inplace=True)\n",
    "df.head()"
   ]
  },
  {
   "cell_type": "code",
   "execution_count": 21,
   "id": "environmental-scheduling",
   "metadata": {
    "ExecuteTime": {
     "end_time": "2021-04-12T02:12:16.191339Z",
     "start_time": "2021-04-12T02:12:16.184839Z"
    },
    "scrolled": true
   },
   "outputs": [
    {
     "data": {
      "text/plain": [
       "count    1545.000000\n",
       "mean       18.862783\n",
       "std         9.535145\n",
       "min         8.000000\n",
       "25%        12.000000\n",
       "50%        17.000000\n",
       "75%        23.000000\n",
       "max        79.000000\n",
       "Name: num_unique, dtype: float64"
      ]
     },
     "execution_count": 21,
     "metadata": {},
     "output_type": "execute_result"
    }
   ],
   "source": [
    "df['num_unique'].describe()"
   ]
  },
  {
   "cell_type": "markdown",
   "id": "pursuant-replica",
   "metadata": {},
   "source": [
    "### Handling wide range of song lengths\n",
    "\n",
    "Since the goal is to format data for an RNN, a sequence length must be determined.  With such a wide range of prog_length among songs, as well as a varying number of unique chords per song, a balance will be targeted that can properly represent the unique chords in each song."
   ]
  },
  {
   "cell_type": "code",
   "execution_count": 22,
   "id": "stable-theme",
   "metadata": {
    "ExecuteTime": {
     "end_time": "2021-04-12T02:12:16.197339Z",
     "start_time": "2021-04-12T02:12:16.191838Z"
    },
    "scrolled": true
   },
   "outputs": [
    {
     "data": {
      "text/plain": [
       "count    1545.000000\n",
       "mean       64.592233\n",
       "std        45.160373\n",
       "min        12.000000\n",
       "25%        38.000000\n",
       "50%        53.000000\n",
       "75%        75.000000\n",
       "max       467.000000\n",
       "Name: prog_length, dtype: float64"
      ]
     },
     "execution_count": 22,
     "metadata": {},
     "output_type": "execute_result"
    }
   ],
   "source": [
    "df['prog_length'].describe()"
   ]
  },
  {
   "cell_type": "code",
   "execution_count": 23,
   "id": "precious-newport",
   "metadata": {
    "ExecuteTime": {
     "end_time": "2021-04-12T02:12:16.352838Z",
     "start_time": "2021-04-12T02:12:16.199838Z"
    },
    "scrolled": false
   },
   "outputs": [
    {
     "data": {
      "image/png": "[encoded data removed]",
      "text/plain": [
       "<Figure size 432x288 with 1 Axes>"
      ]
     },
     "metadata": {
      "needs_background": "light"
     },
     "output_type": "display_data"
    }
   ],
   "source": [
    "# Plotting the distribution of song lengths by its total number of chords\n",
    "\n",
    "plt.figure()\n",
    "plt.hist(df['prog_length'], bins=50)\n",
    "plt.title('Distribution of songs and their chord progression lengths')\n",
    "plt.xlabel('Number of chords in the entire song\\'s chord progression')\n",
    "plt.ylabel('Number of songs')\n",
    "plt.axvline(x=50, color='red')\n",
    "plt.show()"
   ]
  },
  {
   "cell_type": "markdown",
   "id": "spiritual-fifteen",
   "metadata": {},
   "source": [
    "This plot helps understand what limitation should be set for the upcoming padding task.  Seeing that most songs are just under 50 chords long, this is the length that will be set so that even songs that are 10 chords long can be represented as a 50 chord frame with 40 timesteps of zero padding.  On the contrary, songs that are as long as 300 chords, will be represented by just their first 50 chords."
   ]
  },
  {
   "cell_type": "markdown",
   "id": "thrown-arrest",
   "metadata": {},
   "source": [
    "# RNN Preprocessing"
   ]
  },
  {
   "cell_type": "markdown",
   "id": "ordered-joshua",
   "metadata": {},
   "source": [
    "## Tokenizer"
   ]
  },
  {
   "cell_type": "code",
   "execution_count": 24,
   "id": "mobile-brazil",
   "metadata": {
    "ExecuteTime": {
     "end_time": "2021-04-12T02:12:16.415840Z",
     "start_time": "2021-04-12T02:12:16.354338Z"
    },
    "scrolled": true
   },
   "outputs": [
    {
     "name": "stdout",
     "output_type": "stream",
     "text": [
      "12\n",
      "467\n"
     ]
    }
   ],
   "source": [
    "tokenizer = Tokenizer(lower=False, filters='!')\n",
    "tokenizer.fit_on_texts(df['chord_progression'])\n",
    "chord_prog_dataset = tokenizer.texts_to_sequences(df['chord_progression'])\n",
    "chord_prog_dataset_lengths = [len(x) for x in chord_prog_dataset]\n",
    "\n",
    "print(min(chord_prog_dataset_lengths))\n",
    "print(max(chord_prog_dataset_lengths))"
   ]
  },
  {
   "cell_type": "code",
   "execution_count": 25,
   "id": "static-trunk",
   "metadata": {
    "ExecuteTime": {
     "end_time": "2021-04-12T02:12:16.419840Z",
     "start_time": "2021-04-12T02:12:16.416838Z"
    },
    "scrolled": true
   },
   "outputs": [
    {
     "name": "stdout",
     "output_type": "stream",
     "text": [
      "1216\n"
     ]
    }
   ],
   "source": [
    "chord_to_number = tokenizer.word_index\n",
    "number_to_chord = tokenizer.index_word\n",
    "all_chords = list(chord_to_number.keys())\n",
    "print(len(all_chords))"
   ]
  },
  {
   "cell_type": "markdown",
   "id": "specialized-audience",
   "metadata": {},
   "source": [
    "## Chord frequency charts\n",
    "\n",
    "Now that all data cleaning items have been addressed, it would be helpful to take a moment to get familiarized with the remaining data prior to tokenization.  Once tokenization occurs, all chords will be represented as integers so now is the opportune time to see the data with the original chord name labels."
   ]
  },
  {
   "cell_type": "code",
   "execution_count": 26,
   "id": "attended-praise",
   "metadata": {
    "ExecuteTime": {
     "end_time": "2021-04-12T02:12:16.426838Z",
     "start_time": "2021-04-12T02:12:16.420838Z"
    }
   },
   "outputs": [
    {
     "name": "stdout",
     "output_type": "stream",
     "text": [
      "Of 1216 total chords,\n",
      "239 only appear once.\n"
     ]
    }
   ],
   "source": [
    "chord_frequency = pd.DataFrame(data=tokenizer.word_counts.items(), columns=[\"chord\", \"count\"])\n",
    "chord_frequency = chord_frequency.sort_values(\"count\", ascending=False)\n",
    "print(f\"Of {chord_frequency.shape[0]} total chords,\")\n",
    "print(f\"{chord_frequency.shape[0] - chord_frequency[chord_frequency['count']>1].shape[0]} only appear once.\")"
   ]
  },
  {
   "cell_type": "code",
   "execution_count": 27,
   "id": "conservative-karma",
   "metadata": {
    "ExecuteTime": {
     "end_time": "2021-04-12T02:12:16.433338Z",
     "start_time": "2021-04-12T02:12:16.427338Z"
    },
    "scrolled": true
   },
   "outputs": [
    {
     "data": {
      "text/html": [
       "<div>\n",
       "<style scoped>\n",
       "    .dataframe tbody tr th:only-of-type {\n",
       "        vertical-align: middle;\n",
       "    }\n",
       "\n",
       "    .dataframe tbody tr th {\n",
       "        vertical-align: top;\n",
       "    }\n",
       "\n",
       "    .dataframe thead th {\n",
       "        text-align: right;\n",
       "    }\n",
       "</style>\n",
       "<table border=\"1\" class=\"dataframe\">\n",
       "  <thead>\n",
       "    <tr style=\"text-align: right;\">\n",
       "      <th></th>\n",
       "      <th>chord</th>\n",
       "      <th>count</th>\n",
       "    </tr>\n",
       "  </thead>\n",
       "  <tbody>\n",
       "    <tr>\n",
       "      <th>23</th>\n",
       "      <td>G7</td>\n",
       "      <td>6679</td>\n",
       "    </tr>\n",
       "    <tr>\n",
       "      <th>19</th>\n",
       "      <td>C</td>\n",
       "      <td>6196</td>\n",
       "    </tr>\n",
       "    <tr>\n",
       "      <th>22</th>\n",
       "      <td>Dm7</td>\n",
       "      <td>5485</td>\n",
       "    </tr>\n",
       "    <tr>\n",
       "      <th>53</th>\n",
       "      <td>C7</td>\n",
       "      <td>4284</td>\n",
       "    </tr>\n",
       "    <tr>\n",
       "      <th>63</th>\n",
       "      <td>F</td>\n",
       "      <td>3988</td>\n",
       "    </tr>\n",
       "  </tbody>\n",
       "</table>\n",
       "</div>"
      ],
      "text/plain": [
       "   chord  count\n",
       "23    G7   6679\n",
       "19     C   6196\n",
       "22   Dm7   5485\n",
       "53    C7   4284\n",
       "63     F   3988"
      ]
     },
     "execution_count": 27,
     "metadata": {},
     "output_type": "execute_result"
    }
   ],
   "source": [
    "chord_frequency.head()"
   ]
  },
  {
   "cell_type": "code",
   "execution_count": 28,
   "id": "multiple-sister",
   "metadata": {
    "ExecuteTime": {
     "end_time": "2021-04-12T02:12:16.441838Z",
     "start_time": "2021-04-12T02:12:16.434339Z"
    }
   },
   "outputs": [],
   "source": [
    "chord_frequency.to_csv('chord_frequency.csv', index=False, mode='w+')"
   ]
  },
  {
   "cell_type": "markdown",
   "id": "iraqi-gamma",
   "metadata": {},
   "source": [
    "At this stage, it is clear that massive class imbalance exists and the lower frequency chords could use some form of upsampling.  These infrequent chords account for nearly 20% of the total chords.  Some of this was reduced by consolidating chord names but since we plan to clip all songs to 50 chords, it's possible that some of these tokens won't be seen at all.  "
   ]
  },
  {
   "cell_type": "code",
   "execution_count": 29,
   "id": "subsequent-magnitude",
   "metadata": {
    "ExecuteTime": {
     "end_time": "2021-04-12T02:12:16.533837Z",
     "start_time": "2021-04-12T02:12:16.442838Z"
    }
   },
   "outputs": [
    {
     "data": {
      "image/png": "[encoded data removed]",
      "text/plain": [
       "<Figure size 360x360 with 1 Axes>"
      ]
     },
     "metadata": {
      "needs_background": "light"
     },
     "output_type": "display_data"
    }
   ],
   "source": [
    "plt.figure(figsize=(5, 5))\n",
    "plt.barh(chord_frequency['chord'][:5], chord_frequency['count'][:5])\n",
    "plt.title('5 of the most used chords')\n",
    "plt.xlabel('Chord Frequency')\n",
    "plt.ylabel('Chord Name')\n",
    "plt.show()"
   ]
  },
  {
   "cell_type": "code",
   "execution_count": 30,
   "id": "resistant-relation",
   "metadata": {
    "ExecuteTime": {
     "end_time": "2021-04-12T02:12:16.618337Z",
     "start_time": "2021-04-12T02:12:16.534838Z"
    },
    "scrolled": true
   },
   "outputs": [
    {
     "data": {
      "image/png": "[encoded data removed]",
      "text/plain": [
       "<Figure size 360x360 with 1 Axes>"
      ]
     },
     "metadata": {
      "needs_background": "light"
     },
     "output_type": "display_data"
    }
   ],
   "source": [
    "plt.figure(figsize=(5, 5))\n",
    "plt.barh(chord_frequency['chord'][-5:], chord_frequency['count'][-5:])\n",
    "plt.title('5 of the least used chords')\n",
    "plt.xlabel('Chord Frequency')\n",
    "plt.ylabel('Chord Name')\n",
    "plt.show()"
   ]
  },
  {
   "cell_type": "markdown",
   "id": "electric-delay",
   "metadata": {},
   "source": [
    "## Creating zero padded sequences\n",
    "\n",
    "Using the findings from the chord length distribution chart, zero padding will be performed with a max length of 50.  Pre padding will be used instead of post padding to ensure no sequences predict a zero output even though there should be no difference once the zeros are handled by the embedding layer of the RNN.  "
   ]
  },
  {
   "cell_type": "code",
   "execution_count": 31,
   "id": "systematic-ensemble",
   "metadata": {
    "ExecuteTime": {
     "end_time": "2021-04-12T02:12:16.631837Z",
     "start_time": "2021-04-12T02:12:16.619338Z"
    },
    "scrolled": true
   },
   "outputs": [
    {
     "name": "stdout",
     "output_type": "stream",
     "text": [
      "Progression length of all songs after zero padding: {50}\n"
     ]
    }
   ],
   "source": [
    "padded_max_length = 50\n",
    "padded_dataset = pad_sequences(chord_prog_dataset, maxlen=padded_max_length, padding='pre')\n",
    "# print(padded_single_dataset)\n",
    "padded_dataset_lengths = [len(x) for x in padded_dataset]\n",
    "print(f\"Progression length of all songs after zero padding: {set(padded_dataset_lengths)}\")"
   ]
  },
  {
   "cell_type": "markdown",
   "id": "catholic-owner",
   "metadata": {},
   "source": [
    "# Defining X and y\n",
    "Now that the data has been tokenized and zero-padded, X can be defined with a specific sequence length.  The sequence length will define the length of the 'sliding window' that the machine will train on to predict the chord following this sequence of X.\n",
    "\n",
    "Since songs repeat, the intention is for the neural network to learn to predict the chord following any chord.  Since there is zero padding for such a wide range of song lengths, the sequence cannot be too small.  At the same time, it is undesirable for the network to only learn how to predict the final chord.  \n",
    "\n",
    "Another difficult aspect to gauge is the target portion of the song.  When working with music, the verse, chorus, and bridge could all have different chord progressions that repeat.  This could be different for any song given the musical structure.  In hip-hop for example, a verse usually consists of 16 bars.  But who's to say that those 16 bars loop through n chords?\n",
    "\n",
    "Another factor requiring attention comes from the fact that no chord occurs consecutively.  When extracting chord data from songs, if a chord was ever immediately repeated, only the first occurrence of that chord was captured.  The chord would not reappear in the extracted progression until that chord followed a different chord.\n",
    "\n",
    "Finding the best window for the model is crucial because this will affect the number of rows in the data and computations required.  "
   ]
  },
  {
   "cell_type": "code",
   "execution_count": 32,
   "id": "protected-salmon",
   "metadata": {
    "ExecuteTime": {
     "end_time": "2021-04-12T02:12:16.677337Z",
     "start_time": "2021-04-12T02:12:16.632838Z"
    },
    "scrolled": true
   },
   "outputs": [
    {
     "name": "stdout",
     "output_type": "stream",
     "text": [
      "(38625, 25)\n",
      "(38625,)\n"
     ]
    }
   ],
   "source": [
    "# sliding window\n",
    "SEQUENCE_LENGTH = padded_max_length -25\n",
    "\n",
    "X = []\n",
    "y = []\n",
    "\n",
    "for song in padded_dataset:\n",
    "    for window_start_idx in range(len(song)-SEQUENCE_LENGTH):\n",
    "        window_end_idx = window_start_idx + SEQUENCE_LENGTH\n",
    "        X.append(song[window_start_idx: window_end_idx])\n",
    "        y.append(song[window_end_idx])\n",
    "\n",
    "X = np.array(X)\n",
    "y = np.array(y)\n",
    "\n",
    "# Let's look at the shapes\n",
    "print(X.shape)\n",
    "print(y.shape)"
   ]
  },
  {
   "cell_type": "markdown",
   "id": "large-exhibit",
   "metadata": {},
   "source": [
    "# train test split"
   ]
  },
  {
   "cell_type": "code",
   "execution_count": 33,
   "id": "talented-hughes",
   "metadata": {
    "ExecuteTime": {
     "end_time": "2021-04-12T02:12:16.684840Z",
     "start_time": "2021-04-12T02:12:16.678338Z"
    },
    "scrolled": false
   },
   "outputs": [
    {
     "name": "stdout",
     "output_type": "stream",
     "text": [
      "X_train shape: (30900, 25)\n",
      "X_validation shape: (7725, 25)\n",
      "y_train shape: (30900,)\n",
      "y_validation shape: (7725,)\n"
     ]
    }
   ],
   "source": [
    "X_train, X_validation, y_train, y_validation = train_test_split(X, y, test_size=.2)\n",
    "print(f\"X_train shape: {X_train.shape}\")\n",
    "print(f\"X_validation shape: {X_validation.shape}\")\n",
    "print(f\"y_train shape: {y_train.shape}\")\n",
    "print(f\"y_validation shape: {y_validation.shape}\")"
   ]
  },
  {
   "cell_type": "markdown",
   "id": "elder-intermediate",
   "metadata": {},
   "source": [
    "# RNN Modeling"
   ]
  },
  {
   "cell_type": "code",
   "execution_count": 38,
   "id": "terminal-england",
   "metadata": {
    "ExecuteTime": {
     "end_time": "2021-04-12T02:13:26.906359Z",
     "start_time": "2021-04-12T02:13:26.261357Z"
    }
   },
   "outputs": [],
   "source": [
    "num_classes = len(all_chords)+1\n",
    "embedding_dim = 24\n",
    "\n",
    "RNN_chord = Sequential()\n",
    "RNN_chord.add(Embedding(input_dim=num_classes, output_dim=embedding_dim, mask_zero=True, input_length=SEQUENCE_LENGTH))\n",
    "\n",
    "RNN_chord.add(Bidirectional(LSTM(units=128, activation='relu', return_sequences=True)))\n",
    "RNN_chord.add(BatchNormalization())\n",
    "RNN_chord.add(Dropout(.2))\n",
    "\n",
    "RNN_chord.add(Bidirectional(LSTM(256, activation='relu', return_sequences=False)))\n",
    "RNN_chord.add(BatchNormalization())\n",
    "RNN_chord.add(Dropout(.2))\n",
    "\n",
    "RNN_chord.add(Dense(num_classes, activation='softmax'))\n",
    "\n",
    "# Compile model\n",
    "RNN_chord.compile(\n",
    "    loss='sparse_categorical_crossentropy',\n",
    "    optimizer=Adam(lr=0.001),\n",
    "    metrics=['accuracy']\n",
    ")"
   ]
  },
  {
   "cell_type": "code",
   "execution_count": 39,
   "id": "logical-tongue",
   "metadata": {
    "ExecuteTime": {
     "end_time": "2021-04-12T02:13:51.798859Z",
     "start_time": "2021-04-12T02:13:51.790858Z"
    },
    "scrolled": true
   },
   "outputs": [
    {
     "name": "stdout",
     "output_type": "stream",
     "text": [
      "total chords: 1217\n",
      "24\n",
      "Model: \"sequential_1\"\n",
      "_________________________________________________________________\n",
      "Layer (type)                 Output Shape              Param #   \n",
      "=================================================================\n",
      "embedding_1 (Embedding)      (None, 25, 24)            29208     \n",
      "_________________________________________________________________\n",
      "bidirectional_2 (Bidirection (None, 25, 256)           156672    \n",
      "_________________________________________________________________\n",
      "batch_normalization_2 (Batch (None, 25, 256)           1024      \n",
      "_________________________________________________________________\n",
      "dropout_2 (Dropout)          (None, 25, 256)           0         \n",
      "_________________________________________________________________\n",
      "bidirectional_3 (Bidirection (None, 512)               1050624   \n",
      "_________________________________________________________________\n",
      "batch_normalization_3 (Batch (None, 512)               2048      \n",
      "_________________________________________________________________\n",
      "dropout_3 (Dropout)          (None, 512)               0         \n",
      "_________________________________________________________________\n",
      "dense_1 (Dense)              (None, 1217)              624321    \n",
      "=================================================================\n",
      "Total params: 1,863,897\n",
      "Trainable params: 1,862,361\n",
      "Non-trainable params: 1,536\n",
      "_________________________________________________________________\n"
     ]
    }
   ],
   "source": [
    "print(f\"total chords: {num_classes}\")\n",
    "print(embedding_dim)\n",
    "# Display its summary\n",
    "RNN_chord.summary()"
   ]
  },
  {
   "cell_type": "code",
   "execution_count": 40,
   "id": "bored-physiology",
   "metadata": {
    "ExecuteTime": {
     "end_time": "2021-04-12T02:14:16.943860Z",
     "start_time": "2021-04-12T02:14:16.941359Z"
    }
   },
   "outputs": [
    {
     "name": "stdout",
     "output_type": "stream",
     "text": [
      "X_train shape: (30900, 25)\n",
      "X_validation shape: (7725, 25)\n",
      "y_train shape: (30900,)\n",
      "y_validation shape: (7725,)\n",
      "max length: 50\n",
      "num classes: 1217\n",
      "sequence length: 25\n"
     ]
    }
   ],
   "source": [
    "print(f\"X_train shape: {X_train.shape}\")\n",
    "print(f\"X_validation shape: {X_validation.shape}\")\n",
    "print(f\"y_train shape: {y_train.shape}\")\n",
    "print(f\"y_validation shape: {y_validation.shape}\")\n",
    "\n",
    "print(f\"max length: {padded_max_length}\")\n",
    "print(f\"num classes: {num_classes}\")\n",
    "print(f\"sequence length: {SEQUENCE_LENGTH}\")"
   ]
  },
  {
   "cell_type": "code",
   "execution_count": 41,
   "id": "promotional-forum",
   "metadata": {
    "ExecuteTime": {
     "end_time": "2021-04-12T04:19:04.278858Z",
     "start_time": "2021-04-12T02:14:41.617360Z"
    },
    "scrolled": true
   },
   "outputs": [
    {
     "name": "stdout",
     "output_type": "stream",
     "text": [
      "Epoch 1/75\n",
      "483/483 [==============================] - 92s 190ms/step - loss: 4.2278 - accuracy: 0.2318 - val_loss: 4.4631 - val_accuracy: 0.1838\n",
      "Epoch 2/75\n",
      "483/483 [==============================] - 92s 191ms/step - loss: 3.3296 - accuracy: 0.3062 - val_loss: 3.5208 - val_accuracy: 0.2962\n",
      "Epoch 3/75\n",
      "483/483 [==============================] - 92s 190ms/step - loss: 3.0229 - accuracy: 0.3324 - val_loss: 3.4523 - val_accuracy: 0.3078\n",
      "Epoch 4/75\n",
      "483/483 [==============================] - 92s 190ms/step - loss: 2.7774 - accuracy: 0.3612 - val_loss: 3.4733 - val_accuracy: 0.3168\n",
      "Epoch 5/75\n",
      "483/483 [==============================] - 94s 194ms/step - loss: 2.5560 - accuracy: 0.3900 - val_loss: 3.4840 - val_accuracy: 0.3208\n",
      "Epoch 6/75\n",
      "483/483 [==============================] - 94s 194ms/step - loss: 2.3720 - accuracy: 0.4164 - val_loss: 3.5469 - val_accuracy: 0.3280\n",
      "Epoch 7/75\n",
      "483/483 [==============================] - 94s 195ms/step - loss: 2.1931 - accuracy: 0.4481 - val_loss: 3.6020 - val_accuracy: 0.3265\n",
      "Epoch 8/75\n",
      "483/483 [==============================] - 95s 198ms/step - loss: 2.0153 - accuracy: 0.4823 - val_loss: 3.6773 - val_accuracy: 0.3315\n",
      "Epoch 9/75\n",
      "483/483 [==============================] - 95s 196ms/step - loss: 1.8628 - accuracy: 0.5093 - val_loss: 3.7550 - val_accuracy: 0.3262\n",
      "Epoch 10/75\n",
      "483/483 [==============================] - 96s 200ms/step - loss: 1.7173 - accuracy: 0.5403 - val_loss: 3.8819 - val_accuracy: 0.3280\n",
      "Epoch 11/75\n",
      "483/483 [==============================] - 95s 197ms/step - loss: 1.5941 - accuracy: 0.5651 - val_loss: 3.9735 - val_accuracy: 0.3361\n",
      "Epoch 12/75\n",
      "483/483 [==============================] - 97s 201ms/step - loss: 1.4648 - accuracy: 0.5925 - val_loss: 4.0833 - val_accuracy: 0.3311\n",
      "Epoch 13/75\n",
      "483/483 [==============================] - 97s 201ms/step - loss: 1.3523 - accuracy: 0.6236 - val_loss: 4.2184 - val_accuracy: 0.3307\n",
      "Epoch 14/75\n",
      "483/483 [==============================] - 97s 202ms/step - loss: 1.2567 - accuracy: 0.6423 - val_loss: 4.2846 - val_accuracy: 0.3262\n",
      "Epoch 15/75\n",
      "483/483 [==============================] - 96s 199ms/step - loss: 1.1690 - accuracy: 0.6640 - val_loss: 4.3855 - val_accuracy: 0.3257\n",
      "Epoch 16/75\n",
      "483/483 [==============================] - 97s 200ms/step - loss: 1.0790 - accuracy: 0.6858 - val_loss: 4.4960 - val_accuracy: 0.3300\n",
      "Epoch 17/75\n",
      "483/483 [==============================] - 98s 203ms/step - loss: 0.9990 - accuracy: 0.7046 - val_loss: 4.6846 - val_accuracy: 0.3284\n",
      "Epoch 18/75\n",
      "483/483 [==============================] - 96s 200ms/step - loss: 0.9424 - accuracy: 0.7185 - val_loss: 4.6832 - val_accuracy: 0.3280\n",
      "Epoch 19/75\n",
      "483/483 [==============================] - 97s 200ms/step - loss: 0.8773 - accuracy: 0.7342 - val_loss: 4.8315 - val_accuracy: 0.3311\n",
      "Epoch 20/75\n",
      "483/483 [==============================] - 97s 201ms/step - loss: 0.8132 - accuracy: 0.7553 - val_loss: 4.9344 - val_accuracy: 0.3320\n",
      "Epoch 21/75\n",
      "483/483 [==============================] - 98s 203ms/step - loss: 0.7709 - accuracy: 0.7674 - val_loss: 5.0390 - val_accuracy: 0.3311\n",
      "Epoch 22/75\n",
      "483/483 [==============================] - 95s 197ms/step - loss: 0.7362 - accuracy: 0.7760 - val_loss: 5.1406 - val_accuracy: 0.3284\n",
      "Epoch 23/75\n",
      "483/483 [==============================] - 98s 203ms/step - loss: 0.6936 - accuracy: 0.7842 - val_loss: 5.2092 - val_accuracy: 0.3336\n",
      "Epoch 24/75\n",
      "483/483 [==============================] - 97s 200ms/step - loss: 0.6686 - accuracy: 0.7920 - val_loss: 5.3082 - val_accuracy: 0.3322\n",
      "Epoch 25/75\n",
      "483/483 [==============================] - 97s 200ms/step - loss: 0.6179 - accuracy: 0.8109 - val_loss: 5.4515 - val_accuracy: 0.3358\n",
      "Epoch 26/75\n",
      "483/483 [==============================] - 96s 199ms/step - loss: 0.5809 - accuracy: 0.8202 - val_loss: 5.5027 - val_accuracy: 0.3265\n",
      "Epoch 27/75\n",
      "483/483 [==============================] - 98s 203ms/step - loss: 0.5734 - accuracy: 0.8218 - val_loss: 5.5760 - val_accuracy: 0.3309\n",
      "Epoch 28/75\n",
      "483/483 [==============================] - 98s 203ms/step - loss: 0.5571 - accuracy: 0.8280 - val_loss: 5.6191 - val_accuracy: 0.3337\n",
      "Epoch 29/75\n",
      "483/483 [==============================] - 97s 201ms/step - loss: 0.5266 - accuracy: 0.8393 - val_loss: 5.6466 - val_accuracy: 0.3336\n",
      "Epoch 30/75\n",
      "483/483 [==============================] - 99s 204ms/step - loss: 0.5152 - accuracy: 0.8361 - val_loss: 5.6995 - val_accuracy: 0.3329\n",
      "Epoch 31/75\n",
      "483/483 [==============================] - 98s 203ms/step - loss: 0.4952 - accuracy: 0.8480 - val_loss: 5.8546 - val_accuracy: 0.3283\n",
      "Epoch 32/75\n",
      "483/483 [==============================] - 97s 201ms/step - loss: 0.4736 - accuracy: 0.8512 - val_loss: 5.9367 - val_accuracy: 0.3309\n",
      "Epoch 33/75\n",
      "483/483 [==============================] - 98s 203ms/step - loss: 0.4540 - accuracy: 0.8568 - val_loss: 5.9549 - val_accuracy: 0.3319\n",
      "Epoch 34/75\n",
      "483/483 [==============================] - 97s 201ms/step - loss: 0.4579 - accuracy: 0.8583 - val_loss: 6.0902 - val_accuracy: 0.3292\n",
      "Epoch 35/75\n",
      "483/483 [==============================] - 97s 200ms/step - loss: 0.4427 - accuracy: 0.8616 - val_loss: 6.0642 - val_accuracy: 0.3284\n",
      "Epoch 36/75\n",
      "483/483 [==============================] - 98s 202ms/step - loss: 0.4285 - accuracy: 0.8661 - val_loss: 5.9991 - val_accuracy: 0.3379\n",
      "Epoch 37/75\n",
      "483/483 [==============================] - 96s 199ms/step - loss: 0.4191 - accuracy: 0.8690 - val_loss: 6.0820 - val_accuracy: 0.3319\n",
      "Epoch 38/75\n",
      "483/483 [==============================] - 97s 201ms/step - loss: 0.4009 - accuracy: 0.8753 - val_loss: 6.2202 - val_accuracy: 0.3326\n",
      "Epoch 39/75\n",
      "483/483 [==============================] - 95s 197ms/step - loss: 0.3892 - accuracy: 0.8794 - val_loss: 6.2862 - val_accuracy: 0.3311\n",
      "Epoch 40/75\n",
      "483/483 [==============================] - 95s 198ms/step - loss: 0.3936 - accuracy: 0.8794 - val_loss: 6.3096 - val_accuracy: 0.3342\n",
      "Epoch 41/75\n",
      "483/483 [==============================] - 97s 201ms/step - loss: 0.3835 - accuracy: 0.8812 - val_loss: 6.3770 - val_accuracy: 0.3296\n",
      "Epoch 42/75\n",
      "483/483 [==============================] - 97s 200ms/step - loss: 0.3779 - accuracy: 0.8838 - val_loss: 6.3783 - val_accuracy: 0.3326\n",
      "Epoch 43/75\n",
      "483/483 [==============================] - 95s 198ms/step - loss: 0.3632 - accuracy: 0.8871 - val_loss: 6.4617 - val_accuracy: 0.3319\n",
      "Epoch 44/75\n",
      "483/483 [==============================] - 95s 197ms/step - loss: 0.3575 - accuracy: 0.8869 - val_loss: 6.4417 - val_accuracy: 0.3328\n",
      "Epoch 45/75\n",
      "483/483 [==============================] - 95s 197ms/step - loss: 0.3602 - accuracy: 0.8873 - val_loss: 6.5472 - val_accuracy: 0.3351\n",
      "Epoch 46/75\n",
      "483/483 [==============================] - 95s 197ms/step - loss: 0.3512 - accuracy: 0.8927 - val_loss: 6.4999 - val_accuracy: 0.3359\n",
      "Epoch 47/75\n",
      "483/483 [==============================] - 94s 195ms/step - loss: 0.3405 - accuracy: 0.8952 - val_loss: 6.4905 - val_accuracy: 0.3389\n",
      "Epoch 48/75\n",
      "483/483 [==============================] - 94s 194ms/step - loss: 0.3311 - accuracy: 0.8983 - val_loss: 6.6693 - val_accuracy: 0.3327\n",
      "Epoch 49/75\n",
      "483/483 [==============================] - 94s 195ms/step - loss: 0.3293 - accuracy: 0.8987 - val_loss: 6.7646 - val_accuracy: 0.3380\n",
      "Epoch 50/75\n",
      "483/483 [==============================] - 94s 195ms/step - loss: 0.3210 - accuracy: 0.9018 - val_loss: 6.7061 - val_accuracy: 0.3348\n",
      "Epoch 51/75\n",
      "483/483 [==============================] - 97s 201ms/step - loss: 0.3165 - accuracy: 0.9018 - val_loss: 6.7274 - val_accuracy: 0.3385\n",
      "Epoch 52/75\n",
      "483/483 [==============================] - 96s 199ms/step - loss: 0.3152 - accuracy: 0.9027 - val_loss: 6.6780 - val_accuracy: 0.3319\n",
      "Epoch 53/75\n",
      "483/483 [==============================] - 96s 199ms/step - loss: 0.3183 - accuracy: 0.9034 - val_loss: 6.7804 - val_accuracy: 0.3332\n",
      "Epoch 54/75\n",
      "483/483 [==============================] - 96s 199ms/step - loss: 0.3019 - accuracy: 0.9066 - val_loss: 6.7016 - val_accuracy: 0.3322\n",
      "Epoch 55/75\n",
      "483/483 [==============================] - 95s 197ms/step - loss: 0.3030 - accuracy: 0.9079 - val_loss: 6.7087 - val_accuracy: 0.3279\n",
      "Epoch 56/75\n",
      "483/483 [==============================] - 97s 200ms/step - loss: 0.2995 - accuracy: 0.9090 - val_loss: 6.8134 - val_accuracy: 0.3304\n",
      "Epoch 57/75\n"
     ]
    },
    {
     "name": "stdout",
     "output_type": "stream",
     "text": [
      "483/483 [==============================] - 98s 203ms/step - loss: 0.2871 - accuracy: 0.9115 - val_loss: 6.7464 - val_accuracy: 0.3335\n",
      "Epoch 58/75\n",
      "483/483 [==============================] - 97s 201ms/step - loss: 0.2886 - accuracy: 0.9123 - val_loss: 6.9647 - val_accuracy: 0.3333\n",
      "Epoch 59/75\n",
      "483/483 [==============================] - 97s 201ms/step - loss: 0.2918 - accuracy: 0.9112 - val_loss: 6.9693 - val_accuracy: 0.3340\n",
      "Epoch 60/75\n",
      "483/483 [==============================] - 97s 201ms/step - loss: 0.2962 - accuracy: 0.9084 - val_loss: 6.9841 - val_accuracy: 0.3315\n",
      "Epoch 61/75\n",
      "483/483 [==============================] - 98s 203ms/step - loss: 0.2793 - accuracy: 0.9142 - val_loss: 6.9999 - val_accuracy: 0.3339\n",
      "Epoch 62/75\n",
      "483/483 [==============================] - 98s 202ms/step - loss: 0.2706 - accuracy: 0.9182 - val_loss: 7.0321 - val_accuracy: 0.3388\n",
      "Epoch 63/75\n",
      "483/483 [==============================] - 98s 203ms/step - loss: 0.2728 - accuracy: 0.9175 - val_loss: 7.0456 - val_accuracy: 0.3362\n",
      "Epoch 64/75\n",
      "483/483 [==============================] - 99s 205ms/step - loss: 0.2568 - accuracy: 0.9208 - val_loss: 6.9952 - val_accuracy: 0.3346\n",
      "Epoch 65/75\n",
      "483/483 [==============================] - 98s 203ms/step - loss: 0.2691 - accuracy: 0.9188 - val_loss: 7.1647 - val_accuracy: 0.3317\n",
      "Epoch 66/75\n",
      "483/483 [==============================] - 100s 208ms/step - loss: 0.2597 - accuracy: 0.9192 - val_loss: 7.1739 - val_accuracy: 0.3320\n",
      "Epoch 67/75\n",
      "483/483 [==============================] - 100s 208ms/step - loss: 0.2633 - accuracy: 0.9201 - val_loss: 7.1332 - val_accuracy: 0.3331\n",
      "Epoch 68/75\n",
      "483/483 [==============================] - 126s 260ms/step - loss: 0.2515 - accuracy: 0.9238 - val_loss: 7.1501 - val_accuracy: 0.3373\n",
      "Epoch 69/75\n",
      "483/483 [==============================] - 124s 257ms/step - loss: 0.2657 - accuracy: 0.9200 - val_loss: 7.1112 - val_accuracy: 0.3373\n",
      "Epoch 70/75\n",
      "483/483 [==============================] - 123s 255ms/step - loss: 0.2485 - accuracy: 0.9246 - val_loss: 7.1627 - val_accuracy: 0.3384\n",
      "Epoch 71/75\n",
      "483/483 [==============================] - 123s 255ms/step - loss: 0.2535 - accuracy: 0.9234 - val_loss: 7.0540 - val_accuracy: 0.3363\n",
      "Epoch 72/75\n",
      "483/483 [==============================] - 124s 256ms/step - loss: 0.2496 - accuracy: 0.9243 - val_loss: 7.2653 - val_accuracy: 0.3333\n",
      "Epoch 73/75\n",
      "483/483 [==============================] - 125s 258ms/step - loss: 0.2396 - accuracy: 0.9274 - val_loss: 7.3729 - val_accuracy: 0.3376\n",
      "Epoch 74/75\n",
      "483/483 [==============================] - 124s 256ms/step - loss: 0.2448 - accuracy: 0.9265 - val_loss: 7.3110 - val_accuracy: 0.3362\n",
      "Epoch 75/75\n",
      "483/483 [==============================] - 123s 254ms/step - loss: 0.2395 - accuracy: 0.9264 - val_loss: 7.2579 - val_accuracy: 0.3392\n"
     ]
    }
   ],
   "source": [
    "BATCH_SIZE = 64\n",
    "EPOCHS = 75\n",
    "\n",
    "history = RNN_chord.fit(X_train, y_train,\n",
    "                   batch_size = BATCH_SIZE,\n",
    "                   epochs = EPOCHS,\n",
    "                   validation_data = (X_validation, y_validation))\n"
   ]
  },
  {
   "cell_type": "markdown",
   "id": "clean-dryer",
   "metadata": {},
   "source": [
    "# RNN Results"
   ]
  },
  {
   "cell_type": "code",
   "execution_count": 42,
   "id": "personal-tucson",
   "metadata": {
    "ExecuteTime": {
     "end_time": "2021-04-12T04:19:28.652857Z",
     "start_time": "2021-04-12T04:19:28.597357Z"
    }
   },
   "outputs": [],
   "source": [
    "RNN_chord.save('RNN_final.h5')"
   ]
  },
  {
   "cell_type": "code",
   "execution_count": 43,
   "id": "charming-bunch",
   "metadata": {
    "ExecuteTime": {
     "end_time": "2021-04-12T04:19:28.882858Z",
     "start_time": "2021-04-12T04:19:28.653857Z"
    },
    "scrolled": true
   },
   "outputs": [
    {
     "data": {
      "image/png": "[encoded data removed]",
      "text/plain": [
       "<Figure size 1080x360 with 2 Axes>"
      ]
     },
     "metadata": {
      "needs_background": "light"
     },
     "output_type": "display_data"
    }
   ],
   "source": [
    "epochs = range(1, EPOCHS+1)\n",
    "epochs_plot = np.array(range(epochs[0]-1, epochs[-1], 10))\n",
    "\n",
    "plt.figure(figsize=(15, 5))\n",
    "plt.subplot(1, 2, 1)\n",
    "plt.plot(epochs, history.history[\"accuracy\"], label=\"training\", marker=\"o\")\n",
    "plt.plot(epochs, history.history[\"val_accuracy\"], label=\"validation\", marker=\"o\")\n",
    "plt.title('RNN_chord Accuracy')\n",
    "plt.xlabel(\"Epochs\")\n",
    "plt.xticks(epochs_plot)\n",
    "plt.ylabel(\"Accuracy\")\n",
    "plt.legend()\n",
    "\n",
    "plt.subplot(1, 2, 2)\n",
    "plt.plot(epochs, history.history[\"loss\"], label=\"training\", marker=\"o\")\n",
    "plt.plot(epochs, history.history[\"val_loss\"], label=\"validation\", marker=\"o\")\n",
    "plt.title('RNN_chord Loss (sparse_categorical_crossentropy)')\n",
    "plt.xlabel(\"Epochs\")\n",
    "plt.xticks(epochs_plot)\n",
    "plt.ylabel(\"Loss\")\n",
    "plt.legend()\n",
    "plt.show()"
   ]
  },
  {
   "cell_type": "markdown",
   "id": "compound-reduction",
   "metadata": {},
   "source": [
    "# RNN Predictions "
   ]
  },
  {
   "cell_type": "markdown",
   "id": "inner-relation",
   "metadata": {},
   "source": [
    "## (Many to One) Function\n",
    "This solution takes an input seed that has been pre-defined to \"Am/G F G7 C\" and outputs 4 additional chords"
   ]
  },
  {
   "cell_type": "code",
   "execution_count": 44,
   "id": "funny-manchester",
   "metadata": {
    "ExecuteTime": {
     "end_time": "2021-04-12T04:19:29.590360Z",
     "start_time": "2021-04-12T04:19:28.883857Z"
    },
    "scrolled": true
   },
   "outputs": [
    {
     "name": "stdout",
     "output_type": "stream",
     "text": [
      "chords_to_add = 4\n",
      "Input chord progression: ['Am/G F G7 C']\n",
      "Tokenized input chord progression: [119, 5, 1, 2]\n",
      "Predicting 4 chords...\n",
      "[[119   5   1   2]]\n",
      "WARNING:tensorflow:Model was constructed with shape (None, 25) for input Tensor(\"embedding_1_input:0\", shape=(None, 25), dtype=float32), but it was called on an input with incompatible shape (None, 4).\n",
      "[[5 1 2 5]]\n",
      "[[1 2 5 2]]\n",
      "[[2 5 2 4]]\n",
      "option == 1: \n",
      "[119, 5, 1, 2, 5, 2, 4, 5]\n",
      "['Am/G', 'F', 'G7', 'C', 'F', 'C', 'C7', 'F'] \n",
      "[0.4067776, 0.9850071, 0.6290923, 0.9759497]\n",
      "chords_to_add = 4\n",
      "Input chord progression: ['Am/G F G7 C']\n",
      "Tokenized input chord progression: [119, 5, 1, 2]\n",
      "Predicting 4 chords...\n",
      "[[119   5   1   2]]\n",
      "[[  5   1   2 282]]\n",
      "[[  1   2 282 259]]\n",
      "[[  2 282 259  99]]\n",
      "option == 0: \n",
      "[119, 5, 1, 2, 282, 259, 99, 295]\n",
      "['Am/G', 'F', 'G7', 'C', 'Cadd9', 'D/o7/C', 'Dmaj7', 'A#7']\n",
      "[6.1168793e-15, 2.6730968e-23, 4.0773168e-15, 1.3819853e-17]\n"
     ]
    }
   ],
   "source": [
    "# predict chord progression given >2 chords in seed\n",
    "\n",
    "def predict_chords(rnn_model, input_seed, output_length, prediction_option=1):\n",
    "    # all outputs must be non-zero\n",
    "    # output_length must be greater than processed_seed length\n",
    "    # assert input_seed is string of chords\n",
    "    \n",
    "    input_sequence = [input_seed]\n",
    "    seed_length = len(input_seed.split(' '))\n",
    "    chords_to_add = output_length - seed_length\n",
    "    print(f\"chords_to_add = {chords_to_add}\")\n",
    "    \n",
    "    # tokenize seed\n",
    "    processed_seed = tokenizer.texts_to_sequences(input_sequence)[0]\n",
    "    print(f\"Input chord progression: {input_sequence}\")\n",
    "    print(f\"Tokenized input chord progression: {processed_seed}\")\n",
    "    print(f\"Predicting {chords_to_add} chords...\")\n",
    "    \n",
    "    probabilities = []\n",
    "    # for loop for prediction length\n",
    "    for i in range(chords_to_add):\n",
    "        \n",
    "        # process input sequence using sliding window of seed_length\n",
    "        network_input = np.array(processed_seed[-seed_length:], dtype=np.int32)\n",
    "        network_input = network_input.reshape((1, seed_length))\n",
    "        print(network_input)\n",
    "        # PREDICT NEXT CHORD\n",
    "        \n",
    "        # option 1: output using highest probability\n",
    "        if prediction_option == 1:\n",
    "            predict_proba = rnn_model.predict(network_input)[0]\n",
    "            predicted_index = np.argmax(predict_proba)\n",
    "            processed_seed.append(predicted_index)\n",
    "            probabilities.append(max(predict_proba))           \n",
    "    \n",
    "        # option 0: output using lowest probability\n",
    "        elif prediction_option == 0:\n",
    "            predict_proba = rnn_model.predict(network_input)[0]\n",
    "            predicted_index = np.argmin(predict_proba)\n",
    "            processed_seed.append(predicted_index)\n",
    "            probabilities.append(min(predict_proba))\n",
    "\n",
    "    # Convert tokenized output to chord names\n",
    "    named_sequence = [number_to_chord.get(number, '') for number in processed_seed]\n",
    "    \n",
    "    return processed_seed, named_sequence, probabilities\n",
    "\n",
    "input_seed_0 = \"Am/G F G7 C\"\n",
    "predict_1_indices, predict_1_names, predict_1_probs = predict_chords(RNN_chord, input_seed_0, 8, 1)\n",
    "print(f\"option == 1: \\n{predict_1_indices}\\n{predict_1_names} \")\n",
    "print(predict_1_probs)\n",
    "predict_0_indices, predict_0_names, predict_0_probs = predict_chords(RNN_chord, input_seed_0, 8, 0)\n",
    "print(f\"option == 0: \\n{predict_0_indices}\\n{predict_0_names}\")\n",
    "print(predict_0_probs) "
   ]
  },
  {
   "cell_type": "markdown",
   "id": "inner-tractor",
   "metadata": {},
   "source": [
    "### Save output to be processed for listening via prog_player.py"
   ]
  },
  {
   "cell_type": "code",
   "execution_count": 45,
   "id": "educational-document",
   "metadata": {
    "ExecuteTime": {
     "end_time": "2021-04-12T04:19:29.595360Z",
     "start_time": "2021-04-12T04:19:29.591356Z"
    }
   },
   "outputs": [],
   "source": [
    "option1 = [number_to_chord.get(number, \"\") for number in predict_1_indices]\n",
    "option1_string = (\" \").join(option1)\n",
    "with open('option1', 'w+', ) as fp:\n",
    "    fp.write(option1_string)\n",
    "    \n",
    "option0 = [number_to_chord.get(number, \"\") for number in predict_0_indices]\n",
    "option0_string = (\" \").join(option0)\n",
    "with open('option0', 'w+', ) as fp:\n",
    "    fp.write(option0_string)"
   ]
  },
  {
   "cell_type": "markdown",
   "id": "perfect-intellectual",
   "metadata": {},
   "source": [
    "## (One to One) Function\n",
    "This solution takes an input seed that has been pre-defined to \"C7\" and outputs the top 15 options."
   ]
  },
  {
   "cell_type": "code",
   "execution_count": 46,
   "id": "offensive-county",
   "metadata": {
    "ExecuteTime": {
     "end_time": "2021-04-12T04:19:30.130360Z",
     "start_time": "2021-04-12T04:19:29.596358Z"
    },
    "scrolled": true
   },
   "outputs": [
    {
     "name": "stdout",
     "output_type": "stream",
     "text": [
      "C7\n",
      "[4]\n",
      "WARNING:tensorflow:Model was constructed with shape (None, 25) for input Tensor(\"embedding_1_input:0\", shape=(None, 25), dtype=float32), but it was called on an input with incompatible shape (None, 24).\n",
      "Top 15 partitioned probabilities: \n",
      "[2.0243171e-04 8.6462505e-06 1.8926741e-05 2.5750397e-04 8.0931568e-06\n",
      " 5.6372969e-06 7.0557867e-06 6.0082792e-04 1.2124863e-02 1.4149900e-04\n",
      " 2.7631325e-01 1.0853343e-02 1.2238882e-05 5.4818499e-01 6.6920170e-06]\n",
      "\n",
      "The top 15 indices for partitioned probability: \n",
      "[15 14 13 12 11 10  9  8  7  6  5  4  3  2  0]\n",
      "\n",
      "Top 15 chords \n",
      "['Am7/C', 'E7', 'Em7', 'Am', 'Fmaj7', 'Cmaj7', 'A7', 'D7', 'Gm7', 'Am7', 'F', 'C7', 'Dm7', 'C']\n"
     ]
    }
   ],
   "source": [
    "seed_text = \"C7\"\n",
    "print(seed_text)\n",
    "next_words = 1\n",
    "num_choices = 1\n",
    "# max_sequence_len = max([len(x) for x in input_sequences])\n",
    "max_sequence_len = SEQUENCE_LENGTH\n",
    "\n",
    "proba_keys = []\n",
    "proba_values = []\n",
    "\n",
    "token_list = tokenizer.texts_to_sequences([seed_text])[0]\n",
    "print(token_list)\n",
    "token_list = pad_sequences([token_list], maxlen=max_sequence_len-1, padding='pre')\n",
    "\n",
    "top_n = -15\n",
    "\n",
    "for i in range(num_choices):\n",
    "    predict_proba = RNN_chord.predict(token_list)[0]\n",
    "    partition = np.argpartition(predict_proba, (727, 729, 732, 735, 737))\n",
    "    top_parts = partition[top_n:]\n",
    "    sorted_proba = np.sort(predict_proba)\n",
    "    #print(f\"Top 10 probabilities: \\n{sorted_proba[top_n:]}\")\n",
    "    print(f\"Top 15 partitioned probabilities: \\n{predict_proba[partition[top_n:]]}\")\n",
    "    \n",
    "    print(f\"\\nThe top 15 indices for partitioned probability: \\n{top_parts}\")\n",
    "    top_chords = [tokenizer.index_word[index] for index in top_parts if index != 0]\n",
    "    print(f\"\\nTop 15 chords \\n{top_chords}\")\n",
    "    "
   ]
  },
  {
   "cell_type": "markdown",
   "id": "egyptian-insertion",
   "metadata": {},
   "source": [
    "### Save output to be processed for listening via prog_player.py"
   ]
  },
  {
   "cell_type": "code",
   "execution_count": 47,
   "id": "loved-diabetes",
   "metadata": {
    "ExecuteTime": {
     "end_time": "2021-04-12T04:19:30.134858Z",
     "start_time": "2021-04-12T04:19:30.131359Z"
    }
   },
   "outputs": [
    {
     "name": "stdout",
     "output_type": "stream",
     "text": [
      "['C7', 'Am7/C', 'C7', 'E7', 'C7', 'Em7', 'C7', 'Am', 'C7', 'Fmaj7', 'C7', 'Cmaj7', 'C7', 'A7', 'C7', 'D7', 'C7', 'Gm7', 'C7', 'Am7', 'C7', 'F', 'C7', 'C7', 'C7', 'Dm7', 'C7', 'C']\n"
     ]
    }
   ],
   "source": [
    "# creating one file to outputall the options for C7 - chord_1-15\n",
    "c7_top15 = []\n",
    "for chord in top_chords:\n",
    "    c7_top15.append('C7')\n",
    "    c7_top15.append(chord)\n",
    "    \n",
    "print(c7_top15)\n",
    "    \n",
    "c7_top15_string = (\" \").join(c7_top15)\n",
    "with open('c7_top_string', 'w+') as fp:\n",
    "    fp.write(c7_top15_string)\n"
   ]
  },
  {
   "cell_type": "markdown",
   "id": "regular-laptop",
   "metadata": {},
   "source": [
    "# Revisiting Chord Content Data for Clustering"
   ]
  },
  {
   "cell_type": "markdown",
   "id": "filled-interface",
   "metadata": {},
   "source": [
    "The goal of clustering the chord data is to find relationships between chords based on machine learning models as opposed to the written rules of music theory.  Chord substitution might be another approach to expanding chord vocabulary if clusters of chords allow for some degree of interchangeability.  For example, if one were to write a progression from C to G, the G chord's cluster might reveal some other options that are more unique than the G chord."
   ]
  },
  {
   "cell_type": "markdown",
   "id": "running-companion",
   "metadata": {},
   "source": [
    "## Clustering: Chord Content Data - Further EDA\n",
    "\n",
    "Revisiting since initial import and review\n",
    "\n",
    "\n",
    "Issues to address:<br>\n",
    "- ~~Chords that have the same content but are named differently~~\n",
    "- Chord notes have more duplicates for equivalent notes.  C# = D-, where \"-\" signifies a \"flat\" note\n",
    "- Columns to expand from chord name\n",
    "    - Pull specific identifiers (6, 7, 9, 11, 13, dim, sus..)\n",
    "- Columns to expand from roman notation\n",
    "    - Pull just the interval, denoted by roman numeral\n",
    "    - Upper case roman numerals signify \"major\" chords while lower case numerals signify a \"minor\" chord.\n",
    "    "
   ]
  },
  {
   "cell_type": "code",
   "execution_count": 48,
   "id": "arbitrary-allen",
   "metadata": {
    "ExecuteTime": {
     "end_time": "2021-04-12T04:19:30.156359Z",
     "start_time": "2021-04-12T04:19:30.136358Z"
    }
   },
   "outputs": [
    {
     "data": {
      "text/html": [
       "<div>\n",
       "<style scoped>\n",
       "    .dataframe tbody tr th:only-of-type {\n",
       "        vertical-align: middle;\n",
       "    }\n",
       "\n",
       "    .dataframe tbody tr th {\n",
       "        vertical-align: top;\n",
       "    }\n",
       "\n",
       "    .dataframe thead th {\n",
       "        text-align: right;\n",
       "    }\n",
       "</style>\n",
       "<table border=\"1\" class=\"dataframe\">\n",
       "  <thead>\n",
       "    <tr style=\"text-align: right;\">\n",
       "      <th></th>\n",
       "      <th>name</th>\n",
       "      <th>chord_pitches</th>\n",
       "      <th>roman</th>\n",
       "      <th>chord_pitches_str</th>\n",
       "    </tr>\n",
       "  </thead>\n",
       "  <tbody>\n",
       "    <tr>\n",
       "      <th>0</th>\n",
       "      <td>Fmaj7</td>\n",
       "      <td>[F2, A2, C3, E3]</td>\n",
       "      <td>IV7</td>\n",
       "      <td>F2, A2, C3, E3</td>\n",
       "    </tr>\n",
       "    <tr>\n",
       "      <th>1</th>\n",
       "      <td>B-m11/F</td>\n",
       "      <td>[F3, A-3, B-3, C4, D-4, E-4]</td>\n",
       "      <td>bvii76#543</td>\n",
       "      <td>F3, A-3, B-3, C4, D-4, E-4</td>\n",
       "    </tr>\n",
       "    <tr>\n",
       "      <th>2</th>\n",
       "      <td>E/o7</td>\n",
       "      <td>[E3, G3, B-3, D4]</td>\n",
       "      <td>iii/o7b53</td>\n",
       "      <td>E3, G3, B-3, D4</td>\n",
       "    </tr>\n",
       "    <tr>\n",
       "      <th>3</th>\n",
       "      <td>Eo7</td>\n",
       "      <td>[E3, G3, B-3, D-4]</td>\n",
       "      <td>iiiob7b53</td>\n",
       "      <td>E3, G3, B-3, D-4</td>\n",
       "    </tr>\n",
       "    <tr>\n",
       "      <th>4</th>\n",
       "      <td>Dm9</td>\n",
       "      <td>[D2, F2, A2, C3, E3]</td>\n",
       "      <td>ii7532</td>\n",
       "      <td>D2, F2, A2, C3, E3</td>\n",
       "    </tr>\n",
       "  </tbody>\n",
       "</table>\n",
       "</div>"
      ],
      "text/plain": [
       "      name                 chord_pitches       roman  \\\n",
       "0    Fmaj7              [F2, A2, C3, E3]         IV7   \n",
       "1  B-m11/F  [F3, A-3, B-3, C4, D-4, E-4]  bvii76#543   \n",
       "2     E/o7             [E3, G3, B-3, D4]   iii/o7b53   \n",
       "3      Eo7            [E3, G3, B-3, D-4]   iiiob7b53   \n",
       "4      Dm9          [D2, F2, A2, C3, E3]      ii7532   \n",
       "\n",
       "            chord_pitches_str  \n",
       "0              F2, A2, C3, E3  \n",
       "1  F3, A-3, B-3, C4, D-4, E-4  \n",
       "2             E3, G3, B-3, D4  \n",
       "3            E3, G3, B-3, D-4  \n",
       "4          D2, F2, A2, C3, E3  "
      ]
     },
     "execution_count": 48,
     "metadata": {},
     "output_type": "execute_result"
    }
   ],
   "source": [
    "chord_def.head()"
   ]
  },
  {
   "cell_type": "code",
   "execution_count": 49,
   "id": "descending-mountain",
   "metadata": {
    "ExecuteTime": {
     "end_time": "2021-04-12T04:19:30.174356Z",
     "start_time": "2021-04-12T04:19:30.157358Z"
    },
    "scrolled": true
   },
   "outputs": [
    {
     "name": "stdout",
     "output_type": "stream",
     "text": [
      "name                 0\n",
      "chord_pitches        0\n",
      "roman                0\n",
      "chord_pitches_str    0\n",
      "dtype: int64\n",
      "name                 object\n",
      "chord_pitches        object\n",
      "roman                object\n",
      "chord_pitches_str    object\n",
      "dtype: object\n"
     ]
    }
   ],
   "source": [
    "print(chord_def.isna().sum())\n",
    "print(chord_def.dtypes)"
   ]
  },
  {
   "cell_type": "markdown",
   "id": "super-depth",
   "metadata": {},
   "source": [
    "## new columns\n",
    "\n",
    "- `roman interval`: To isolate the interval roman notation from the added notes, the 'roman' column will be split by any roman numeral notation from the other features.  \n",
    "- `maj_min`: Whether the roman numeral is an upper or lower case represents whether the chord is major or minor, respectively.\n",
    "- `ext`: Short for 'extension' - will represent the added interval notes as a list of 'options'"
   ]
  },
  {
   "cell_type": "code",
   "execution_count": 50,
   "id": "structured-november",
   "metadata": {
    "ExecuteTime": {
     "end_time": "2021-04-12T04:19:30.188361Z",
     "start_time": "2021-04-12T04:19:30.175357Z"
    },
    "scrolled": true
   },
   "outputs": [
    {
     "data": {
      "text/html": [
       "<div>\n",
       "<style scoped>\n",
       "    .dataframe tbody tr th:only-of-type {\n",
       "        vertical-align: middle;\n",
       "    }\n",
       "\n",
       "    .dataframe tbody tr th {\n",
       "        vertical-align: top;\n",
       "    }\n",
       "\n",
       "    .dataframe thead th {\n",
       "        text-align: right;\n",
       "    }\n",
       "</style>\n",
       "<table border=\"1\" class=\"dataframe\">\n",
       "  <thead>\n",
       "    <tr style=\"text-align: right;\">\n",
       "      <th></th>\n",
       "      <th>name</th>\n",
       "      <th>chord_pitches</th>\n",
       "      <th>roman</th>\n",
       "      <th>chord_pitches_str</th>\n",
       "      <th>roman_interval</th>\n",
       "      <th>maj_min</th>\n",
       "    </tr>\n",
       "  </thead>\n",
       "  <tbody>\n",
       "    <tr>\n",
       "      <th>0</th>\n",
       "      <td>Fmaj7</td>\n",
       "      <td>[F2, A2, C3, E3]</td>\n",
       "      <td>IV7</td>\n",
       "      <td>F2, A2, C3, E3</td>\n",
       "      <td>IV</td>\n",
       "      <td>M</td>\n",
       "    </tr>\n",
       "    <tr>\n",
       "      <th>1</th>\n",
       "      <td>B-m11/F</td>\n",
       "      <td>[F3, A-3, B-3, C4, D-4, E-4]</td>\n",
       "      <td>bvii76#543</td>\n",
       "      <td>F3, A-3, B-3, C4, D-4, E-4</td>\n",
       "      <td>vii</td>\n",
       "      <td>m</td>\n",
       "    </tr>\n",
       "    <tr>\n",
       "      <th>2</th>\n",
       "      <td>E/o7</td>\n",
       "      <td>[E3, G3, B-3, D4]</td>\n",
       "      <td>iii/o7b53</td>\n",
       "      <td>E3, G3, B-3, D4</td>\n",
       "      <td>iii</td>\n",
       "      <td>m</td>\n",
       "    </tr>\n",
       "    <tr>\n",
       "      <th>3</th>\n",
       "      <td>Eo7</td>\n",
       "      <td>[E3, G3, B-3, D-4]</td>\n",
       "      <td>iiiob7b53</td>\n",
       "      <td>E3, G3, B-3, D-4</td>\n",
       "      <td>iii</td>\n",
       "      <td>m</td>\n",
       "    </tr>\n",
       "    <tr>\n",
       "      <th>4</th>\n",
       "      <td>Dm9</td>\n",
       "      <td>[D2, F2, A2, C3, E3]</td>\n",
       "      <td>ii7532</td>\n",
       "      <td>D2, F2, A2, C3, E3</td>\n",
       "      <td>ii</td>\n",
       "      <td>m</td>\n",
       "    </tr>\n",
       "  </tbody>\n",
       "</table>\n",
       "</div>"
      ],
      "text/plain": [
       "      name                 chord_pitches       roman  \\\n",
       "0    Fmaj7              [F2, A2, C3, E3]         IV7   \n",
       "1  B-m11/F  [F3, A-3, B-3, C4, D-4, E-4]  bvii76#543   \n",
       "2     E/o7             [E3, G3, B-3, D4]   iii/o7b53   \n",
       "3      Eo7            [E3, G3, B-3, D-4]   iiiob7b53   \n",
       "4      Dm9          [D2, F2, A2, C3, E3]      ii7532   \n",
       "\n",
       "            chord_pitches_str roman_interval maj_min  \n",
       "0              F2, A2, C3, E3             IV       M  \n",
       "1  F3, A-3, B-3, C4, D-4, E-4            vii       m  \n",
       "2             E3, G3, B-3, D4            iii       m  \n",
       "3            E3, G3, B-3, D-4            iii       m  \n",
       "4          D2, F2, A2, C3, E3             ii       m  "
      ]
     },
     "execution_count": 50,
     "metadata": {},
     "output_type": "execute_result"
    }
   ],
   "source": [
    "chord_def = chord_def.copy()\n",
    "chord_def['roman_interval'] = chord_def['roman'].str.extract(r'([^#b][ivIV]*)', expand=True)\n",
    "chord_def['roman_interval'].unique()\n",
    "maj_min = np.where(chord_def['roman_interval'].map(lambda x: x.isupper()), 'M', 'm')\n",
    "chord_def['maj_min']=maj_min\n",
    "chord_def.head()"
   ]
  },
  {
   "cell_type": "code",
   "execution_count": 51,
   "id": "pressed-sigma",
   "metadata": {
    "ExecuteTime": {
     "end_time": "2021-04-12T04:19:30.208357Z",
     "start_time": "2021-04-12T04:19:30.189358Z"
    }
   },
   "outputs": [
    {
     "data": {
      "text/html": [
       "<div>\n",
       "<style scoped>\n",
       "    .dataframe tbody tr th:only-of-type {\n",
       "        vertical-align: middle;\n",
       "    }\n",
       "\n",
       "    .dataframe tbody tr th {\n",
       "        vertical-align: top;\n",
       "    }\n",
       "\n",
       "    .dataframe thead th {\n",
       "        text-align: right;\n",
       "    }\n",
       "</style>\n",
       "<table border=\"1\" class=\"dataframe\">\n",
       "  <thead>\n",
       "    <tr style=\"text-align: right;\">\n",
       "      <th></th>\n",
       "      <th>name</th>\n",
       "      <th>chord_pitches</th>\n",
       "      <th>roman</th>\n",
       "      <th>chord_pitches_str</th>\n",
       "      <th>roman_interval</th>\n",
       "      <th>maj_min</th>\n",
       "      <th>ext_list</th>\n",
       "      <th>ext</th>\n",
       "      <th>roman_interval_list</th>\n",
       "      <th>maj_min_list</th>\n",
       "    </tr>\n",
       "  </thead>\n",
       "  <tbody>\n",
       "    <tr>\n",
       "      <th>0</th>\n",
       "      <td>Fmaj7</td>\n",
       "      <td>[F2, A2, C3, E3]</td>\n",
       "      <td>IV7</td>\n",
       "      <td>F2, A2, C3, E3</td>\n",
       "      <td>IV</td>\n",
       "      <td>M</td>\n",
       "      <td>[7]</td>\n",
       "      <td>7</td>\n",
       "      <td>[IV]</td>\n",
       "      <td>[M]</td>\n",
       "    </tr>\n",
       "    <tr>\n",
       "      <th>1</th>\n",
       "      <td>B-m11/F</td>\n",
       "      <td>[F3, A-3, B-3, C4, D-4, E-4]</td>\n",
       "      <td>bvii76#543</td>\n",
       "      <td>F3, A-3, B-3, C4, D-4, E-4</td>\n",
       "      <td>vii</td>\n",
       "      <td>m</td>\n",
       "      <td>[11]</td>\n",
       "      <td>11</td>\n",
       "      <td>[vii]</td>\n",
       "      <td>[m]</td>\n",
       "    </tr>\n",
       "  </tbody>\n",
       "</table>\n",
       "</div>"
      ],
      "text/plain": [
       "      name                 chord_pitches       roman  \\\n",
       "0    Fmaj7              [F2, A2, C3, E3]         IV7   \n",
       "1  B-m11/F  [F3, A-3, B-3, C4, D-4, E-4]  bvii76#543   \n",
       "\n",
       "            chord_pitches_str roman_interval maj_min ext_list ext  \\\n",
       "0              F2, A2, C3, E3             IV       M      [7]   7   \n",
       "1  F3, A-3, B-3, C4, D-4, E-4            vii       m     [11]  11   \n",
       "\n",
       "  roman_interval_list maj_min_list  \n",
       "0                [IV]          [M]  \n",
       "1               [vii]          [m]  "
      ]
     },
     "execution_count": 51,
     "metadata": {},
     "output_type": "execute_result"
    }
   ],
   "source": [
    "# create list of filterable substrings\n",
    "chord_ext = ['dim', 'sus', '6', '7', '9', '11', '13']\n",
    "chord_def['ext_list'] = chord_def['name'].map(lambda x: [ext for ext in chord_ext if ext in x])\n",
    "chord_def['ext'] = chord_def['ext_list'].apply(lambda x: ' '.join(x))\n",
    "chord_def['ext'].unique()\n",
    "\n",
    "chord_def['roman_interval_list'] = chord_def['roman_interval'].apply(lambda x: [x])\n",
    "chord_def['maj_min_list'] = chord_def['maj_min'].apply(lambda x: [x])\n",
    "chord_def.head(2)"
   ]
  },
  {
   "cell_type": "markdown",
   "id": "polyphonic-tract",
   "metadata": {},
   "source": [
    "## Handling notes across multiple octaves\n",
    "\n",
    "The new columns introduce measurable variance between each chord.  However, some aspects of variability can be removed.  For instance chord_a might have the notes A3, C3, E3, while another chord has the notes A2, C3, E3.  The difference between these two chords is only the octave in which A is played.  By removing all numerical notation from the pitches, the position of the note is disregarded.  \n",
    "\n",
    "Since the idea is to group chords together as best as possible using the contents of the chord (chord_pitches), octaves will be consolidated so that A1, A2, A3, A4 will be all represented as just A.  This might change the general 'flavor' of the chord, but by consolidating this information, the clustering model only considers the notes that are part of the chord and not their octaves."
   ]
  },
  {
   "cell_type": "code",
   "execution_count": 52,
   "id": "indoor-surfing",
   "metadata": {
    "ExecuteTime": {
     "end_time": "2021-04-12T04:19:30.232858Z",
     "start_time": "2021-04-12T04:19:30.209857Z"
    },
    "scrolled": false
   },
   "outputs": [
    {
     "data": {
      "text/html": [
       "<div>\n",
       "<style scoped>\n",
       "    .dataframe tbody tr th:only-of-type {\n",
       "        vertical-align: middle;\n",
       "    }\n",
       "\n",
       "    .dataframe tbody tr th {\n",
       "        vertical-align: top;\n",
       "    }\n",
       "\n",
       "    .dataframe thead th {\n",
       "        text-align: right;\n",
       "    }\n",
       "</style>\n",
       "<table border=\"1\" class=\"dataframe\">\n",
       "  <thead>\n",
       "    <tr style=\"text-align: right;\">\n",
       "      <th></th>\n",
       "      <th>name</th>\n",
       "      <th>chord_pitches</th>\n",
       "      <th>roman</th>\n",
       "      <th>chord_pitches_str</th>\n",
       "      <th>roman_interval</th>\n",
       "      <th>maj_min</th>\n",
       "      <th>ext_list</th>\n",
       "      <th>ext</th>\n",
       "      <th>roman_interval_list</th>\n",
       "      <th>maj_min_list</th>\n",
       "    </tr>\n",
       "  </thead>\n",
       "  <tbody>\n",
       "    <tr>\n",
       "      <th>0</th>\n",
       "      <td>Fmaj7</td>\n",
       "      <td>[F2, A2, C3, E3]</td>\n",
       "      <td>IV7</td>\n",
       "      <td>F, A, C, E</td>\n",
       "      <td>IV</td>\n",
       "      <td>M</td>\n",
       "      <td>[7]</td>\n",
       "      <td>7</td>\n",
       "      <td>[IV]</td>\n",
       "      <td>[M]</td>\n",
       "    </tr>\n",
       "    <tr>\n",
       "      <th>1</th>\n",
       "      <td>B-m11/F</td>\n",
       "      <td>[F3, A-3, B-3, C4, D-4, E-4]</td>\n",
       "      <td>bvii76#543</td>\n",
       "      <td>F, A-, B-, C, D-, E-</td>\n",
       "      <td>vii</td>\n",
       "      <td>m</td>\n",
       "      <td>[11]</td>\n",
       "      <td>11</td>\n",
       "      <td>[vii]</td>\n",
       "      <td>[m]</td>\n",
       "    </tr>\n",
       "  </tbody>\n",
       "</table>\n",
       "</div>"
      ],
      "text/plain": [
       "      name                 chord_pitches       roman     chord_pitches_str  \\\n",
       "0    Fmaj7              [F2, A2, C3, E3]         IV7            F, A, C, E   \n",
       "1  B-m11/F  [F3, A-3, B-3, C4, D-4, E-4]  bvii76#543  F, A-, B-, C, D-, E-   \n",
       "\n",
       "  roman_interval maj_min ext_list ext roman_interval_list maj_min_list  \n",
       "0             IV       M      [7]   7                [IV]          [M]  \n",
       "1            vii       m     [11]  11               [vii]          [m]  "
      ]
     },
     "execution_count": 52,
     "metadata": {},
     "output_type": "execute_result"
    }
   ],
   "source": [
    "# remove all numerical information from chord_pithes\n",
    "chord_def['chord_pitches_str'] = chord_def.chord_pitches_str.str.replace('\\d+', '', regex=True)\n",
    "chord_def.head(2)"
   ]
  },
  {
   "cell_type": "markdown",
   "id": "similar-mistress",
   "metadata": {},
   "source": [
    "## Handling half-step notation for each note\n",
    "\n",
    "Each note can be written in many ways depending on the current key.  Since all of the work is done in the key of C, no notes have default accidentals (sharps/flats).  Given this default configuration, any note preceding a '#' or '-' is assumed to not hold any inherent accidental to keep into account.   The following assignment consolidates a note's options into one arbitrarily chosen option.  "
   ]
  },
  {
   "cell_type": "code",
   "execution_count": 53,
   "id": "framed-mission",
   "metadata": {
    "ExecuteTime": {
     "end_time": "2021-04-12T04:19:30.242857Z",
     "start_time": "2021-04-12T04:19:30.233859Z"
    }
   },
   "outputs": [],
   "source": [
    "# setting some arbitrary note equivalents (Eb instead of D#)\n",
    "\n",
    "equivalent_notes = {\n",
    "    'G##': 'A',\n",
    "    'B--': 'A',\n",
    "    'A##': 'B', \n",
    "    'C-': 'B', \n",
    "    'A#': 'B-',\n",
    "    'C--': 'B-', \n",
    "    'B#': 'C', \n",
    "    'D--': 'C',\n",
    "    'B##': 'C#',\n",
    "    'D-': 'C#',\n",
    "    'E---': 'C#',\n",
    "    'C##': 'D', \n",
    "    'E--': 'D',\n",
    "    'D#': 'E-',\n",
    "    'F--': 'E-',\n",
    "    'F-': 'E',\n",
    "    'D##': 'E',\n",
    "    'Eb#': 'E',\n",
    "    'E#': 'F',\n",
    "    'G--': 'F',\n",
    "    'G-': 'F#', \n",
    "    'E##': 'F#',\n",
    "    'F##': 'G', \n",
    "    'A--': 'G',\n",
    "    'G#':  'A-',\n",
    "    'B---': 'A-'\n",
    "}\n",
    "equivalent_tuples = equivalent_notes.items()"
   ]
  },
  {
   "cell_type": "code",
   "execution_count": 54,
   "id": "straight-marathon",
   "metadata": {
    "ExecuteTime": {
     "end_time": "2021-04-12T04:19:30.261358Z",
     "start_time": "2021-04-12T04:19:30.245357Z"
    }
   },
   "outputs": [],
   "source": [
    "# Replacing all keys with values\n",
    "for pair in equivalent_tuples:\n",
    "    chord_def['chord_pitches_str'] = chord_def['chord_pitches_str'].apply(lambda x: x.replace(pair[0], pair[1]))"
   ]
  },
  {
   "cell_type": "code",
   "execution_count": 55,
   "id": "twelve-blake",
   "metadata": {
    "ExecuteTime": {
     "end_time": "2021-04-12T04:19:30.296860Z",
     "start_time": "2021-04-12T04:19:30.262859Z"
    },
    "scrolled": true
   },
   "outputs": [
    {
     "data": {
      "text/html": [
       "<div>\n",
       "<style scoped>\n",
       "    .dataframe tbody tr th:only-of-type {\n",
       "        vertical-align: middle;\n",
       "    }\n",
       "\n",
       "    .dataframe tbody tr th {\n",
       "        vertical-align: top;\n",
       "    }\n",
       "\n",
       "    .dataframe thead th {\n",
       "        text-align: right;\n",
       "    }\n",
       "</style>\n",
       "<table border=\"1\" class=\"dataframe\">\n",
       "  <thead>\n",
       "    <tr style=\"text-align: right;\">\n",
       "      <th></th>\n",
       "      <th>name</th>\n",
       "      <th>chord_pitches</th>\n",
       "      <th>roman</th>\n",
       "      <th>chord_pitches_str</th>\n",
       "      <th>roman_interval</th>\n",
       "      <th>maj_min</th>\n",
       "      <th>ext_list</th>\n",
       "      <th>ext</th>\n",
       "      <th>roman_interval_list</th>\n",
       "      <th>maj_min_list</th>\n",
       "      <th>chord_pitches_consolidated</th>\n",
       "    </tr>\n",
       "  </thead>\n",
       "  <tbody>\n",
       "    <tr>\n",
       "      <th>1412</th>\n",
       "      <td>Bm7/A</td>\n",
       "      <td>[A3, B3, D4, F#4]</td>\n",
       "      <td>vii#642</td>\n",
       "      <td>A, B, D, F#</td>\n",
       "      <td>vii</td>\n",
       "      <td>m</td>\n",
       "      <td>[7]</td>\n",
       "      <td>7</td>\n",
       "      <td>[vii]</td>\n",
       "      <td>[m]</td>\n",
       "      <td>[A, B, D, F#]</td>\n",
       "    </tr>\n",
       "    <tr>\n",
       "      <th>1361</th>\n",
       "      <td>D6/A</td>\n",
       "      <td>[A1, B1, D2, F#2]</td>\n",
       "      <td>II#642</td>\n",
       "      <td>A, B, D, F#</td>\n",
       "      <td>II</td>\n",
       "      <td>M</td>\n",
       "      <td>[6]</td>\n",
       "      <td>6</td>\n",
       "      <td>[II]</td>\n",
       "      <td>[M]</td>\n",
       "      <td>[A, B, D, F#]</td>\n",
       "    </tr>\n",
       "    <tr>\n",
       "      <th>1201</th>\n",
       "      <td>B-maj7/A</td>\n",
       "      <td>[A2, B-2, D3, F3]</td>\n",
       "      <td>bVII#6#42</td>\n",
       "      <td>A, B-, D, F</td>\n",
       "      <td>VII</td>\n",
       "      <td>M</td>\n",
       "      <td>[7]</td>\n",
       "      <td>7</td>\n",
       "      <td>[VII]</td>\n",
       "      <td>[M]</td>\n",
       "      <td>[A, B-, D, F]</td>\n",
       "    </tr>\n",
       "    <tr>\n",
       "      <th>1183</th>\n",
       "      <td>B--</td>\n",
       "      <td>[B--1, D-2, F-2]</td>\n",
       "      <td>bbVII</td>\n",
       "      <td>A, C#, E</td>\n",
       "      <td>VII</td>\n",
       "      <td>M</td>\n",
       "      <td>[]</td>\n",
       "      <td></td>\n",
       "      <td>[VII]</td>\n",
       "      <td>[M]</td>\n",
       "      <td>[A, C#, E]</td>\n",
       "    </tr>\n",
       "    <tr>\n",
       "      <th>1001</th>\n",
       "      <td>B--maj7</td>\n",
       "      <td>[B--2, D-3, F-3, A-3]</td>\n",
       "      <td>bbVII#7#5#3</td>\n",
       "      <td>A, C#, E, A-</td>\n",
       "      <td>VII</td>\n",
       "      <td>M</td>\n",
       "      <td>[7]</td>\n",
       "      <td>7</td>\n",
       "      <td>[VII]</td>\n",
       "      <td>[M]</td>\n",
       "      <td>[A, C#, E, A-]</td>\n",
       "    </tr>\n",
       "    <tr>\n",
       "      <th>...</th>\n",
       "      <td>...</td>\n",
       "      <td>...</td>\n",
       "      <td>...</td>\n",
       "      <td>...</td>\n",
       "      <td>...</td>\n",
       "      <td>...</td>\n",
       "      <td>...</td>\n",
       "      <td>...</td>\n",
       "      <td>...</td>\n",
       "      <td>...</td>\n",
       "      <td>...</td>\n",
       "    </tr>\n",
       "    <tr>\n",
       "      <th>1350</th>\n",
       "      <td>A--m9</td>\n",
       "      <td>[A--2, C--3, E--3, G--3, B--3]</td>\n",
       "      <td>bbvi7532</td>\n",
       "      <td>G, B-, D, F, A</td>\n",
       "      <td>vi</td>\n",
       "      <td>m</td>\n",
       "      <td>[9]</td>\n",
       "      <td>9</td>\n",
       "      <td>[vi]</td>\n",
       "      <td>[m]</td>\n",
       "      <td>[G, B-, D, F, A]</td>\n",
       "    </tr>\n",
       "    <tr>\n",
       "      <th>1289</th>\n",
       "      <td>C13/G</td>\n",
       "      <td>[G2, B-2, D3, F3, A3, C4, E4]</td>\n",
       "      <td>I7654b32</td>\n",
       "      <td>G, B-, D, F, A, C, E</td>\n",
       "      <td>I</td>\n",
       "      <td>M</td>\n",
       "      <td>[13]</td>\n",
       "      <td>13</td>\n",
       "      <td>[I]</td>\n",
       "      <td>[M]</td>\n",
       "      <td>[G, B-, D, F, A, C, E]</td>\n",
       "    </tr>\n",
       "    <tr>\n",
       "      <th>1178</th>\n",
       "      <td>A--sus</td>\n",
       "      <td>[A--2, D--3, E--3]</td>\n",
       "      <td>bbvi54</td>\n",
       "      <td>G, C, D</td>\n",
       "      <td>vi</td>\n",
       "      <td>m</td>\n",
       "      <td>[sus]</td>\n",
       "      <td>sus</td>\n",
       "      <td>[vi]</td>\n",
       "      <td>[m]</td>\n",
       "      <td>[G, C, D]</td>\n",
       "    </tr>\n",
       "    <tr>\n",
       "      <th>1175</th>\n",
       "      <td>D--/A--</td>\n",
       "      <td>[A--2, D--3, F-3]</td>\n",
       "      <td>bbII64</td>\n",
       "      <td>G, C, E</td>\n",
       "      <td>II</td>\n",
       "      <td>M</td>\n",
       "      <td>[]</td>\n",
       "      <td></td>\n",
       "      <td>[II]</td>\n",
       "      <td>[M]</td>\n",
       "      <td>[G, C, E]</td>\n",
       "    </tr>\n",
       "    <tr>\n",
       "      <th>1319</th>\n",
       "      <td>Dm11/G</td>\n",
       "      <td>[G1, D2, F2, A2, C3, E3]</td>\n",
       "      <td>ii76542</td>\n",
       "      <td>G, D, F, A, C, E</td>\n",
       "      <td>ii</td>\n",
       "      <td>m</td>\n",
       "      <td>[11]</td>\n",
       "      <td>11</td>\n",
       "      <td>[ii]</td>\n",
       "      <td>[m]</td>\n",
       "      <td>[G, D, F, A, C, E]</td>\n",
       "    </tr>\n",
       "  </tbody>\n",
       "</table>\n",
       "<p>410 rows × 11 columns</p>\n",
       "</div>"
      ],
      "text/plain": [
       "          name                   chord_pitches        roman  \\\n",
       "1412     Bm7/A               [A3, B3, D4, F#4]      vii#642   \n",
       "1361      D6/A               [A1, B1, D2, F#2]       II#642   \n",
       "1201  B-maj7/A               [A2, B-2, D3, F3]    bVII#6#42   \n",
       "1183       B--                [B--1, D-2, F-2]        bbVII   \n",
       "1001   B--maj7           [B--2, D-3, F-3, A-3]  bbVII#7#5#3   \n",
       "...        ...                             ...          ...   \n",
       "1350     A--m9  [A--2, C--3, E--3, G--3, B--3]     bbvi7532   \n",
       "1289     C13/G   [G2, B-2, D3, F3, A3, C4, E4]     I7654b32   \n",
       "1178    A--sus              [A--2, D--3, E--3]       bbvi54   \n",
       "1175   D--/A--               [A--2, D--3, F-3]       bbII64   \n",
       "1319    Dm11/G        [G1, D2, F2, A2, C3, E3]      ii76542   \n",
       "\n",
       "         chord_pitches_str roman_interval maj_min ext_list  ext  \\\n",
       "1412           A, B, D, F#            vii       m      [7]    7   \n",
       "1361           A, B, D, F#             II       M      [6]    6   \n",
       "1201           A, B-, D, F            VII       M      [7]    7   \n",
       "1183              A, C#, E            VII       M       []        \n",
       "1001          A, C#, E, A-            VII       M      [7]    7   \n",
       "...                    ...            ...     ...      ...  ...   \n",
       "1350        G, B-, D, F, A             vi       m      [9]    9   \n",
       "1289  G, B-, D, F, A, C, E              I       M     [13]   13   \n",
       "1178               G, C, D             vi       m    [sus]  sus   \n",
       "1175               G, C, E             II       M       []        \n",
       "1319      G, D, F, A, C, E             ii       m     [11]   11   \n",
       "\n",
       "     roman_interval_list maj_min_list chord_pitches_consolidated  \n",
       "1412               [vii]          [m]              [A, B, D, F#]  \n",
       "1361                [II]          [M]              [A, B, D, F#]  \n",
       "1201               [VII]          [M]              [A, B-, D, F]  \n",
       "1183               [VII]          [M]                 [A, C#, E]  \n",
       "1001               [VII]          [M]             [A, C#, E, A-]  \n",
       "...                  ...          ...                        ...  \n",
       "1350                [vi]          [m]           [G, B-, D, F, A]  \n",
       "1289                 [I]          [M]     [G, B-, D, F, A, C, E]  \n",
       "1178                [vi]          [m]                  [G, C, D]  \n",
       "1175                [II]          [M]                  [G, C, E]  \n",
       "1319                [ii]          [m]         [G, D, F, A, C, E]  \n",
       "\n",
       "[410 rows x 11 columns]"
      ]
     },
     "execution_count": 55,
     "metadata": {},
     "output_type": "execute_result"
    }
   ],
   "source": [
    "# Creating a consolidated column\n",
    "chord_def['chord_pitches_consolidated'] = chord_def['chord_pitches_str'].apply(lambda x: x.strip())\n",
    "chord_def['chord_pitches_consolidated'] = chord_def['chord_pitches_str'].apply(lambda x: x.split(', '))\n",
    "chord_def[chord_def['chord_pitches_str'].duplicated()].sort_values('chord_pitches_str')"
   ]
  },
  {
   "cell_type": "code",
   "execution_count": 56,
   "id": "center-invitation",
   "metadata": {
    "ExecuteTime": {
     "end_time": "2021-04-12T04:19:30.303358Z",
     "start_time": "2021-04-12T04:19:30.298357Z"
    }
   },
   "outputs": [
    {
     "data": {
      "text/plain": [
       "{'A', 'A-', 'B', 'B-', 'C', 'C#', 'D', 'E', 'E-', 'E-#', 'F', 'F#', 'G'}"
      ]
     },
     "execution_count": 56,
     "metadata": {},
     "output_type": "execute_result"
    }
   ],
   "source": [
    "full_list =[]\n",
    "for prog in chord_def.chord_pitches_consolidated:\n",
    "    for note in prog:\n",
    "        full_list.append(note)\n",
    "full_list_set = set(full_list)\n",
    "full_list_set"
   ]
  },
  {
   "cell_type": "markdown",
   "id": "incorrect-samoa",
   "metadata": {},
   "source": [
    "A final dataframe will be exported for visualization purposes in Tableau"
   ]
  },
  {
   "cell_type": "code",
   "execution_count": 57,
   "id": "white-peace",
   "metadata": {
    "ExecuteTime": {
     "end_time": "2021-04-12T04:19:30.339359Z",
     "start_time": "2021-04-12T04:19:30.304360Z"
    },
    "scrolled": false
   },
   "outputs": [
    {
     "name": "stdout",
     "output_type": "stream",
     "text": [
      "(1231, 5)\n"
     ]
    },
    {
     "data": {
      "text/html": [
       "<div>\n",
       "<style scoped>\n",
       "    .dataframe tbody tr th:only-of-type {\n",
       "        vertical-align: middle;\n",
       "    }\n",
       "\n",
       "    .dataframe tbody tr th {\n",
       "        vertical-align: top;\n",
       "    }\n",
       "\n",
       "    .dataframe thead th {\n",
       "        text-align: right;\n",
       "    }\n",
       "</style>\n",
       "<table border=\"1\" class=\"dataframe\">\n",
       "  <thead>\n",
       "    <tr style=\"text-align: right;\">\n",
       "      <th></th>\n",
       "      <th>name</th>\n",
       "      <th>chord_pitches_consolidated</th>\n",
       "      <th>roman_interval_list</th>\n",
       "      <th>ext_list</th>\n",
       "      <th>maj_min_list</th>\n",
       "    </tr>\n",
       "  </thead>\n",
       "  <tbody>\n",
       "    <tr>\n",
       "      <th>0</th>\n",
       "      <td>Fmaj7</td>\n",
       "      <td>[F, A, C, E]</td>\n",
       "      <td>[IV]</td>\n",
       "      <td>[7]</td>\n",
       "      <td>[M]</td>\n",
       "    </tr>\n",
       "    <tr>\n",
       "      <th>1</th>\n",
       "      <td>B-m11/F</td>\n",
       "      <td>[F, A-, B-, C, C#, E-]</td>\n",
       "      <td>[vii]</td>\n",
       "      <td>[11]</td>\n",
       "      <td>[m]</td>\n",
       "    </tr>\n",
       "    <tr>\n",
       "      <th>2</th>\n",
       "      <td>E/o7</td>\n",
       "      <td>[E, G, B-, D]</td>\n",
       "      <td>[iii]</td>\n",
       "      <td>[7]</td>\n",
       "      <td>[m]</td>\n",
       "    </tr>\n",
       "    <tr>\n",
       "      <th>3</th>\n",
       "      <td>Eo7</td>\n",
       "      <td>[E, G, B-, C#]</td>\n",
       "      <td>[iii]</td>\n",
       "      <td>[7]</td>\n",
       "      <td>[m]</td>\n",
       "    </tr>\n",
       "    <tr>\n",
       "      <th>4</th>\n",
       "      <td>Dm9</td>\n",
       "      <td>[D, F, A, C, E]</td>\n",
       "      <td>[ii]</td>\n",
       "      <td>[9]</td>\n",
       "      <td>[m]</td>\n",
       "    </tr>\n",
       "    <tr>\n",
       "      <th>...</th>\n",
       "      <td>...</td>\n",
       "      <td>...</td>\n",
       "      <td>...</td>\n",
       "      <td>...</td>\n",
       "      <td>...</td>\n",
       "    </tr>\n",
       "    <tr>\n",
       "      <th>1226</th>\n",
       "      <td>Fsus/B-</td>\n",
       "      <td>[B-, C, F]</td>\n",
       "      <td>[iv]</td>\n",
       "      <td>[sus]</td>\n",
       "      <td>[m]</td>\n",
       "    </tr>\n",
       "    <tr>\n",
       "      <th>1227</th>\n",
       "      <td>C#/B</td>\n",
       "      <td>[B, C#, F, A-]</td>\n",
       "      <td>[I]</td>\n",
       "      <td>[]</td>\n",
       "      <td>[M]</td>\n",
       "    </tr>\n",
       "    <tr>\n",
       "      <th>1228</th>\n",
       "      <td>C#/B#</td>\n",
       "      <td>[C, C#, F, A-]</td>\n",
       "      <td>[I]</td>\n",
       "      <td>[]</td>\n",
       "      <td>[M]</td>\n",
       "    </tr>\n",
       "    <tr>\n",
       "      <th>1229</th>\n",
       "      <td>F#/E#</td>\n",
       "      <td>[F, F#, B-, C#]</td>\n",
       "      <td>[IV]</td>\n",
       "      <td>[]</td>\n",
       "      <td>[M]</td>\n",
       "    </tr>\n",
       "    <tr>\n",
       "      <th>1230</th>\n",
       "      <td>CM9/E</td>\n",
       "      <td>[E, G, B, C, D]</td>\n",
       "      <td>[I]</td>\n",
       "      <td>[9]</td>\n",
       "      <td>[M]</td>\n",
       "    </tr>\n",
       "  </tbody>\n",
       "</table>\n",
       "<p>1231 rows × 5 columns</p>\n",
       "</div>"
      ],
      "text/plain": [
       "         name chord_pitches_consolidated roman_interval_list ext_list  \\\n",
       "0       Fmaj7               [F, A, C, E]                [IV]      [7]   \n",
       "1     B-m11/F     [F, A-, B-, C, C#, E-]               [vii]     [11]   \n",
       "2        E/o7              [E, G, B-, D]               [iii]      [7]   \n",
       "3         Eo7             [E, G, B-, C#]               [iii]      [7]   \n",
       "4         Dm9            [D, F, A, C, E]                [ii]      [9]   \n",
       "...       ...                        ...                 ...      ...   \n",
       "1226  Fsus/B-                 [B-, C, F]                [iv]    [sus]   \n",
       "1227     C#/B             [B, C#, F, A-]                 [I]       []   \n",
       "1228    C#/B#             [C, C#, F, A-]                 [I]       []   \n",
       "1229    F#/E#            [F, F#, B-, C#]                [IV]       []   \n",
       "1230    CM9/E            [E, G, B, C, D]                 [I]      [9]   \n",
       "\n",
       "     maj_min_list  \n",
       "0             [M]  \n",
       "1             [m]  \n",
       "2             [m]  \n",
       "3             [m]  \n",
       "4             [m]  \n",
       "...           ...  \n",
       "1226          [m]  \n",
       "1227          [M]  \n",
       "1228          [M]  \n",
       "1229          [M]  \n",
       "1230          [M]  \n",
       "\n",
       "[1231 rows x 5 columns]"
      ]
     },
     "metadata": {},
     "output_type": "display_data"
    }
   ],
   "source": [
    "X_ml = chord_def[['name', 'chord_pitches_consolidated', 'roman_interval_list', 'ext_list', 'maj_min_list']]\n",
    "print(X_ml.shape)\n",
    "X_ml = X_ml.loc[~X_ml.index.duplicated()]\n",
    "X_ml = X_ml.reset_index(drop=True)\n",
    "display(X_ml)\n",
    "\n",
    "X_ml.to_csv('X_ml.csv', index=False)"
   ]
  },
  {
   "cell_type": "markdown",
   "id": "wrong-question",
   "metadata": {},
   "source": [
    "# Clustering Preprocessing: One Hot Encoding"
   ]
  },
  {
   "cell_type": "code",
   "execution_count": 58,
   "id": "middle-convergence",
   "metadata": {
    "ExecuteTime": {
     "end_time": "2021-04-12T04:19:30.407359Z",
     "start_time": "2021-04-12T04:19:30.340356Z"
    },
    "scrolled": true
   },
   "outputs": [
    {
     "name": "stdout",
     "output_type": "stream",
     "text": [
      "(1231, 13)\n",
      "(1231, 14)\n",
      "(1231, 7)\n",
      "(1231, 2)\n",
      "X_mlb shape: (1231, 36)\n"
     ]
    },
    {
     "data": {
      "text/html": [
       "<div>\n",
       "<style scoped>\n",
       "    .dataframe tbody tr th:only-of-type {\n",
       "        vertical-align: middle;\n",
       "    }\n",
       "\n",
       "    .dataframe tbody tr th {\n",
       "        vertical-align: top;\n",
       "    }\n",
       "\n",
       "    .dataframe thead th {\n",
       "        text-align: right;\n",
       "    }\n",
       "</style>\n",
       "<table border=\"1\" class=\"dataframe\">\n",
       "  <thead>\n",
       "    <tr style=\"text-align: right;\">\n",
       "      <th></th>\n",
       "      <th>count</th>\n",
       "      <th>mean</th>\n",
       "      <th>std</th>\n",
       "      <th>min</th>\n",
       "      <th>25%</th>\n",
       "      <th>50%</th>\n",
       "      <th>75%</th>\n",
       "      <th>max</th>\n",
       "    </tr>\n",
       "  </thead>\n",
       "  <tbody>\n",
       "    <tr>\n",
       "      <th>A</th>\n",
       "      <td>1231.0</td>\n",
       "      <td>0.394801</td>\n",
       "      <td>0.489007</td>\n",
       "      <td>0.0</td>\n",
       "      <td>0.0</td>\n",
       "      <td>0.0</td>\n",
       "      <td>1.0</td>\n",
       "      <td>1.0</td>\n",
       "    </tr>\n",
       "    <tr>\n",
       "      <th>A-</th>\n",
       "      <td>1231.0</td>\n",
       "      <td>0.334687</td>\n",
       "      <td>0.472073</td>\n",
       "      <td>0.0</td>\n",
       "      <td>0.0</td>\n",
       "      <td>0.0</td>\n",
       "      <td>1.0</td>\n",
       "      <td>1.0</td>\n",
       "    </tr>\n",
       "    <tr>\n",
       "      <th>B</th>\n",
       "      <td>1231.0</td>\n",
       "      <td>0.346872</td>\n",
       "      <td>0.476168</td>\n",
       "      <td>0.0</td>\n",
       "      <td>0.0</td>\n",
       "      <td>0.0</td>\n",
       "      <td>1.0</td>\n",
       "      <td>1.0</td>\n",
       "    </tr>\n",
       "    <tr>\n",
       "      <th>B-</th>\n",
       "      <td>1231.0</td>\n",
       "      <td>0.339561</td>\n",
       "      <td>0.473753</td>\n",
       "      <td>0.0</td>\n",
       "      <td>0.0</td>\n",
       "      <td>0.0</td>\n",
       "      <td>1.0</td>\n",
       "      <td>1.0</td>\n",
       "    </tr>\n",
       "    <tr>\n",
       "      <th>C</th>\n",
       "      <td>1231.0</td>\n",
       "      <td>0.441105</td>\n",
       "      <td>0.496721</td>\n",
       "      <td>0.0</td>\n",
       "      <td>0.0</td>\n",
       "      <td>0.0</td>\n",
       "      <td>1.0</td>\n",
       "      <td>1.0</td>\n",
       "    </tr>\n",
       "    <tr>\n",
       "      <th>C#</th>\n",
       "      <td>1231.0</td>\n",
       "      <td>0.320065</td>\n",
       "      <td>0.466691</td>\n",
       "      <td>0.0</td>\n",
       "      <td>0.0</td>\n",
       "      <td>0.0</td>\n",
       "      <td>1.0</td>\n",
       "      <td>1.0</td>\n",
       "    </tr>\n",
       "    <tr>\n",
       "      <th>D</th>\n",
       "      <td>1231.0</td>\n",
       "      <td>0.400487</td>\n",
       "      <td>0.490196</td>\n",
       "      <td>0.0</td>\n",
       "      <td>0.0</td>\n",
       "      <td>0.0</td>\n",
       "      <td>1.0</td>\n",
       "      <td>1.0</td>\n",
       "    </tr>\n",
       "    <tr>\n",
       "      <th>E</th>\n",
       "      <td>1231.0</td>\n",
       "      <td>0.376117</td>\n",
       "      <td>0.484607</td>\n",
       "      <td>0.0</td>\n",
       "      <td>0.0</td>\n",
       "      <td>0.0</td>\n",
       "      <td>1.0</td>\n",
       "      <td>1.0</td>\n",
       "    </tr>\n",
       "    <tr>\n",
       "      <th>E-</th>\n",
       "      <td>1231.0</td>\n",
       "      <td>0.319253</td>\n",
       "      <td>0.466377</td>\n",
       "      <td>0.0</td>\n",
       "      <td>0.0</td>\n",
       "      <td>0.0</td>\n",
       "      <td>1.0</td>\n",
       "      <td>1.0</td>\n",
       "    </tr>\n",
       "    <tr>\n",
       "      <th>E-#</th>\n",
       "      <td>1231.0</td>\n",
       "      <td>0.008936</td>\n",
       "      <td>0.094144</td>\n",
       "      <td>0.0</td>\n",
       "      <td>0.0</td>\n",
       "      <td>0.0</td>\n",
       "      <td>0.0</td>\n",
       "      <td>1.0</td>\n",
       "    </tr>\n",
       "    <tr>\n",
       "      <th>F</th>\n",
       "      <td>1231.0</td>\n",
       "      <td>0.402112</td>\n",
       "      <td>0.490524</td>\n",
       "      <td>0.0</td>\n",
       "      <td>0.0</td>\n",
       "      <td>0.0</td>\n",
       "      <td>1.0</td>\n",
       "      <td>1.0</td>\n",
       "    </tr>\n",
       "    <tr>\n",
       "      <th>F#</th>\n",
       "      <td>1231.0</td>\n",
       "      <td>0.314379</td>\n",
       "      <td>0.464457</td>\n",
       "      <td>0.0</td>\n",
       "      <td>0.0</td>\n",
       "      <td>0.0</td>\n",
       "      <td>1.0</td>\n",
       "      <td>1.0</td>\n",
       "    </tr>\n",
       "    <tr>\n",
       "      <th>G</th>\n",
       "      <td>1231.0</td>\n",
       "      <td>0.417547</td>\n",
       "      <td>0.493355</td>\n",
       "      <td>0.0</td>\n",
       "      <td>0.0</td>\n",
       "      <td>0.0</td>\n",
       "      <td>1.0</td>\n",
       "      <td>1.0</td>\n",
       "    </tr>\n",
       "    <tr>\n",
       "      <th>I</th>\n",
       "      <td>1231.0</td>\n",
       "      <td>0.095857</td>\n",
       "      <td>0.294515</td>\n",
       "      <td>0.0</td>\n",
       "      <td>0.0</td>\n",
       "      <td>0.0</td>\n",
       "      <td>0.0</td>\n",
       "      <td>1.0</td>\n",
       "    </tr>\n",
       "    <tr>\n",
       "      <th>II</th>\n",
       "      <td>1231.0</td>\n",
       "      <td>0.089358</td>\n",
       "      <td>0.285376</td>\n",
       "      <td>0.0</td>\n",
       "      <td>0.0</td>\n",
       "      <td>0.0</td>\n",
       "      <td>0.0</td>\n",
       "      <td>1.0</td>\n",
       "    </tr>\n",
       "    <tr>\n",
       "      <th>III</th>\n",
       "      <td>1231.0</td>\n",
       "      <td>0.095045</td>\n",
       "      <td>0.293396</td>\n",
       "      <td>0.0</td>\n",
       "      <td>0.0</td>\n",
       "      <td>0.0</td>\n",
       "      <td>0.0</td>\n",
       "      <td>1.0</td>\n",
       "    </tr>\n",
       "    <tr>\n",
       "      <th>IV</th>\n",
       "      <td>1231.0</td>\n",
       "      <td>0.082047</td>\n",
       "      <td>0.274548</td>\n",
       "      <td>0.0</td>\n",
       "      <td>0.0</td>\n",
       "      <td>0.0</td>\n",
       "      <td>0.0</td>\n",
       "      <td>1.0</td>\n",
       "    </tr>\n",
       "    <tr>\n",
       "      <th>V</th>\n",
       "      <td>1231.0</td>\n",
       "      <td>0.094232</td>\n",
       "      <td>0.292270</td>\n",
       "      <td>0.0</td>\n",
       "      <td>0.0</td>\n",
       "      <td>0.0</td>\n",
       "      <td>0.0</td>\n",
       "      <td>1.0</td>\n",
       "    </tr>\n",
       "    <tr>\n",
       "      <th>VI</th>\n",
       "      <td>1231.0</td>\n",
       "      <td>0.095857</td>\n",
       "      <td>0.294515</td>\n",
       "      <td>0.0</td>\n",
       "      <td>0.0</td>\n",
       "      <td>0.0</td>\n",
       "      <td>0.0</td>\n",
       "      <td>1.0</td>\n",
       "    </tr>\n",
       "    <tr>\n",
       "      <th>VII</th>\n",
       "      <td>1231.0</td>\n",
       "      <td>0.088546</td>\n",
       "      <td>0.284203</td>\n",
       "      <td>0.0</td>\n",
       "      <td>0.0</td>\n",
       "      <td>0.0</td>\n",
       "      <td>0.0</td>\n",
       "      <td>1.0</td>\n",
       "    </tr>\n",
       "    <tr>\n",
       "      <th>i</th>\n",
       "      <td>1231.0</td>\n",
       "      <td>0.045491</td>\n",
       "      <td>0.208464</td>\n",
       "      <td>0.0</td>\n",
       "      <td>0.0</td>\n",
       "      <td>0.0</td>\n",
       "      <td>0.0</td>\n",
       "      <td>1.0</td>\n",
       "    </tr>\n",
       "    <tr>\n",
       "      <th>ii</th>\n",
       "      <td>1231.0</td>\n",
       "      <td>0.051990</td>\n",
       "      <td>0.222098</td>\n",
       "      <td>0.0</td>\n",
       "      <td>0.0</td>\n",
       "      <td>0.0</td>\n",
       "      <td>0.0</td>\n",
       "      <td>1.0</td>\n",
       "    </tr>\n",
       "    <tr>\n",
       "      <th>iii</th>\n",
       "      <td>1231.0</td>\n",
       "      <td>0.047116</td>\n",
       "      <td>0.211973</td>\n",
       "      <td>0.0</td>\n",
       "      <td>0.0</td>\n",
       "      <td>0.0</td>\n",
       "      <td>0.0</td>\n",
       "      <td>1.0</td>\n",
       "    </tr>\n",
       "    <tr>\n",
       "      <th>iv</th>\n",
       "      <td>1231.0</td>\n",
       "      <td>0.049553</td>\n",
       "      <td>0.217108</td>\n",
       "      <td>0.0</td>\n",
       "      <td>0.0</td>\n",
       "      <td>0.0</td>\n",
       "      <td>0.0</td>\n",
       "      <td>1.0</td>\n",
       "    </tr>\n",
       "    <tr>\n",
       "      <th>v</th>\n",
       "      <td>1231.0</td>\n",
       "      <td>0.048741</td>\n",
       "      <td>0.215413</td>\n",
       "      <td>0.0</td>\n",
       "      <td>0.0</td>\n",
       "      <td>0.0</td>\n",
       "      <td>0.0</td>\n",
       "      <td>1.0</td>\n",
       "    </tr>\n",
       "    <tr>\n",
       "      <th>vi</th>\n",
       "      <td>1231.0</td>\n",
       "      <td>0.060926</td>\n",
       "      <td>0.239292</td>\n",
       "      <td>0.0</td>\n",
       "      <td>0.0</td>\n",
       "      <td>0.0</td>\n",
       "      <td>0.0</td>\n",
       "      <td>1.0</td>\n",
       "    </tr>\n",
       "    <tr>\n",
       "      <th>vii</th>\n",
       "      <td>1231.0</td>\n",
       "      <td>0.055240</td>\n",
       "      <td>0.228540</td>\n",
       "      <td>0.0</td>\n",
       "      <td>0.0</td>\n",
       "      <td>0.0</td>\n",
       "      <td>0.0</td>\n",
       "      <td>1.0</td>\n",
       "    </tr>\n",
       "    <tr>\n",
       "      <th>11</th>\n",
       "      <td>1231.0</td>\n",
       "      <td>0.078798</td>\n",
       "      <td>0.269532</td>\n",
       "      <td>0.0</td>\n",
       "      <td>0.0</td>\n",
       "      <td>0.0</td>\n",
       "      <td>0.0</td>\n",
       "      <td>1.0</td>\n",
       "    </tr>\n",
       "    <tr>\n",
       "      <th>13</th>\n",
       "      <td>1231.0</td>\n",
       "      <td>0.069862</td>\n",
       "      <td>0.255018</td>\n",
       "      <td>0.0</td>\n",
       "      <td>0.0</td>\n",
       "      <td>0.0</td>\n",
       "      <td>0.0</td>\n",
       "      <td>1.0</td>\n",
       "    </tr>\n",
       "    <tr>\n",
       "      <th>6</th>\n",
       "      <td>1231.0</td>\n",
       "      <td>0.098294</td>\n",
       "      <td>0.297833</td>\n",
       "      <td>0.0</td>\n",
       "      <td>0.0</td>\n",
       "      <td>0.0</td>\n",
       "      <td>0.0</td>\n",
       "      <td>1.0</td>\n",
       "    </tr>\n",
       "    <tr>\n",
       "      <th>7</th>\n",
       "      <td>1231.0</td>\n",
       "      <td>0.372055</td>\n",
       "      <td>0.483549</td>\n",
       "      <td>0.0</td>\n",
       "      <td>0.0</td>\n",
       "      <td>0.0</td>\n",
       "      <td>1.0</td>\n",
       "      <td>1.0</td>\n",
       "    </tr>\n",
       "    <tr>\n",
       "      <th>9</th>\n",
       "      <td>1231.0</td>\n",
       "      <td>0.256702</td>\n",
       "      <td>0.436991</td>\n",
       "      <td>0.0</td>\n",
       "      <td>0.0</td>\n",
       "      <td>0.0</td>\n",
       "      <td>1.0</td>\n",
       "      <td>1.0</td>\n",
       "    </tr>\n",
       "    <tr>\n",
       "      <th>dim</th>\n",
       "      <td>1231.0</td>\n",
       "      <td>0.042242</td>\n",
       "      <td>0.201223</td>\n",
       "      <td>0.0</td>\n",
       "      <td>0.0</td>\n",
       "      <td>0.0</td>\n",
       "      <td>0.0</td>\n",
       "      <td>1.0</td>\n",
       "    </tr>\n",
       "    <tr>\n",
       "      <th>sus</th>\n",
       "      <td>1231.0</td>\n",
       "      <td>0.020309</td>\n",
       "      <td>0.141111</td>\n",
       "      <td>0.0</td>\n",
       "      <td>0.0</td>\n",
       "      <td>0.0</td>\n",
       "      <td>0.0</td>\n",
       "      <td>1.0</td>\n",
       "    </tr>\n",
       "    <tr>\n",
       "      <th>M</th>\n",
       "      <td>1231.0</td>\n",
       "      <td>0.640942</td>\n",
       "      <td>0.479919</td>\n",
       "      <td>0.0</td>\n",
       "      <td>0.0</td>\n",
       "      <td>1.0</td>\n",
       "      <td>1.0</td>\n",
       "      <td>1.0</td>\n",
       "    </tr>\n",
       "    <tr>\n",
       "      <th>m</th>\n",
       "      <td>1231.0</td>\n",
       "      <td>0.359058</td>\n",
       "      <td>0.479919</td>\n",
       "      <td>0.0</td>\n",
       "      <td>0.0</td>\n",
       "      <td>0.0</td>\n",
       "      <td>1.0</td>\n",
       "      <td>1.0</td>\n",
       "    </tr>\n",
       "  </tbody>\n",
       "</table>\n",
       "</div>"
      ],
      "text/plain": [
       "      count      mean       std  min  25%  50%  75%  max\n",
       "A    1231.0  0.394801  0.489007  0.0  0.0  0.0  1.0  1.0\n",
       "A-   1231.0  0.334687  0.472073  0.0  0.0  0.0  1.0  1.0\n",
       "B    1231.0  0.346872  0.476168  0.0  0.0  0.0  1.0  1.0\n",
       "B-   1231.0  0.339561  0.473753  0.0  0.0  0.0  1.0  1.0\n",
       "C    1231.0  0.441105  0.496721  0.0  0.0  0.0  1.0  1.0\n",
       "C#   1231.0  0.320065  0.466691  0.0  0.0  0.0  1.0  1.0\n",
       "D    1231.0  0.400487  0.490196  0.0  0.0  0.0  1.0  1.0\n",
       "E    1231.0  0.376117  0.484607  0.0  0.0  0.0  1.0  1.0\n",
       "E-   1231.0  0.319253  0.466377  0.0  0.0  0.0  1.0  1.0\n",
       "E-#  1231.0  0.008936  0.094144  0.0  0.0  0.0  0.0  1.0\n",
       "F    1231.0  0.402112  0.490524  0.0  0.0  0.0  1.0  1.0\n",
       "F#   1231.0  0.314379  0.464457  0.0  0.0  0.0  1.0  1.0\n",
       "G    1231.0  0.417547  0.493355  0.0  0.0  0.0  1.0  1.0\n",
       "I    1231.0  0.095857  0.294515  0.0  0.0  0.0  0.0  1.0\n",
       "II   1231.0  0.089358  0.285376  0.0  0.0  0.0  0.0  1.0\n",
       "III  1231.0  0.095045  0.293396  0.0  0.0  0.0  0.0  1.0\n",
       "IV   1231.0  0.082047  0.274548  0.0  0.0  0.0  0.0  1.0\n",
       "V    1231.0  0.094232  0.292270  0.0  0.0  0.0  0.0  1.0\n",
       "VI   1231.0  0.095857  0.294515  0.0  0.0  0.0  0.0  1.0\n",
       "VII  1231.0  0.088546  0.284203  0.0  0.0  0.0  0.0  1.0\n",
       "i    1231.0  0.045491  0.208464  0.0  0.0  0.0  0.0  1.0\n",
       "ii   1231.0  0.051990  0.222098  0.0  0.0  0.0  0.0  1.0\n",
       "iii  1231.0  0.047116  0.211973  0.0  0.0  0.0  0.0  1.0\n",
       "iv   1231.0  0.049553  0.217108  0.0  0.0  0.0  0.0  1.0\n",
       "v    1231.0  0.048741  0.215413  0.0  0.0  0.0  0.0  1.0\n",
       "vi   1231.0  0.060926  0.239292  0.0  0.0  0.0  0.0  1.0\n",
       "vii  1231.0  0.055240  0.228540  0.0  0.0  0.0  0.0  1.0\n",
       "11   1231.0  0.078798  0.269532  0.0  0.0  0.0  0.0  1.0\n",
       "13   1231.0  0.069862  0.255018  0.0  0.0  0.0  0.0  1.0\n",
       "6    1231.0  0.098294  0.297833  0.0  0.0  0.0  0.0  1.0\n",
       "7    1231.0  0.372055  0.483549  0.0  0.0  0.0  1.0  1.0\n",
       "9    1231.0  0.256702  0.436991  0.0  0.0  0.0  1.0  1.0\n",
       "dim  1231.0  0.042242  0.201223  0.0  0.0  0.0  0.0  1.0\n",
       "sus  1231.0  0.020309  0.141111  0.0  0.0  0.0  0.0  1.0\n",
       "M    1231.0  0.640942  0.479919  0.0  0.0  1.0  1.0  1.0\n",
       "m    1231.0  0.359058  0.479919  0.0  0.0  0.0  1.0  1.0"
      ]
     },
     "execution_count": 58,
     "metadata": {},
     "output_type": "execute_result"
    }
   ],
   "source": [
    "ohe = OneHotEncoder()\n",
    "mlb = MultiLabelBinarizer()\n",
    "\n",
    "def MLB(series):\n",
    "    mlb = MultiLabelBinarizer()\n",
    "    dataframe = pd.DataFrame(mlb.fit_transform(series),\n",
    "                  columns=mlb.classes_,\n",
    "                  index=series.index)\n",
    "    print(dataframe.shape)\n",
    "    return dataframe\n",
    "\n",
    "fitted_X_pitches = MLB(X_ml['chord_pitches_consolidated'])\n",
    "# drop column\n",
    "fitted_X_interval = MLB(X_ml['roman_interval_list'])\n",
    "# drop column\n",
    "fitted_X_ext = MLB(X_ml['ext_list'])\n",
    "# drop column\n",
    "fitted_X_mm = MLB(X_ml['maj_min_list'])\n",
    "# drop column\n",
    "\n",
    "X_mlb = pd.concat([fitted_X_pitches, fitted_X_interval, fitted_X_ext, fitted_X_mm], axis=1)\n",
    "print(f\"X_mlb shape: {X_mlb.shape}\")\n",
    "X_mlb.describe().T"
   ]
  },
  {
   "cell_type": "code",
   "execution_count": 59,
   "id": "latter-aberdeen",
   "metadata": {
    "ExecuteTime": {
     "end_time": "2021-04-12T04:19:30.421859Z",
     "start_time": "2021-04-12T04:19:30.408360Z"
    },
    "scrolled": true
   },
   "outputs": [
    {
     "name": "stdout",
     "output_type": "stream",
     "text": [
      "Index(['A', 'A-', 'B', 'B-', 'C', 'C#', 'D', 'E', 'E-', 'E-#', 'F', 'F#', 'G',\n",
      "       'I', 'II', 'III', 'IV', 'V', 'VI', 'VII', 'i', 'ii', 'iii', 'iv', 'v',\n",
      "       'vi', 'vii', '11', '13', '6', '7', '9', 'dim', 'sus', 'M', 'm'],\n",
      "      dtype='object')\n"
     ]
    },
    {
     "data": {
      "text/html": [
       "<div>\n",
       "<style scoped>\n",
       "    .dataframe tbody tr th:only-of-type {\n",
       "        vertical-align: middle;\n",
       "    }\n",
       "\n",
       "    .dataframe tbody tr th {\n",
       "        vertical-align: top;\n",
       "    }\n",
       "\n",
       "    .dataframe thead th {\n",
       "        text-align: right;\n",
       "    }\n",
       "</style>\n",
       "<table border=\"1\" class=\"dataframe\">\n",
       "  <thead>\n",
       "    <tr style=\"text-align: right;\">\n",
       "      <th></th>\n",
       "      <th>A</th>\n",
       "      <th>A-</th>\n",
       "      <th>B</th>\n",
       "      <th>B-</th>\n",
       "      <th>C</th>\n",
       "      <th>C#</th>\n",
       "      <th>D</th>\n",
       "      <th>E</th>\n",
       "      <th>E-</th>\n",
       "      <th>E-#</th>\n",
       "      <th>F</th>\n",
       "      <th>F#</th>\n",
       "      <th>G</th>\n",
       "      <th>I</th>\n",
       "      <th>II</th>\n",
       "      <th>III</th>\n",
       "      <th>IV</th>\n",
       "      <th>V</th>\n",
       "      <th>VI</th>\n",
       "      <th>VII</th>\n",
       "      <th>i</th>\n",
       "      <th>ii</th>\n",
       "      <th>iii</th>\n",
       "      <th>iv</th>\n",
       "      <th>v</th>\n",
       "      <th>vi</th>\n",
       "      <th>vii</th>\n",
       "      <th>11</th>\n",
       "      <th>13</th>\n",
       "      <th>6</th>\n",
       "      <th>7</th>\n",
       "      <th>9</th>\n",
       "      <th>dim</th>\n",
       "      <th>sus</th>\n",
       "      <th>M</th>\n",
       "      <th>m</th>\n",
       "    </tr>\n",
       "  </thead>\n",
       "  <tbody>\n",
       "    <tr>\n",
       "      <th>0</th>\n",
       "      <td>1</td>\n",
       "      <td>0</td>\n",
       "      <td>0</td>\n",
       "      <td>0</td>\n",
       "      <td>1</td>\n",
       "      <td>0</td>\n",
       "      <td>0</td>\n",
       "      <td>1</td>\n",
       "      <td>0</td>\n",
       "      <td>0</td>\n",
       "      <td>1</td>\n",
       "      <td>0</td>\n",
       "      <td>0</td>\n",
       "      <td>0</td>\n",
       "      <td>0</td>\n",
       "      <td>0</td>\n",
       "      <td>1</td>\n",
       "      <td>0</td>\n",
       "      <td>0</td>\n",
       "      <td>0</td>\n",
       "      <td>0</td>\n",
       "      <td>0</td>\n",
       "      <td>0</td>\n",
       "      <td>0</td>\n",
       "      <td>0</td>\n",
       "      <td>0</td>\n",
       "      <td>0</td>\n",
       "      <td>0</td>\n",
       "      <td>0</td>\n",
       "      <td>0</td>\n",
       "      <td>1</td>\n",
       "      <td>0</td>\n",
       "      <td>0</td>\n",
       "      <td>0</td>\n",
       "      <td>1</td>\n",
       "      <td>0</td>\n",
       "    </tr>\n",
       "    <tr>\n",
       "      <th>1</th>\n",
       "      <td>0</td>\n",
       "      <td>1</td>\n",
       "      <td>0</td>\n",
       "      <td>1</td>\n",
       "      <td>1</td>\n",
       "      <td>1</td>\n",
       "      <td>0</td>\n",
       "      <td>0</td>\n",
       "      <td>1</td>\n",
       "      <td>0</td>\n",
       "      <td>1</td>\n",
       "      <td>0</td>\n",
       "      <td>0</td>\n",
       "      <td>0</td>\n",
       "      <td>0</td>\n",
       "      <td>0</td>\n",
       "      <td>0</td>\n",
       "      <td>0</td>\n",
       "      <td>0</td>\n",
       "      <td>0</td>\n",
       "      <td>0</td>\n",
       "      <td>0</td>\n",
       "      <td>0</td>\n",
       "      <td>0</td>\n",
       "      <td>0</td>\n",
       "      <td>0</td>\n",
       "      <td>1</td>\n",
       "      <td>1</td>\n",
       "      <td>0</td>\n",
       "      <td>0</td>\n",
       "      <td>0</td>\n",
       "      <td>0</td>\n",
       "      <td>0</td>\n",
       "      <td>0</td>\n",
       "      <td>0</td>\n",
       "      <td>1</td>\n",
       "    </tr>\n",
       "    <tr>\n",
       "      <th>2</th>\n",
       "      <td>0</td>\n",
       "      <td>0</td>\n",
       "      <td>0</td>\n",
       "      <td>1</td>\n",
       "      <td>0</td>\n",
       "      <td>0</td>\n",
       "      <td>1</td>\n",
       "      <td>1</td>\n",
       "      <td>0</td>\n",
       "      <td>0</td>\n",
       "      <td>0</td>\n",
       "      <td>0</td>\n",
       "      <td>1</td>\n",
       "      <td>0</td>\n",
       "      <td>0</td>\n",
       "      <td>0</td>\n",
       "      <td>0</td>\n",
       "      <td>0</td>\n",
       "      <td>0</td>\n",
       "      <td>0</td>\n",
       "      <td>0</td>\n",
       "      <td>0</td>\n",
       "      <td>1</td>\n",
       "      <td>0</td>\n",
       "      <td>0</td>\n",
       "      <td>0</td>\n",
       "      <td>0</td>\n",
       "      <td>0</td>\n",
       "      <td>0</td>\n",
       "      <td>0</td>\n",
       "      <td>1</td>\n",
       "      <td>0</td>\n",
       "      <td>0</td>\n",
       "      <td>0</td>\n",
       "      <td>0</td>\n",
       "      <td>1</td>\n",
       "    </tr>\n",
       "    <tr>\n",
       "      <th>3</th>\n",
       "      <td>0</td>\n",
       "      <td>0</td>\n",
       "      <td>0</td>\n",
       "      <td>1</td>\n",
       "      <td>0</td>\n",
       "      <td>1</td>\n",
       "      <td>0</td>\n",
       "      <td>1</td>\n",
       "      <td>0</td>\n",
       "      <td>0</td>\n",
       "      <td>0</td>\n",
       "      <td>0</td>\n",
       "      <td>1</td>\n",
       "      <td>0</td>\n",
       "      <td>0</td>\n",
       "      <td>0</td>\n",
       "      <td>0</td>\n",
       "      <td>0</td>\n",
       "      <td>0</td>\n",
       "      <td>0</td>\n",
       "      <td>0</td>\n",
       "      <td>0</td>\n",
       "      <td>1</td>\n",
       "      <td>0</td>\n",
       "      <td>0</td>\n",
       "      <td>0</td>\n",
       "      <td>0</td>\n",
       "      <td>0</td>\n",
       "      <td>0</td>\n",
       "      <td>0</td>\n",
       "      <td>1</td>\n",
       "      <td>0</td>\n",
       "      <td>0</td>\n",
       "      <td>0</td>\n",
       "      <td>0</td>\n",
       "      <td>1</td>\n",
       "    </tr>\n",
       "    <tr>\n",
       "      <th>4</th>\n",
       "      <td>1</td>\n",
       "      <td>0</td>\n",
       "      <td>0</td>\n",
       "      <td>0</td>\n",
       "      <td>1</td>\n",
       "      <td>0</td>\n",
       "      <td>1</td>\n",
       "      <td>1</td>\n",
       "      <td>0</td>\n",
       "      <td>0</td>\n",
       "      <td>1</td>\n",
       "      <td>0</td>\n",
       "      <td>0</td>\n",
       "      <td>0</td>\n",
       "      <td>0</td>\n",
       "      <td>0</td>\n",
       "      <td>0</td>\n",
       "      <td>0</td>\n",
       "      <td>0</td>\n",
       "      <td>0</td>\n",
       "      <td>0</td>\n",
       "      <td>1</td>\n",
       "      <td>0</td>\n",
       "      <td>0</td>\n",
       "      <td>0</td>\n",
       "      <td>0</td>\n",
       "      <td>0</td>\n",
       "      <td>0</td>\n",
       "      <td>0</td>\n",
       "      <td>0</td>\n",
       "      <td>0</td>\n",
       "      <td>1</td>\n",
       "      <td>0</td>\n",
       "      <td>0</td>\n",
       "      <td>0</td>\n",
       "      <td>1</td>\n",
       "    </tr>\n",
       "  </tbody>\n",
       "</table>\n",
       "</div>"
      ],
      "text/plain": [
       "   A  A-  B  B-  C  C#  D  E  E-  E-#  F  F#  G  I  II  III  IV  V  VI  VII  \\\n",
       "0  1   0  0   0  1   0  0  1   0    0  1   0  0  0   0    0   1  0   0    0   \n",
       "1  0   1  0   1  1   1  0  0   1    0  1   0  0  0   0    0   0  0   0    0   \n",
       "2  0   0  0   1  0   0  1  1   0    0  0   0  1  0   0    0   0  0   0    0   \n",
       "3  0   0  0   1  0   1  0  1   0    0  0   0  1  0   0    0   0  0   0    0   \n",
       "4  1   0  0   0  1   0  1  1   0    0  1   0  0  0   0    0   0  0   0    0   \n",
       "\n",
       "   i  ii  iii  iv  v  vi  vii  11  13  6  7  9  dim  sus  M  m  \n",
       "0  0   0    0   0  0   0    0   0   0  0  1  0    0    0  1  0  \n",
       "1  0   0    0   0  0   0    1   1   0  0  0  0    0    0  0  1  \n",
       "2  0   0    1   0  0   0    0   0   0  0  1  0    0    0  0  1  \n",
       "3  0   0    1   0  0   0    0   0   0  0  1  0    0    0  0  1  \n",
       "4  0   1    0   0  0   0    0   0   0  0  0  1    0    0  0  1  "
      ]
     },
     "execution_count": 59,
     "metadata": {},
     "output_type": "execute_result"
    }
   ],
   "source": [
    "print(X_mlb.columns)\n",
    "X_mlb.head()"
   ]
  },
  {
   "cell_type": "code",
   "execution_count": 60,
   "id": "organic-employment",
   "metadata": {
    "ExecuteTime": {
     "end_time": "2021-04-12T04:19:30.427358Z",
     "start_time": "2021-04-12T04:19:30.422857Z"
    },
    "scrolled": true
   },
   "outputs": [],
   "source": [
    "X_mlb = X_mlb.drop(['ii', 'II','m', '11'], axis=1)\n"
   ]
  },
  {
   "cell_type": "markdown",
   "id": "tracked-defendant",
   "metadata": {},
   "source": [
    "## Correlation Matrix"
   ]
  },
  {
   "cell_type": "code",
   "execution_count": 61,
   "id": "special-equilibrium",
   "metadata": {
    "ExecuteTime": {
     "end_time": "2021-04-12T04:19:30.444858Z",
     "start_time": "2021-04-12T04:19:30.428859Z"
    }
   },
   "outputs": [],
   "source": [
    "X_corr = X_mlb.corr()"
   ]
  },
  {
   "cell_type": "code",
   "execution_count": 62,
   "id": "neither-clothing",
   "metadata": {
    "ExecuteTime": {
     "end_time": "2021-04-12T04:19:35.646359Z",
     "start_time": "2021-04-12T04:19:30.445357Z"
    },
    "scrolled": false
   },
   "outputs": [
    {
     "data": {
      "image/png": "[encoded data removed]",
      "text/plain": [
       "<Figure size 1800x1440 with 2 Axes>"
      ]
     },
     "metadata": {
      "needs_background": "light"
     },
     "output_type": "display_data"
    }
   ],
   "source": [
    "\n",
    "plt.figure(figsize=(25,20))\n",
    "sns.heatmap(abs(X_corr), cmap=\"Oranges\", vmin=0, vmax=1, center=0.5, annot=True, linewidths=2)\n",
    "plt.show()\n",
    "\n"
   ]
  },
  {
   "cell_type": "markdown",
   "id": "center-indianapolis",
   "metadata": {},
   "source": [
    "## Scaling (optional)"
   ]
  },
  {
   "cell_type": "code",
   "execution_count": 63,
   "id": "filled-protection",
   "metadata": {
    "ExecuteTime": {
     "end_time": "2021-04-12T04:19:35.656859Z",
     "start_time": "2021-04-12T04:19:35.647858Z"
    }
   },
   "outputs": [],
   "source": [
    "ss = StandardScaler()\n",
    "X_mlb_ss = ss.fit_transform(X_mlb)\n",
    "\n",
    "mm = MinMaxScaler()\n",
    "X_mlb_mm = mm.fit_transform(X_mlb)"
   ]
  },
  {
   "cell_type": "markdown",
   "id": "sustained-integer",
   "metadata": {},
   "source": [
    "## PCA (optional)"
   ]
  },
  {
   "cell_type": "code",
   "execution_count": 64,
   "id": "willing-porter",
   "metadata": {
    "ExecuteTime": {
     "end_time": "2021-04-12T04:19:35.706358Z",
     "start_time": "2021-04-12T04:19:35.657859Z"
    },
    "scrolled": true
   },
   "outputs": [
    {
     "data": {
      "text/html": [
       "<div>\n",
       "<style scoped>\n",
       "    .dataframe tbody tr th:only-of-type {\n",
       "        vertical-align: middle;\n",
       "    }\n",
       "\n",
       "    .dataframe tbody tr th {\n",
       "        vertical-align: top;\n",
       "    }\n",
       "\n",
       "    .dataframe thead th {\n",
       "        text-align: right;\n",
       "    }\n",
       "</style>\n",
       "<table border=\"1\" class=\"dataframe\">\n",
       "  <thead>\n",
       "    <tr style=\"text-align: right;\">\n",
       "      <th></th>\n",
       "      <th>PC1</th>\n",
       "      <th>PC2</th>\n",
       "      <th>PC3</th>\n",
       "      <th>PC4</th>\n",
       "      <th>PC5</th>\n",
       "      <th>PC6</th>\n",
       "      <th>PC7</th>\n",
       "      <th>PC8</th>\n",
       "      <th>PC9</th>\n",
       "      <th>PC10</th>\n",
       "      <th>PC11</th>\n",
       "      <th>PC12</th>\n",
       "      <th>PC13</th>\n",
       "      <th>PC14</th>\n",
       "      <th>PC15</th>\n",
       "      <th>PC16</th>\n",
       "      <th>PC17</th>\n",
       "      <th>PC18</th>\n",
       "      <th>PC19</th>\n",
       "      <th>PC20</th>\n",
       "      <th>PC21</th>\n",
       "      <th>PC22</th>\n",
       "      <th>PC23</th>\n",
       "      <th>PC24</th>\n",
       "      <th>PC25</th>\n",
       "      <th>PC26</th>\n",
       "      <th>PC27</th>\n",
       "      <th>PC28</th>\n",
       "      <th>PC29</th>\n",
       "      <th>PC30</th>\n",
       "      <th>PC31</th>\n",
       "      <th>PC32</th>\n",
       "    </tr>\n",
       "  </thead>\n",
       "  <tbody>\n",
       "    <tr>\n",
       "      <th>0</th>\n",
       "      <td>-0.528022</td>\n",
       "      <td>-1.448900</td>\n",
       "      <td>1.066867</td>\n",
       "      <td>-1.960906</td>\n",
       "      <td>-1.512476</td>\n",
       "      <td>1.386225</td>\n",
       "      <td>1.041376</td>\n",
       "      <td>-2.395149</td>\n",
       "      <td>0.129790</td>\n",
       "      <td>0.444217</td>\n",
       "      <td>1.136100</td>\n",
       "      <td>0.655869</td>\n",
       "      <td>-0.962242</td>\n",
       "      <td>0.232830</td>\n",
       "      <td>0.311986</td>\n",
       "      <td>0.599155</td>\n",
       "      <td>0.232118</td>\n",
       "      <td>-1.046068</td>\n",
       "      <td>0.201563</td>\n",
       "      <td>0.065962</td>\n",
       "      <td>0.408545</td>\n",
       "      <td>-0.637965</td>\n",
       "      <td>0.556404</td>\n",
       "      <td>-0.637837</td>\n",
       "      <td>0.305850</td>\n",
       "      <td>-0.824370</td>\n",
       "      <td>-0.033241</td>\n",
       "      <td>0.322512</td>\n",
       "      <td>-0.114503</td>\n",
       "      <td>-0.099669</td>\n",
       "      <td>0.071005</td>\n",
       "      <td>-0.072995</td>\n",
       "    </tr>\n",
       "    <tr>\n",
       "      <th>1</th>\n",
       "      <td>1.807040</td>\n",
       "      <td>3.213402</td>\n",
       "      <td>1.388591</td>\n",
       "      <td>0.226913</td>\n",
       "      <td>-0.472130</td>\n",
       "      <td>1.663672</td>\n",
       "      <td>0.800577</td>\n",
       "      <td>0.209321</td>\n",
       "      <td>-0.317236</td>\n",
       "      <td>0.289439</td>\n",
       "      <td>0.327252</td>\n",
       "      <td>-1.867107</td>\n",
       "      <td>-0.746885</td>\n",
       "      <td>-0.469506</td>\n",
       "      <td>-0.726983</td>\n",
       "      <td>-0.347532</td>\n",
       "      <td>-0.584100</td>\n",
       "      <td>2.027619</td>\n",
       "      <td>0.505228</td>\n",
       "      <td>0.938878</td>\n",
       "      <td>0.631987</td>\n",
       "      <td>0.819182</td>\n",
       "      <td>1.036078</td>\n",
       "      <td>-1.098642</td>\n",
       "      <td>-0.486305</td>\n",
       "      <td>0.424300</td>\n",
       "      <td>0.317979</td>\n",
       "      <td>0.088001</td>\n",
       "      <td>0.493536</td>\n",
       "      <td>-0.106438</td>\n",
       "      <td>-1.146209</td>\n",
       "      <td>-0.210199</td>\n",
       "    </tr>\n",
       "    <tr>\n",
       "      <th>2</th>\n",
       "      <td>1.878519</td>\n",
       "      <td>-1.134901</td>\n",
       "      <td>-0.720559</td>\n",
       "      <td>1.599877</td>\n",
       "      <td>2.665036</td>\n",
       "      <td>0.489787</td>\n",
       "      <td>-0.627335</td>\n",
       "      <td>-1.980296</td>\n",
       "      <td>0.672760</td>\n",
       "      <td>0.294739</td>\n",
       "      <td>-0.062078</td>\n",
       "      <td>1.476721</td>\n",
       "      <td>-0.492101</td>\n",
       "      <td>2.392042</td>\n",
       "      <td>1.022810</td>\n",
       "      <td>-2.104656</td>\n",
       "      <td>-0.596316</td>\n",
       "      <td>0.219285</td>\n",
       "      <td>0.225522</td>\n",
       "      <td>-0.076319</td>\n",
       "      <td>1.074766</td>\n",
       "      <td>0.640378</td>\n",
       "      <td>0.016867</td>\n",
       "      <td>0.278333</td>\n",
       "      <td>0.104980</td>\n",
       "      <td>0.110724</td>\n",
       "      <td>0.562881</td>\n",
       "      <td>-0.048853</td>\n",
       "      <td>-0.131662</td>\n",
       "      <td>-0.135436</td>\n",
       "      <td>0.143321</td>\n",
       "      <td>-0.074605</td>\n",
       "    </tr>\n",
       "    <tr>\n",
       "      <th>3</th>\n",
       "      <td>1.613026</td>\n",
       "      <td>0.303155</td>\n",
       "      <td>-1.177808</td>\n",
       "      <td>0.733827</td>\n",
       "      <td>3.214132</td>\n",
       "      <td>1.609337</td>\n",
       "      <td>-0.371016</td>\n",
       "      <td>-1.982164</td>\n",
       "      <td>0.250605</td>\n",
       "      <td>0.566964</td>\n",
       "      <td>-0.194350</td>\n",
       "      <td>0.883735</td>\n",
       "      <td>-0.243115</td>\n",
       "      <td>2.176437</td>\n",
       "      <td>1.877510</td>\n",
       "      <td>-1.790147</td>\n",
       "      <td>-0.390545</td>\n",
       "      <td>-0.434999</td>\n",
       "      <td>0.199986</td>\n",
       "      <td>0.032692</td>\n",
       "      <td>0.548417</td>\n",
       "      <td>1.215934</td>\n",
       "      <td>-0.280716</td>\n",
       "      <td>-0.464009</td>\n",
       "      <td>0.160143</td>\n",
       "      <td>0.270517</td>\n",
       "      <td>-0.202981</td>\n",
       "      <td>-0.301829</td>\n",
       "      <td>0.112890</td>\n",
       "      <td>-0.064156</td>\n",
       "      <td>0.098067</td>\n",
       "      <td>-0.000088</td>\n",
       "    </tr>\n",
       "    <tr>\n",
       "      <th>4</th>\n",
       "      <td>0.699797</td>\n",
       "      <td>-2.309985</td>\n",
       "      <td>0.722870</td>\n",
       "      <td>-0.396673</td>\n",
       "      <td>-1.165457</td>\n",
       "      <td>0.475218</td>\n",
       "      <td>0.741537</td>\n",
       "      <td>0.645812</td>\n",
       "      <td>-0.008056</td>\n",
       "      <td>-0.246700</td>\n",
       "      <td>-0.049858</td>\n",
       "      <td>0.348262</td>\n",
       "      <td>-0.299780</td>\n",
       "      <td>0.441338</td>\n",
       "      <td>-0.520721</td>\n",
       "      <td>-0.160682</td>\n",
       "      <td>-0.233674</td>\n",
       "      <td>0.443656</td>\n",
       "      <td>-1.195011</td>\n",
       "      <td>0.483521</td>\n",
       "      <td>0.605068</td>\n",
       "      <td>1.103541</td>\n",
       "      <td>-0.734236</td>\n",
       "      <td>-0.759692</td>\n",
       "      <td>-0.474858</td>\n",
       "      <td>-0.481090</td>\n",
       "      <td>0.346343</td>\n",
       "      <td>1.164456</td>\n",
       "      <td>0.357322</td>\n",
       "      <td>0.663463</td>\n",
       "      <td>-0.003012</td>\n",
       "      <td>0.794563</td>\n",
       "    </tr>\n",
       "  </tbody>\n",
       "</table>\n",
       "</div>"
      ],
      "text/plain": [
       "        PC1       PC2       PC3       PC4       PC5       PC6       PC7  \\\n",
       "0 -0.528022 -1.448900  1.066867 -1.960906 -1.512476  1.386225  1.041376   \n",
       "1  1.807040  3.213402  1.388591  0.226913 -0.472130  1.663672  0.800577   \n",
       "2  1.878519 -1.134901 -0.720559  1.599877  2.665036  0.489787 -0.627335   \n",
       "3  1.613026  0.303155 -1.177808  0.733827  3.214132  1.609337 -0.371016   \n",
       "4  0.699797 -2.309985  0.722870 -0.396673 -1.165457  0.475218  0.741537   \n",
       "\n",
       "        PC8       PC9      PC10      PC11      PC12      PC13      PC14  \\\n",
       "0 -2.395149  0.129790  0.444217  1.136100  0.655869 -0.962242  0.232830   \n",
       "1  0.209321 -0.317236  0.289439  0.327252 -1.867107 -0.746885 -0.469506   \n",
       "2 -1.980296  0.672760  0.294739 -0.062078  1.476721 -0.492101  2.392042   \n",
       "3 -1.982164  0.250605  0.566964 -0.194350  0.883735 -0.243115  2.176437   \n",
       "4  0.645812 -0.008056 -0.246700 -0.049858  0.348262 -0.299780  0.441338   \n",
       "\n",
       "       PC15      PC16      PC17      PC18      PC19      PC20      PC21  \\\n",
       "0  0.311986  0.599155  0.232118 -1.046068  0.201563  0.065962  0.408545   \n",
       "1 -0.726983 -0.347532 -0.584100  2.027619  0.505228  0.938878  0.631987   \n",
       "2  1.022810 -2.104656 -0.596316  0.219285  0.225522 -0.076319  1.074766   \n",
       "3  1.877510 -1.790147 -0.390545 -0.434999  0.199986  0.032692  0.548417   \n",
       "4 -0.520721 -0.160682 -0.233674  0.443656 -1.195011  0.483521  0.605068   \n",
       "\n",
       "       PC22      PC23      PC24      PC25      PC26      PC27      PC28  \\\n",
       "0 -0.637965  0.556404 -0.637837  0.305850 -0.824370 -0.033241  0.322512   \n",
       "1  0.819182  1.036078 -1.098642 -0.486305  0.424300  0.317979  0.088001   \n",
       "2  0.640378  0.016867  0.278333  0.104980  0.110724  0.562881 -0.048853   \n",
       "3  1.215934 -0.280716 -0.464009  0.160143  0.270517 -0.202981 -0.301829   \n",
       "4  1.103541 -0.734236 -0.759692 -0.474858 -0.481090  0.346343  1.164456   \n",
       "\n",
       "       PC29      PC30      PC31      PC32  \n",
       "0 -0.114503 -0.099669  0.071005 -0.072995  \n",
       "1  0.493536 -0.106438 -1.146209 -0.210199  \n",
       "2 -0.131662 -0.135436  0.143321 -0.074605  \n",
       "3  0.112890 -0.064156  0.098067 -0.000088  \n",
       "4  0.357322  0.663463 -0.003012  0.794563  "
      ]
     },
     "execution_count": 64,
     "metadata": {},
     "output_type": "execute_result"
    }
   ],
   "source": [
    "model_pca = PCA(n_components=None).fit(X_mlb_ss)\n",
    "X_pca = model_pca.transform(X_mlb_ss)\n",
    "\n",
    "pca_cols = [f\"PC{x}\" for x in range(1, len(model_pca.components_)+1)]\n",
    "\n",
    "# Again putting training set into DataFrame \n",
    "X_pca = pd.DataFrame(X_pca, columns=pca_cols)\n",
    "X_pca.head()"
   ]
  },
  {
   "cell_type": "code",
   "execution_count": 65,
   "id": "comparable-literature",
   "metadata": {
    "ExecuteTime": {
     "end_time": "2021-04-12T04:19:35.844359Z",
     "start_time": "2021-04-12T04:19:35.706859Z"
    },
    "scrolled": true
   },
   "outputs": [
    {
     "data": {
      "image/png": "[encoded data removed]",
      "text/plain": [
       "<Figure size 432x288 with 1 Axes>"
      ]
     },
     "metadata": {
      "needs_background": "light"
     },
     "output_type": "display_data"
    }
   ],
   "source": [
    "num_pcas = model_pca.components_\n",
    "plt.figure()\n",
    "plt.plot(range(1, len(num_pcas)+1), model_pca.explained_variance_ratio_, label=\"explained var ratio\", marker=\"*\")\n",
    "plt.plot(range(1, len(num_pcas)+1), model_pca.explained_variance_ratio_.cumsum(), label=\"cumulative explained var ratio\", marker=\"*\")\n",
    "plt.xlabel(\"Principal component number\")\n",
    "plt.ylabel(\"Explained variance ratio\")\n",
    "plt.legend()\n",
    "plt.show()"
   ]
  },
  {
   "cell_type": "code",
   "execution_count": 66,
   "id": "novel-carnival",
   "metadata": {
    "ExecuteTime": {
     "end_time": "2021-04-12T04:19:35.858360Z",
     "start_time": "2021-04-12T04:19:35.845358Z"
    }
   },
   "outputs": [],
   "source": [
    "final_model_pca = PCA(n_components=12).fit(X_mlb_ss)\n",
    "X_pca_final = final_model_pca.transform(X_mlb_ss)"
   ]
  },
  {
   "cell_type": "markdown",
   "id": "normal-batch",
   "metadata": {},
   "source": [
    "# Clustering: Modeling"
   ]
  },
  {
   "cell_type": "markdown",
   "id": "final-victory",
   "metadata": {
    "ExecuteTime": {
     "end_time": "2021-04-05T00:10:19.259788Z",
     "start_time": "2021-04-05T00:10:19.252790Z"
    }
   },
   "source": [
    "## K Means without PCA\n",
    "This model is created to consider the possible clusters that includes all features in order to best trace what features had the most effect in determining the cluster of a chord."
   ]
  },
  {
   "cell_type": "code",
   "execution_count": 67,
   "id": "arabic-rebound",
   "metadata": {
    "ExecuteTime": {
     "end_time": "2021-04-12T04:19:57.533858Z",
     "start_time": "2021-04-12T04:19:35.859859Z"
    }
   },
   "outputs": [],
   "source": [
    "# Look over a range of K values\n",
    "k_range = np.arange(5, 500, 20)\n",
    "\n",
    "# Instantiate an empty list of silhouette scores\n",
    "inertia_list = []\n",
    "silhouette_scores = []\n",
    "\n",
    "# Iterate over ks\n",
    "for k in k_range:\n",
    "    \n",
    "    # Instantiate\n",
    "    k_means_model = KMeans(n_clusters=k)\n",
    "\n",
    "    # Fit\n",
    "    # Get cluster labels and calculate silhouette score\n",
    "    \n",
    "#     k_means_model.fit(X_pca_final)\n",
    "#     cluster_labels = k_means_model.predict(X_pca_final)\n",
    "#     silhouette = silhouette_score(X_pca_final, cluster_labels)\n",
    "    \n",
    "    k_means_model.fit(X_mlb)\n",
    "    cluster_labels = k_means_model.predict(X_mlb)\n",
    "    silhouette = silhouette_score(X_mlb, cluster_labels)\n",
    "    \n",
    "    # Append to list\n",
    "    silhouette_scores.append(silhouette)\n",
    "    inertia_list.append(k_means_model.inertia_)"
   ]
  },
  {
   "cell_type": "code",
   "execution_count": 68,
   "id": "industrial-marketplace",
   "metadata": {
    "ExecuteTime": {
     "end_time": "2021-04-12T04:19:57.902357Z",
     "start_time": "2021-04-12T04:19:57.534857Z"
    },
    "scrolled": false
   },
   "outputs": [
    {
     "data": {
      "image/png": "[encoded data removed]",
      "text/plain": [
       "<Figure size 720x360 with 1 Axes>"
      ]
     },
     "metadata": {
      "needs_background": "light"
     },
     "output_type": "display_data"
    },
    {
     "data": {
      "image/png": "[encoded data removed]",
      "text/plain": [
       "<Figure size 720x360 with 1 Axes>"
      ]
     },
     "metadata": {
      "needs_background": "light"
     },
     "output_type": "display_data"
    }
   ],
   "source": [
    "# Visualize\n",
    "plt.figure(figsize=(10,5))\n",
    "plt.plot(k_range, inertia_list, marker=\"o\")\n",
    "plt.xlabel('Number of Clusters')\n",
    "plt.ylabel('Inertia')\n",
    "plt.title('Scree Plot for K-means for X (with PCA)')\n",
    "plt.xticks(k_range)\n",
    "plt.show();\n",
    "\n",
    "plt.figure(figsize=(10,5))\n",
    "plt.plot(k_range, silhouette_scores, marker=\"o\")\n",
    "plt.xlabel('Number of Clusters')\n",
    "plt.ylabel('Silhouette score')\n",
    "plt.title('Silhouette Plot for K-means for X (with PCA)')\n",
    "plt.xticks(k_range)\n",
    "plt.show();"
   ]
  },
  {
   "cell_type": "markdown",
   "id": "variable-concert",
   "metadata": {},
   "source": [
    "### Setting Clusters = 85\n"
   ]
  },
  {
   "cell_type": "code",
   "execution_count": 69,
   "id": "periodic-grace",
   "metadata": {
    "ExecuteTime": {
     "end_time": "2021-04-12T04:19:58.242358Z",
     "start_time": "2021-04-12T04:19:57.903358Z"
    }
   },
   "outputs": [],
   "source": [
    "final_k = 85\n",
    "\n",
    "km_final = KMeans(n_clusters=final_k)\n",
    "fitted_km_final = km_final.fit(X_mlb)\n",
    "\n",
    "cluster_labels = km_final.predict(X_mlb)\n",
    "silhouette = silhouette_score(X_mlb, cluster_labels)"
   ]
  },
  {
   "cell_type": "markdown",
   "id": "stuck-collapse",
   "metadata": {},
   "source": [
    "# K Means Results"
   ]
  },
  {
   "cell_type": "code",
   "execution_count": 70,
   "id": "incredible-principle",
   "metadata": {
    "ExecuteTime": {
     "end_time": "2021-04-12T04:19:58.247858Z",
     "start_time": "2021-04-12T04:19:58.243859Z"
    }
   },
   "outputs": [
    {
     "data": {
      "text/plain": [
       "85"
      ]
     },
     "execution_count": 70,
     "metadata": {},
     "output_type": "execute_result"
    }
   ],
   "source": [
    "len(km_final.cluster_centers_)"
   ]
  },
  {
   "cell_type": "code",
   "execution_count": 71,
   "id": "increased-holocaust",
   "metadata": {
    "ExecuteTime": {
     "end_time": "2021-04-12T04:19:58.252858Z",
     "start_time": "2021-04-12T04:19:58.248857Z"
    }
   },
   "outputs": [
    {
     "data": {
      "text/plain": [
       "14.48235294117647"
      ]
     },
     "execution_count": 71,
     "metadata": {},
     "output_type": "execute_result"
    }
   ],
   "source": [
    "# avg number of chords per cluster\n",
    "1231 / 85"
   ]
  },
  {
   "cell_type": "code",
   "execution_count": 72,
   "id": "spectacular-bidding",
   "metadata": {
    "ExecuteTime": {
     "end_time": "2021-04-12T04:19:58.258358Z",
     "start_time": "2021-04-12T04:19:58.253858Z"
    }
   },
   "outputs": [
    {
     "data": {
      "text/plain": [
       "4"
      ]
     },
     "execution_count": 72,
     "metadata": {},
     "output_type": "execute_result"
    }
   ],
   "source": [
    "len(fitted_km_final.labels_) # 1231\n",
    "km_final.labels_[0]"
   ]
  },
  {
   "cell_type": "code",
   "execution_count": 73,
   "id": "varied-collector",
   "metadata": {
    "ExecuteTime": {
     "end_time": "2021-04-12T04:19:58.266357Z",
     "start_time": "2021-04-12T04:19:58.259357Z"
    },
    "scrolled": false
   },
   "outputs": [
    {
     "name": "stdout",
     "output_type": "stream",
     "text": [
      "[ 4  3 25 25 10 21 10 76 49 44 13 21 67 36  4  3 11 44 65 47 10 10  5 53\n",
      " 65 26 63 39 10 21  5 17  8 39 56  7 51  7 79 10 82 31 65 31 49  0 64 33\n",
      " 81 18 20 57 13 33 19 67 26 24 39 82 69 42 62 69  8 65 42 67 71 71 67 35\n",
      " 15 83 49 14 17 79 35 70 76  8 81 63 11 22 51 52 47 52 52 58 40 84 37 52\n",
      " 36 50 56 18 60 66 63 73 60 83  3 18 39 20 28 26 41 53  0 84 10 82  5  8\n",
      " 20 31 40 47 61 20 46 20 52 31 52 22 15 39  3 54 28 63  3 64  3 40 17 36\n",
      " 13 13 24  3  3 60 22 79 27 16 45 76 16 24 69  1 71 34 23 34 31 62 37 83\n",
      " 46 17 44  0 80 48 28 33 45 78 13 19 81 13 46 82 59 28 33 63 26 12 31 81\n",
      " 30 68 68  7 84 81 63 24  0 13 39 61 10 61  7 56 14 84 74 28 31  5 14 38\n",
      " 51 51 32 53 53 52 33 77 78 37 54 24 11 27 64 12 16 37 48 48 41 79 73 28\n",
      " 28 50 67 18 14 49 25 37 22 19 45 28 38 45  3 39 35  5 84 66  7 48 48 29\n",
      " 29 71 69 47 67 28 41 35 41 82 31 31 79 46 49 32 19 52 43 81  1 57 40 26\n",
      " 40  6 41 19 69 41 20 64  0  2 29 78 24 44 20 69 52 52 49 79  8 63 30 47\n",
      " 15 54 72 19 31 39 82 47  0 14 33  1 59 78 77 17  7 66 67 11 83  3  6 19\n",
      " 31 49 20 45 39 79 55 28 13 14 36 55 20 45 13  3 43 22 26 24 18 80 10 51\n",
      " 20  5 69 20 10  5 83 81 63 10 41 18 78 61 57 81 34 23 40 19 81 18 27 81\n",
      " 74 24 57 42 84 10 39 84 57 16 64 52 52 52 51 51  7 64 33  7 52 71 19  0\n",
      " 13 73 60 60  0 17 65 83 22 41 83 77 62 27 43 84 71 10 13 28 28 10 72 39\n",
      " 39  7  4  2 63 79 72 10 72 65 56 33 34 36 42 79 15 10 26 63  5 20 76 44\n",
      " 56  5 31  7 77 33 42 84 44 24 43 22 46 82 53  4 53  4  4 74 50 14  7 29\n",
      " 48 84 62 34 70 83 36 78 31 44 28 16 59 33 73 69 51 17 28 79  7 61 51 51\n",
      " 41  3 27 32 80 80 15  1 29 29 66 68 79 59 39 76 17 28 56 24 67 19 67 39\n",
      " 66 64 17 23 45 34 73 58 52 37 10 77 39 37 10 76 79 70 77 51 73 37 66 71\n",
      " 73 36 35 73 82 26 18 16 50 44 51 30 33  1 37  9 76 84 78 60 75 35 10 10\n",
      " 49  4 64 75 15 42 32 36 11 12 75 35 81 71 42 52 43  1 51 24 64 28 48  3\n",
      " 20 64 13 34 77 34 83 13 38  4  5  7 26 29 48 63 54 51 57 59 20 50 60 14\n",
      " 61  1 13 23 54  3  3 30 81 78 45 34 11 57 29 31 35 64 19 46  2 27 43  5\n",
      "  3 30 79 11 58 54 27 52 51 60 67 67 44 44  0  0 24 82  0 24 33 30 31 56\n",
      " 74 50 27 76 17 10 76 53 50 31 23 33 81 51 32 34 40 54 35 31 12 41 37 27\n",
      " 43 46  5  3 58 20 41  5 76 12 80 44 33 17 50 51  3 71  5 58 70 51 44 20\n",
      " 42 48 14 41  0 42 52 69 66 82 65  0 12 38 31  0  9 30 81  7 41 81 74 44\n",
      " 44 13 56  7 41  3 48  4 54 79 63 22 63 70 19 16 71 18 31 15 14 52 61 18\n",
      " 32 40 45 16 73 45 41 57 62 25 71 78 41 71  7  0 47 29 13 30 41 81 24 18\n",
      "  3 14  6 33 77 37 62 24 19 76 11 48  4 12 52 18 48 59  9 20  5  9 82 67\n",
      " 14  2  8 22 35 82 55 10 23  9 81 34 71 31 20 45 39 33 25 25 71 46  5 46\n",
      " 32 78 32 21 21  1 14 44 77 47 40 49 84 27 59 34 24 18 49 22 80 29 40 26\n",
      " 27 44 39 24 34  4 65 73 62 64  5 60  0 16 37 74 39 10 84 55 24 78 54 62\n",
      " 14 70 44 31 28 73 73 71 17 64 59  0 82  5 11  8 79 71 13 22 19  3 67 12\n",
      " 69 31  0 32 38  3 47 21 65 75  4 66 24  6  2 17 26 52  5 40 22 57 29 50\n",
      "  0 17 75 11 17 75  9 19 83 11 58 63 53  8 20 75 10 11 40 59  8 84  3 40\n",
      "  3 23 59 28 73 79 33 13 35  5 20 71  5 26 39 18 10 10 65 75 47 26 26 44\n",
      " 79 32 71 83 66 70 40 41 45 62 49 61 72  8 69 65 57 74 19 25 33 46 65 84\n",
      " 47 13 46 46 83 55 26 54 42 53 76 63 28 76 60 22 49 79 18 17 82 55 31 31\n",
      " 11 47 43 31 17 17 33  1 47 52 10 31  3 19 31 28 54 19 48 22 61 12 24 14\n",
      " 44 27 18 49  2 23 66  0 42 32 30 33 64 83  0 82 15 83 83 54 20 31 50 30\n",
      " 49 11 36 69 51 63 39 52 19 46 50  5 71  5 16 61 66 56 43 26 27  3 60 16\n",
      " 25 26  0 51 67 82 80 33 51 68 68 12 39 20 11 68 42 83 59 40 81 10 73 44\n",
      " 34 13  6 48 80 65  0 23 44 13 34 23 84 69 24 84  0 24 38 72 84 34 23 13\n",
      " 24 63 28 23 56 20 30 52 17 38 11 58 42 15 42 57  2 35 37  2 34 34 25 21\n",
      " 16 14  7 35  3 52 46 58 42 41 15  1 60 40 32 27 40 42 66 76 79 31 84 10\n",
      "  4 58 53 65  4 50 10 57 49 13 76 14  7  3 21 13 22 26 47  5  3 18 47 52\n",
      " 73  9 31 18 24 13 17]\n"
     ]
    },
    {
     "data": {
      "text/plain": [
       "0.24425509241099808"
      ]
     },
     "execution_count": 73,
     "metadata": {},
     "output_type": "execute_result"
    }
   ],
   "source": [
    "print(cluster_labels)\n",
    "len(cluster_labels)\n",
    "silhouette"
   ]
  },
  {
   "cell_type": "code",
   "execution_count": 74,
   "id": "lightweight-sweet",
   "metadata": {
    "ExecuteTime": {
     "end_time": "2021-04-12T04:19:58.308857Z",
     "start_time": "2021-04-12T04:19:58.267858Z"
    }
   },
   "outputs": [
    {
     "name": "stdout",
     "output_type": "stream",
     "text": [
      "1231\n"
     ]
    },
    {
     "data": {
      "text/plain": [
       "array([ 5.14447624e-01,  2.22200299e-01,  5.31796645e-01,  1.66121402e-01,\n",
       "        2.43681008e-01,  4.74944270e-02,  2.17286137e-01,  3.53921877e-02,\n",
       "        1.58503229e-01,  1.45660490e-01,  3.12901193e-01,  1.04410640e-01,\n",
       "        1.93571842e-01,  3.49681077e-01,  5.14447624e-01,  2.22200299e-01,\n",
       "        4.55200217e-01,  2.85608612e-01,  3.01485257e-01,  1.84107684e-01,\n",
       "        8.89604248e-02,  2.31735204e-01,  3.18039573e-01,  5.63975386e-01,\n",
       "        3.01485257e-01,  1.02498989e-01,  4.10564564e-01,  2.73504646e-01,\n",
       "        1.70272403e-01,  5.16817550e-01,  3.19926584e-01,  5.10626201e-01,\n",
       "        4.60438175e-01,  6.95578120e-02,  5.23905303e-01,  3.68599774e-01,\n",
       "        1.12989045e-01,  3.13594564e-01,  4.93607261e-01,  8.89604248e-02,\n",
       "        3.87587738e-01,  2.44505441e-01,  1.93955354e-01,  7.87113126e-02,\n",
       "        2.40929750e-01,  3.64166343e-01,  3.64742644e-01,  2.92121261e-01,\n",
       "        1.59297799e-01,  4.33831857e-01,  4.13564948e-01,  1.67885866e-03,\n",
       "       -3.81736468e-02,  1.95215598e-01,  2.88973074e-01,  4.78837135e-01,\n",
       "        2.08220702e-01,  3.44786053e-01, -1.05406090e-01,  3.87587738e-01,\n",
       "        3.26842067e-01,  3.99117807e-01,  8.46778887e-02,  3.26842067e-01,\n",
       "        4.60438175e-01,  3.01485257e-01,  3.99117807e-01,  4.78837135e-01,\n",
       "        4.76826501e-01,  4.76826501e-01,  1.93571842e-01,  3.53160685e-01,\n",
       "        2.34502502e-01,  3.51570341e-01,  3.48015020e-01,  3.66301200e-01,\n",
       "        3.03914813e-01,  3.51895477e-01,  4.81844311e-01,  7.03455643e-01,\n",
       "        1.46441064e-01,  2.44456340e-01, -3.12917466e-02,  3.32545087e-01,\n",
       "        4.55200217e-01,  4.86599783e-01,  1.54245286e-01,  8.84637830e-02,\n",
       "        2.56799105e-01,  8.84637830e-02,  1.98088924e-01,  6.60909861e-01,\n",
       "        2.40614777e-01,  2.73006024e-01,  3.04510615e-01,  2.06643334e-02,\n",
       "        2.03737817e-01,  3.41487748e-01,  1.28942224e-02,  1.83574974e-01,\n",
       "        1.26970183e-01,  4.81991296e-01,  1.99058638e-01,  2.87966617e-01,\n",
       "        1.98857056e-01,  1.78969022e-01,  1.90602930e-01,  2.62680352e-01,\n",
       "        1.84121778e-01,  3.18713316e-01,  1.46208897e-01,  2.56523150e-01,\n",
       "        4.00875087e-01,  1.36377710e-01,  2.15304345e-01,  1.52879816e-01,\n",
       "        2.81633433e-01,  3.87587738e-01,  3.18039573e-01,  2.51553477e-01,\n",
       "        4.16627718e-02,  2.44505441e-01,  2.59267037e-01,  1.43299222e-01,\n",
       "        8.22959801e-02,  4.13564948e-01,  4.86556419e-01,  4.13564948e-01,\n",
       "        2.78514924e-01,  9.03025213e-02,  1.30506365e-01,  3.02971203e-01,\n",
       "        3.53605652e-01,  9.52276562e-02,  1.55685318e-01,  1.49028593e-01,\n",
       "        1.71829914e-01,  4.10564564e-01,  3.15419246e-01,  2.33095831e-01,\n",
       "        3.59622276e-01,  1.48867800e-01,  5.10626201e-01,  2.49151016e-01,\n",
       "       -6.42095224e-02,  3.11546509e-02,  1.69832870e-01,  3.59622276e-01,\n",
       "        3.15419246e-01,  3.65481920e-01,  3.47868119e-01,  4.93607261e-01,\n",
       "        4.62761788e-01,  3.68730678e-01,  9.02232412e-02,  3.48133934e-01,\n",
       "        2.33594667e-01,  9.26066621e-02,  2.88328769e-01,  1.49702855e-01,\n",
       "        4.76826501e-01,  2.21386489e-01,  1.68459316e-01,  2.21386489e-01,\n",
       "       -1.24410689e-02,  5.52139468e-01,  2.53555416e-01,  1.36430277e-01,\n",
       "        4.86556419e-01,  3.44542421e-01,  3.78600310e-01,  9.62730729e-02,\n",
       "        3.76738336e-01,  1.46602104e-01,  2.24272725e-01,  5.60704365e-02,\n",
       "        1.77046253e-01,  2.84264485e-01,  3.32394949e-02,  2.36097271e-01,\n",
       "        1.71616132e-01, -6.20975630e-02,  4.86556419e-01,  2.11426152e-01,\n",
       "        3.77880406e-01,  2.79656117e-01,  7.75319415e-02,  3.32545087e-01,\n",
       "        1.09804272e-01,  3.99151269e-01,  2.34536022e-01,  2.37350751e-01,\n",
       "        2.70934077e-01,  1.15860935e-01,  6.50834849e-02,  3.06159796e-01,\n",
       "        2.73006024e-01,  2.37350751e-01,  4.10564564e-01,  2.26338424e-01,\n",
       "        1.84209241e-01,  7.86948263e-03, -1.00028272e-02,  2.21309162e-01,\n",
       "        6.20565178e-02,  3.66720424e-01,  1.47190705e-01,  4.03412023e-01,\n",
       "        3.52789368e-01,  8.85757596e-02,  5.93221763e-01,  1.97417789e-01,\n",
       "        2.44505441e-01,  3.18039573e-01,  2.79444230e-01,  4.36156695e-01,\n",
       "        2.22167476e-01,  3.62346877e-01,  5.56196909e-01,  5.63975386e-01,\n",
       "        5.63975386e-01,  8.84637830e-02,  2.08213642e-01,  1.95321869e-01,\n",
       "        2.99539186e-01,  5.05362690e-01,  5.29363477e-01,  7.92206282e-02,\n",
       "        4.55200217e-01,  4.62761788e-01,  2.10102545e-01,  2.79351720e-01,\n",
       "        1.55270676e-01,  5.05362690e-01,  2.88995826e-01,  2.65026840e-01,\n",
       "        4.00875087e-01,  3.63273391e-01,  2.45038782e-01,  2.79656117e-01,\n",
       "        1.21549758e-01,  3.38749350e-01,  1.97630838e-01,  4.33831857e-01,\n",
       "        2.17974844e-01,  3.48015020e-01,  3.35967321e-01,  5.05362690e-01,\n",
       "        3.02971203e-01,  7.42575572e-02,  9.71975459e-02,  1.90770457e-01,\n",
       "        1.95469777e-01,  1.13829292e-01,  1.93991822e-01,  7.26291078e-03,\n",
       "        3.04595318e-01,  3.18039573e-01,  1.52879816e-01,  2.20022157e-01,\n",
       "        3.68599774e-01,  4.91494157e-01,  4.91494157e-01,  3.61204608e-01,\n",
       "        2.06431330e-01,  4.76826501e-01,  9.70696915e-02,  1.38036741e-01,\n",
       "        4.78837135e-01,  2.79656117e-01,  4.00875087e-01,  2.43752708e-01,\n",
       "        3.02697747e-01,  2.36801177e-01,  2.91697929e-01,  9.03025213e-02,\n",
       "        4.93607261e-01,  2.13365252e-01,  6.27533758e-02,  1.71534977e-01,\n",
       "        2.88973074e-01,  9.41113465e-02,  1.30698086e-01,  1.63435114e-01,\n",
       "        6.28934380e-02,  4.87738209e-02,  2.54645802e-01,  2.45896868e-01,\n",
       "        1.56595290e-01,  4.84621097e-01,  2.73868102e-01,  2.88973074e-01,\n",
       "        3.26842067e-01,  1.36734663e-01,  3.62987192e-01,  3.64742644e-01,\n",
       "        2.24942941e-01,  4.39556797e-01,  1.67896628e-01,  1.45758961e-01,\n",
       "       -8.07529780e-03,  8.02569718e-02,  3.18713316e-01,  5.69799890e-02,\n",
       "        1.23852461e-01,  2.15557287e-01,  2.07575258e-01,  4.93607261e-01,\n",
       "        4.60438175e-01,  4.10564564e-01,  3.49891510e-01,  3.90696317e-02,\n",
       "        2.34502502e-01,  2.43066391e-01,  3.75199191e-01,  2.27190644e-01,\n",
       "        2.07520172e-01,  2.73504646e-01,  4.86966733e-02,  2.55859483e-01,\n",
       "        7.26492787e-02,  3.52789368e-01,  2.19468512e-02, -1.06026058e-01,\n",
       "        2.34996782e-01,  1.53629089e-01,  2.25095957e-01,  4.85065855e-01,\n",
       "        3.13594564e-01,  3.44919826e-01,  1.28639936e-01,  4.55200217e-01,\n",
       "        1.70833910e-01,  3.15419246e-01,  1.32530714e-01,  1.34686014e-01,\n",
       "        9.11346137e-02,  2.40929750e-01,  1.93149341e-01,  3.63384862e-01,\n",
       "        1.23105784e-02,  2.36171635e-01,  3.95095546e-01,  2.24272725e-01,\n",
       "        1.81275020e-01,  3.56446799e-01,  3.49681077e-01,  2.35408878e-01,\n",
       "        4.13564948e-01,  2.77741967e-01,  3.12901193e-01,  1.90602930e-01,\n",
       "        3.80266285e-01,  3.93465009e-01,  2.56084122e-01,  2.41145778e-01,\n",
       "        3.13914338e-01,  2.33912114e-01,  2.31735204e-01,  6.99994006e-02,\n",
       "        4.13564948e-01,  1.38418833e-01,  2.88328769e-01,  3.62987192e-01,\n",
       "        1.51947882e-01,  1.75340623e-01,  9.68292593e-02,  8.37210721e-02,\n",
       "        2.40701607e-01,  1.71832051e-01,  1.79161082e-01,  1.50701591e-01,\n",
       "        2.99539186e-01,  3.29127467e-01,  9.53346367e-02, -6.93747030e-02,\n",
       "       -1.67224838e-02,  1.99707435e-01,  1.46891787e-01,  1.35584644e-01,\n",
       "        1.56152050e-01,  4.33831857e-01,  2.95598756e-01, -3.84347923e-02,\n",
       "        4.29665624e-01,  2.41145778e-01,  9.53346367e-02,  7.96086014e-02,\n",
       "        8.85757596e-02,  2.31735204e-01,  2.73504646e-01,  2.30024138e-01,\n",
       "        2.03126290e-01,  2.33594667e-01,  1.29416199e-01,  2.78514924e-01,\n",
       "        2.78514924e-01,  2.63747292e-01,  1.54245286e-01,  1.72775644e-01,\n",
       "        3.06159796e-01,  3.64742644e-01,  1.91232904e-01,  1.11621069e-01,\n",
       "        1.30506365e-01,  2.90369123e-01,  1.52014160e-02,  8.37044920e-02,\n",
       "        1.79531785e-01,  1.42748780e-01,  3.65481920e-01,  1.98857056e-01,\n",
       "        4.23498651e-02,  6.33910589e-02,  2.76430341e-01,  1.78969022e-01,\n",
       "        4.86599783e-01,  4.00875087e-01,  3.51570341e-01,  4.16191526e-01,\n",
       "        2.78172152e-01,  3.66943644e-01,  2.34044838e-01,  2.08705641e-01,\n",
       "        2.41398567e-01,  2.31735204e-01, -6.20975630e-02,  4.16147870e-02,\n",
       "        1.26521305e-01,  8.92931543e-02,  3.75199191e-01,  2.73504646e-01,\n",
       "        1.76431593e-01,  3.13594564e-01,  4.81834362e-02,  9.69991308e-02,\n",
       "        4.16825910e-01,  4.93607261e-01,  5.87207571e-02,  8.89604248e-02,\n",
       "        8.14917895e-02, -7.28414645e-03,  5.23905303e-01,  3.31338122e-01,\n",
       "        7.41918122e-02,  9.08232076e-02, -1.41146125e-02,  2.01252331e-01,\n",
       "        1.84878611e-01,  1.36659407e-01,  2.21243111e-01,  4.16825910e-01,\n",
       "        2.82103707e-01,  4.13564948e-01,  3.48133934e-01,  1.05785189e-01,\n",
       "        5.23905303e-01,  1.91736769e-01,  2.44505441e-01,  3.06159796e-01,\n",
       "        3.42583898e-01,  1.79334775e-01,  2.87321477e-01,  2.73006024e-01,\n",
       "        3.78600310e-01,  3.44786053e-01,  3.84281569e-01,  4.86599783e-01,\n",
       "        5.96638639e-02,  2.50052821e-01,  5.63975386e-01,  5.14447624e-01,\n",
       "        2.97316032e-01,  2.68813727e-01,  3.23681959e-01,  3.68522152e-01,\n",
       "        3.38749350e-01,  3.56446799e-01,  1.30661342e-01,  2.58929480e-01,\n",
       "        2.88995826e-01,  8.85757596e-02,  4.80240525e-01,  2.14503954e-01,\n",
       "        7.03455643e-01,  3.51570341e-01,  2.22291310e-01,  7.08066169e-02,\n",
       "        4.68930169e-02,  1.45660490e-01,  2.24272725e-01,  3.68730678e-01,\n",
       "        3.77880406e-01,  1.59771133e-02,  1.28894524e-01,  3.00213195e-01,\n",
       "        7.42530208e-02,  2.40738961e-01,  2.79656117e-01,  4.93607261e-01,\n",
       "        3.68599774e-01,  3.66720424e-01,  3.62346877e-01,  1.54245286e-01,\n",
       "       -2.68484035e-02,  3.59622276e-01,  1.91098679e-01,  2.75578025e-01,\n",
       "        2.43121827e-01,  3.31067621e-01, -9.08213331e-02,  4.29079760e-02,\n",
       "        3.61204608e-01,  2.82845515e-01,  1.92970214e-01,  2.72081489e-01,\n",
       "        2.84302062e-01,  1.99521325e-01,  1.84121778e-01,  3.98630761e-02,\n",
       "        4.85065855e-01,  1.21549758e-01,  5.23905303e-01,  1.88469728e-01,\n",
       "        3.50367769e-01,  1.51188956e-01,  1.60700944e-01,  4.50464267e-02,\n",
       "        3.99356805e-01,  1.62465724e-01,  5.10626201e-01,  1.47630148e-01,\n",
       "        2.88861107e-01,  1.32535934e-01,  1.50594987e-01,  1.55111682e-01,\n",
       "        1.30506365e-01,  5.05362690e-01,  2.43681008e-01,  3.42583898e-01,\n",
       "        9.52276562e-02,  3.04510615e-01,  2.43681008e-01,  3.53921877e-02,\n",
       "        3.63273391e-01,  4.13038665e-01,  4.16191526e-01, -5.96758615e-03,\n",
       "       -2.65084073e-02,  3.04510615e-01,  3.99356805e-01,  2.90369123e-01,\n",
       "        1.98974953e-01,  2.71249546e-01,  2.51586910e-01,  2.38003598e-01,\n",
       "        1.98244838e-01,  3.40444210e-01,  2.99578237e-01,  2.15735176e-01,\n",
       "        3.41487748e-01,  2.85608612e-01,  7.42530208e-02,  7.46294735e-02,\n",
       "       -9.19775371e-02,  1.46050797e-01,  2.09639970e-01,  1.42405145e-01,\n",
       "        8.54370706e-02,  1.03261008e-01, -5.59073300e-02,  4.75825007e-02,\n",
       "        1.12672534e-01,  2.10741068e-01,  1.40478356e-01,  1.40478356e-01,\n",
       "        1.56954559e-01,  1.26202818e-01,  1.77803116e-01, -1.00986231e-03,\n",
       "        9.26342468e-03, -6.46964223e-03,  2.84949754e-01,  1.97271500e-01,\n",
       "        1.26535734e-01,  1.62024476e-01,  2.80219284e-02,  1.77601869e-01,\n",
       "        1.68469966e-02,  1.33065627e-01,  2.81354327e-01,  1.69510674e-01,\n",
       "        2.34044838e-01,  1.89063742e-01,  1.54245286e-01,  2.41145778e-01,\n",
       "        8.98261295e-02,  1.51088858e-01,  3.66915566e-01,  2.80839467e-01,\n",
       "        1.43979323e-01,  1.85173256e-01,  2.28783633e-01,  2.58067447e-01,\n",
       "        8.84016719e-02,  2.83138727e-01,  1.59391078e-01, -2.57932201e-04,\n",
       "       -4.09263280e-02,  5.14447624e-01,  3.18039573e-01,  3.13594564e-01,\n",
       "        7.47376597e-02,  1.25426793e-01,  3.53167355e-01,  1.22588506e-01,\n",
       "        3.93979142e-01,  2.13095124e-01,  6.60742807e-04,  2.49532716e-01,\n",
       "        3.62987192e-01,  3.41487748e-01,  1.26970183e-01,  3.56446799e-01,\n",
       "        2.47527913e-01,  1.50735105e-01,  3.11546509e-02,  2.59402472e-01,\n",
       "        5.29363477e-01,  2.22200299e-01,  3.59622276e-01,  2.70934077e-01,\n",
       "        1.57864713e-01,  1.57162071e-01,  2.88861107e-01,  1.42232403e-01,\n",
       "        3.32338026e-01, -8.75885205e-02,  1.31797027e-01,  2.05901079e-01,\n",
       "        4.81844311e-01,  3.64742644e-01,  2.88973074e-01,  4.86556419e-01,\n",
       "        3.05166275e-01,  2.95598756e-01,  8.08792674e-02,  2.19219806e-01,\n",
       "        9.01150568e-02,  2.10542292e-01,  3.63273391e-01,  2.54772027e-01,\n",
       "        6.60909861e-01,  5.29363477e-01,  4.62761788e-01,  2.06643334e-02,\n",
       "        1.57485662e-01,  1.52205138e-02,  2.45990703e-01,  1.24767628e-01,\n",
       "        1.16725674e-01,  1.21209810e-01,  2.15623179e-01,  3.64166343e-01,\n",
       "        3.40520119e-01,  3.36363424e-01,  3.54497809e-01,  3.44786053e-01,\n",
       "        3.31338122e-01,  3.14175709e-01,  7.87113126e-02,  3.90029715e-01,\n",
       "        3.45106527e-01,  2.13234431e-01,  2.49738337e-01,  2.15133969e-01,\n",
       "        3.51756666e-01,  2.16005840e-01,  8.82066867e-02,  4.10670391e-01,\n",
       "        2.11227412e-01,  3.73658301e-02,  2.15085771e-01,  8.44042026e-02,\n",
       "        1.39243482e-01,  2.90238275e-01,  1.08247787e-01,  4.97860164e-02,\n",
       "        2.54645802e-01,  1.80082024e-01,  4.81844311e-01,  1.70526600e-01,\n",
       "        2.79351720e-01,  7.75696051e-02,  3.45169773e-01,  2.70681670e-01,\n",
       "        8.34063632e-02,  3.39605547e-01,  2.26971541e-02,  1.55998163e-01,\n",
       "        3.92469738e-01,  2.20751955e-01,  1.53702160e-01,  5.80558023e-02,\n",
       "        3.48133934e-01,  2.79351720e-01,  3.76738336e-01,  1.45660490e-01,\n",
       "        1.91232904e-01,  3.44542421e-01,  3.41487748e-01,  9.92464166e-02,\n",
       "        1.93991822e-01,  1.96117582e-01,  1.63057236e-01,  6.60909861e-01,\n",
       "        7.03455643e-01,  3.62346877e-01,  3.78600310e-01,  2.15354637e-01,\n",
       "        3.99117807e-01,  2.47896787e-01,  1.75522702e-01,  2.73868102e-01,\n",
       "        2.24942941e-01,  2.81354327e-01, -9.34351398e-02,  3.00213195e-01,\n",
       "        4.81991296e-01,  3.36363424e-01,  2.76430341e-01,  2.97071719e-01,\n",
       "        3.99151269e-01,  4.36156695e-01,  2.91697929e-01,  3.64166343e-01,\n",
       "       -1.09653540e-02,  1.60608408e-01,  7.02736086e-02,  3.13594564e-01,\n",
       "        3.02697747e-01,  2.69381635e-03,  5.93221763e-01,  3.78600310e-01,\n",
       "        2.78002060e-01,  1.40828173e-03,  3.90029715e-01,  2.51052202e-01,\n",
       "        4.00875087e-01,  1.55685318e-01,  3.66915566e-01,  5.14447624e-01,\n",
       "        5.29363477e-01,  3.51895477e-01,  2.12275037e-01,  3.02971203e-01,\n",
       "        2.37429990e-01,  7.03455643e-01,  2.36258310e-01,  3.68730678e-01,\n",
       "        3.23585128e-01,  2.79025935e-01,  2.91697929e-01,  3.53605652e-01,\n",
       "        2.79939128e-01,  2.14262926e-01,  2.92587898e-03,  4.33831857e-01,\n",
       "        5.56196909e-01,  2.36172201e-01,  3.63384862e-01,  3.29385803e-02,\n",
       "        2.87966617e-01,  1.43733512e-01,  1.50919144e-01,  7.42293944e-03,\n",
       "        3.01869916e-01,  2.01939083e-01,  4.76826501e-01,  9.82952773e-02,\n",
       "        3.18335322e-01,  3.23585128e-01,  1.99092593e-01,  1.84209241e-01,\n",
       "        1.43299222e-01,  3.23159107e-01,  1.79531785e-01,  3.49891510e-01,\n",
       "        1.81865602e-01,  1.57864713e-01,  2.26338424e-01,  2.08478269e-01,\n",
       "        1.90602930e-01,  1.99291476e-01,  2.60133979e-01,  5.02707057e-02,\n",
       "        1.35596416e-01,  2.33719122e-01,  4.80240525e-01,  1.25885677e-01,\n",
       "        6.59353817e-02,  3.48133934e-01,  3.32338026e-01,  1.17887735e-01,\n",
       "        5.14447624e-01,  1.28904225e-01,  9.82376851e-02,  2.54725979e-01,\n",
       "        1.95312817e-01,  2.21915115e-01,  1.42405145e-01,  3.18713316e-01,\n",
       "        1.57782251e-01,  1.24700665e-02,  3.36363424e-01,  3.50367769e-01,\n",
       "        3.66301200e-01,  4.39556797e-01,  2.74098938e-01,  3.93465009e-01,\n",
       "        3.53160685e-01,  1.03623749e-01,  3.04602122e-01,  2.16005840e-01,\n",
       "        1.24618216e-01,  2.59210623e-02,  1.39243482e-01,  1.04714673e-01,\n",
       "        2.90369123e-01,  1.41693744e-01,  1.96686012e-01,  2.22449992e-01,\n",
       "        1.23105784e-02,  2.92121261e-01,  5.31796645e-01,  5.31796645e-01,\n",
       "        3.23585128e-01,  4.86556419e-01,  3.19926584e-01,  2.13365252e-01,\n",
       "        2.84949754e-01,  2.84264485e-01,  5.56196909e-01,  5.16817550e-01,\n",
       "        2.72539771e-01, -5.52960839e-02,  2.42178240e-01,  1.53633268e-01,\n",
       "        4.16191526e-01,  2.56799105e-01,  2.59267037e-01,  2.07575258e-01,\n",
       "        1.82177892e-02,  9.64555791e-02,  1.99521325e-01,  1.78972742e-01,\n",
       "       -2.04859427e-02,  2.62680352e-01,  3.48015020e-01,  4.86599783e-01,\n",
       "        1.97569317e-01,  1.63836911e-02,  2.54645802e-01,  6.40926334e-02,\n",
       "        4.62761788e-01,  3.78600310e-01,  1.23105784e-02,  1.47895750e-01,\n",
       "        1.87833409e-01,  1.26202818e-01,  1.71525085e-01,  1.79657249e-01,\n",
       "        5.52139468e-01,  1.91825504e-01,  2.82103707e-01,  1.98857056e-01,\n",
       "        2.96569032e-01,  2.15735176e-01,  5.05362690e-01,  5.93221763e-01,\n",
       "        9.52276562e-02,  2.43681008e-01,  2.30024138e-01,  3.95095546e-01,\n",
       "        2.26338424e-01,  2.57248536e-01,  5.29363477e-01,  5.52139468e-01,\n",
       "        2.82701700e-01,  2.07791798e-01,  3.78600310e-01,  1.19001941e-01,\n",
       "        2.09887291e-01,  1.72142712e-01,  2.45038782e-01,  2.66697613e-01,\n",
       "        5.10626201e-01,  8.28370421e-03,  2.34996782e-01, -1.88984207e-03,\n",
       "       -4.20975507e-02,  1.79997654e-01,  2.43080387e-01,  2.93055647e-01,\n",
       "        3.25279961e-01,  4.76826501e-01,  2.51614016e-02,  3.47868119e-01,\n",
       "        2.36097271e-01,  3.59622276e-01,  1.72808629e-01,  2.43693166e-01,\n",
       "        9.72891516e-02,  1.59092817e-01,  2.84746714e-01,  5.56196909e-01,\n",
       "        1.29036534e-01,  3.15419246e-01,  2.49192534e-01,  1.66638246e-01,\n",
       "        3.17742586e-01, -6.13942674e-02,  2.59295716e-01,  1.14551831e-01,\n",
       "        9.38974261e-02,  4.84621097e-01,  3.11246449e-01,  4.85065855e-01,\n",
       "        2.45896868e-01,  2.06643334e-02,  3.18039573e-01,  3.23385334e-01,\n",
       "        4.86599783e-01,  1.67885866e-03,  3.61204608e-01,  3.57037729e-01,\n",
       "        1.84209241e-01,  3.07027233e-01,  3.59725934e-01,  3.31382679e-01,\n",
       "        3.07027233e-01,  3.59725934e-01, -1.86996925e-01,  1.54721432e-01,\n",
       "        1.19394687e-01,  9.44276497e-02,  3.92469738e-01,  2.15314117e-01,\n",
       "        4.10670391e-01,  3.01248511e-01,  2.20751955e-01,  3.59725934e-01,\n",
       "        1.71832051e-01,  1.59693930e-01,  2.76986138e-01,  2.74325250e-01,\n",
       "        2.93055647e-01,  2.08705641e-01,  1.78763711e-01,  1.07238897e-01,\n",
       "        1.99666588e-01,  1.68459316e-01,  2.49532716e-01,  1.71829914e-01,\n",
       "       -2.07371109e-02,  3.51895477e-01,  1.35323026e-01,  3.12901193e-01,\n",
       "        3.53160685e-01,  9.85000575e-02,  2.23844207e-01,  2.08736512e-01,\n",
       "        3.19926584e-01,  3.78261788e-01,  1.45734023e-01,  4.33831857e-01,\n",
       "       -3.18132530e-02,  4.95134155e-02,  3.17742586e-01,  1.58538046e-01,\n",
       "        1.89779428e-01,  2.08220702e-01,  7.08315810e-02,  2.78002060e-01,\n",
       "        3.25279961e-01,  5.56196909e-01,  1.74935084e-01,  1.14038172e-02,\n",
       "        3.44919826e-01,  4.31043231e-01,  9.13236769e-02,  1.58474549e-01,\n",
       "        3.63384862e-01,  2.93337233e-01,  2.40929750e-01,  3.29127467e-01,\n",
       "        3.02417425e-01,  3.01248511e-01,  2.62634772e-02,  3.17742586e-01,\n",
       "        5.08868940e-02,  3.90514461e-01, -2.86834566e-02,  6.45421947e-02,\n",
       "        3.31338122e-01,  1.45301207e-01,  2.65450330e-01,  1.47563771e-01,\n",
       "        1.46131997e-01,  1.37970535e-01,  1.73163145e-01,  8.77917316e-02,\n",
       "        2.45838288e-01,  2.34922100e-01,  1.76801842e-01,  2.43066391e-01,\n",
       "        1.91447025e-01,  3.55260724e-01,  1.19618818e-01,  4.16825910e-01,\n",
       "        2.75019947e-01,  3.48133934e-01,  1.26970183e-01,  2.46848081e-01,\n",
       "        3.48015020e-01,  4.93607261e-01,  2.88295297e-01,  5.10626201e-01,\n",
       "        6.72115591e-02,  3.97648130e-01,  2.05901079e-01,  1.92878063e-01,\n",
       "        2.43080387e-01,  1.97769107e-01,  3.80266285e-01,  7.87113126e-02,\n",
       "        2.84753349e-01,  5.10626201e-01,  7.75319415e-02,  3.01599849e-02,\n",
       "        3.01391719e-01,  1.98088924e-01, -1.12441311e-02,  1.87734987e-01,\n",
       "        1.69979911e-01,  1.66355336e-01,  7.53326151e-02,  1.46208897e-01,\n",
       "        2.43066391e-01,  1.09727484e-01,  4.91494157e-01,  3.01666072e-01,\n",
       "        1.32915534e-02,  2.54560160e-01,  1.11343770e-01,  2.79444230e-01,\n",
       "        1.53633268e-01,  1.88192243e-01,  1.50701591e-01,  1.95269637e-01,\n",
       "        2.77692580e-01,  1.24618216e-01,  1.60057502e-01,  1.16056340e-01,\n",
       "        2.23558238e-01,  1.71534977e-01,  2.60253742e-01,  1.42714658e-01,\n",
       "        6.49247572e-02,  1.84186644e-01,  2.56293861e-01,  2.83189799e-01,\n",
       "        3.53605652e-01,  2.50402217e-01,  2.56805122e-01,  3.93979142e-01,\n",
       "        3.18713316e-01,  9.03025213e-02,  2.18196366e-01,  1.23511320e-01,\n",
       "        3.48015020e-01,  1.42668907e-01,  2.04933456e-01,  2.17890022e-01,\n",
       "        4.42729631e-03,  4.16825910e-01,  1.84121778e-01,  8.84637830e-02,\n",
       "        2.14397855e-01,  2.78337503e-01,  2.31382175e-01,  2.82103707e-01,\n",
       "        4.76826501e-01,  2.11022938e-01,  3.61576568e-02,  2.47527913e-01,\n",
       "        2.66324568e-01,  3.20701238e-01,  2.19986720e-01,  1.93805395e-01,\n",
       "        3.66943644e-01,  2.76541684e-01,  3.65481920e-01,  2.59237574e-01,\n",
       "        1.48557071e-01,  2.56395414e-01,  3.54497809e-01,  3.62346877e-01,\n",
       "        4.78837135e-01,  3.87587738e-01,  2.33690873e-01,  1.95215598e-01,\n",
       "        2.50903576e-01,  2.72081489e-01,  2.91538072e-01,  3.99151269e-01,\n",
       "        1.17157950e-01,  2.49290665e-01,  3.31382679e-01,  1.83374504e-01,\n",
       "        2.68046002e-01,  3.51570341e-01,  3.77880406e-01,  1.48867800e-01,\n",
       "        1.59297799e-01,  2.17286137e-01,  2.22235061e-01,  8.02569718e-02,\n",
       "        2.36714074e-01,  1.64601098e-01,  3.15857140e-01,  4.91494157e-01,\n",
       "        8.72423393e-02,  1.89482902e-01, -1.88984207e-03,  1.89769947e-01,\n",
       "        8.90859335e-02,  2.08863643e-01,  2.00854651e-01,  2.59402472e-01,\n",
       "        2.57439592e-01,  2.02930495e-01,  2.12229829e-01, -4.18969396e-02,\n",
       "        2.97071719e-01,  1.99289645e-01,  1.62024476e-01,  1.52863222e-01,\n",
       "        1.35486516e-01,  2.11061000e-01,  1.66527515e-01,  2.00328453e-01,\n",
       "        2.26441577e-01,  3.32545087e-01,  6.62817992e-02,  8.34189594e-02,\n",
       "        1.75194517e-01,  3.62987192e-01,  2.10542292e-01, -2.46379224e-02,\n",
       "        4.85065855e-01,  4.19689698e-01,  2.54772027e-01,  3.82703301e-01,\n",
       "        2.87321477e-01,  2.88309826e-01,  2.68046002e-01,  2.03126290e-01,\n",
       "        9.69991308e-02,  4.81844311e-01,  3.08780599e-01,  4.39556797e-01,\n",
       "        2.25226544e-01,  2.83138727e-01,  5.31796645e-01,  5.16817550e-01,\n",
       "        2.33594667e-01,  3.66301200e-01,  2.90890547e-01,  4.81844311e-01,\n",
       "        2.35521712e-01,  2.78514924e-01,  9.10432931e-02,  6.60909861e-01,\n",
       "       -2.93671670e-02,  2.12756975e-01,  2.34502502e-01,  1.89063742e-01,\n",
       "        2.60253849e-01,  1.27226206e-01,  5.56196909e-01,  4.62761788e-01,\n",
       "        2.86232137e-01,  2.87321477e-01,  4.81991296e-01,  1.46441064e-01,\n",
       "        3.62790973e-01,  2.51433237e-01,  1.91857397e-01,  2.17286137e-01,\n",
       "        3.23681959e-01,  6.60909861e-01,  1.45987935e-01,  1.71525085e-01,\n",
       "        9.54761737e-02,  5.89477136e-02, -4.87989156e-02,  1.67885866e-03,\n",
       "        2.07575258e-01,  1.33163044e-02, -4.45006204e-03,  3.52789368e-01,\n",
       "        1.99274129e-01,  3.15419246e-01,  5.16817550e-01,  7.86948263e-03,\n",
       "        3.93465009e-01,  2.08220702e-01,  3.90696317e-02,  2.11022938e-01,\n",
       "        2.83958274e-01,  3.13914338e-01,  1.76530576e-01,  2.51711520e-01,\n",
       "        2.44089266e-01,  1.24700665e-02,  1.70526600e-01,  9.48171005e-02,\n",
       "        2.66893220e-01, -1.55852761e-02,  3.03914813e-01])"
      ]
     },
     "execution_count": 74,
     "metadata": {},
     "output_type": "execute_result"
    }
   ],
   "source": [
    "\n",
    "sample_silhouette_values = silhouette_samples(X_mlb, cluster_labels)\n",
    "print(len(sample_silhouette_values))\n",
    "sample_silhouette_values"
   ]
  },
  {
   "cell_type": "code",
   "execution_count": 75,
   "id": "fiscal-joyce",
   "metadata": {
    "ExecuteTime": {
     "end_time": "2021-04-12T04:19:59.961357Z",
     "start_time": "2021-04-12T04:19:58.310359Z"
    },
    "scrolled": false
   },
   "outputs": [
    {
     "data": {
      "image/png": "[encoded data removed]",
      "text/plain": [
       "<Figure size 432x288 with 1 Axes>"
      ]
     },
     "metadata": {
      "needs_background": "light"
     },
     "output_type": "display_data"
    }
   ],
   "source": [
    "y_ticks = []\n",
    "y_lower = y_upper = 0\n",
    "\n",
    "\n",
    "cluster_silhouette_vals = sample_silhouette_values\n",
    "cluster_silhouette_vals.sort()\n",
    "y_upper += len(cluster_silhouette_vals)\n",
    "\n",
    "plt.figure()\n",
    "plt.barh(range(y_lower,y_upper),\n",
    "cluster_silhouette_vals,height =1);\n",
    "#plt.text(-0.03,(y_lower+y_upper)/2,str(i+1))\n",
    "#y_lower += len(cluster_silhouette_vals)\n",
    "\n",
    "# Get the average silhouette score \n",
    "avg_score = np.mean(sample_silhouette_values)\n",
    "plt.axvline(avg_score,linestyle ='--',\n",
    "linewidth =2,color = 'green')\n",
    "plt.xlim([-0.1, 1])\n",
    "plt.xlabel('Silhouette coefficient values')\n",
    "plt.ylabel('Cluster labels')\n",
    "plt.title('Silhouette plot for the various clusters');\n",
    "plt.show()"
   ]
  },
  {
   "cell_type": "code",
   "execution_count": 76,
   "id": "complex-artist",
   "metadata": {
    "ExecuteTime": {
     "end_time": "2021-04-12T04:19:59.968358Z",
     "start_time": "2021-04-12T04:19:59.962360Z"
    },
    "scrolled": false
   },
   "outputs": [
    {
     "data": {
      "text/plain": [
       "array([  45,  625,  297,  140,    0,   22,  289,   35,   32,  813,  116,\n",
       "         16,  189,   10,   75,  132,  153,  327,   49,   54,   50,   29,\n",
       "        353,  162,   57,    2,  973,  152,  185,  263,  192,   41,  218,\n",
       "        443,  605,   78,  553,  694,  215,   27,  954,  112,   61,  466,\n",
       "        170,  339,  126, 1033,  261,   74,  241,  217,  128,   23,  226,\n",
       "        342,   34,  392,   91,  184,  149,  205,  165,   26,   46,   18,\n",
       "        101,   55,  515,   60,   79,   68,  314,  103,  210,  938,  155,\n",
       "        419,  224,   38,  509,  191,   40,   73,   93], dtype=int64)"
      ]
     },
     "execution_count": 76,
     "metadata": {},
     "output_type": "execute_result"
    }
   ],
   "source": [
    "from sklearn.metrics import pairwise_distances_argmin_min\n",
    "closest, _ = pairwise_distances_argmin_min(km_final.cluster_centers_, X_mlb)\n",
    "closest"
   ]
  },
  {
   "cell_type": "code",
   "execution_count": 77,
   "id": "stopped-marine",
   "metadata": {
    "ExecuteTime": {
     "end_time": "2021-04-12T04:19:59.971358Z",
     "start_time": "2021-04-12T04:19:59.969357Z"
    },
    "scrolled": true
   },
   "outputs": [],
   "source": [
    "km_cluster_centers = closest.tolist()"
   ]
  },
  {
   "cell_type": "code",
   "execution_count": 78,
   "id": "chemical-anatomy",
   "metadata": {
    "ExecuteTime": {
     "end_time": "2021-04-12T04:19:59.978859Z",
     "start_time": "2021-04-12T04:19:59.972358Z"
    },
    "scrolled": true
   },
   "outputs": [
    {
     "data": {
      "text/plain": [
       "45         E-\n",
       "625     D-sus\n",
       "297     Dmaj7\n",
       "140       B-m\n",
       "0       Fmaj7\n",
       "        ...  \n",
       "509    A#m/G#\n",
       "191       F#m\n",
       "40        F/A\n",
       "73        Cm7\n",
       "93          A\n",
       "Name: name, Length: 85, dtype: object"
      ]
     },
     "execution_count": 78,
     "metadata": {},
     "output_type": "execute_result"
    }
   ],
   "source": [
    "km_cluster_center_series = X_ml.loc[km_cluster_centers,'name']\n",
    "km_cluster_center_series"
   ]
  },
  {
   "cell_type": "code",
   "execution_count": 79,
   "id": "meaning-instrumentation",
   "metadata": {
    "ExecuteTime": {
     "end_time": "2021-04-12T04:19:59.984358Z",
     "start_time": "2021-04-12T04:19:59.979859Z"
    }
   },
   "outputs": [
    {
     "name": "stdout",
     "output_type": "stream",
     "text": [
      "E- D-sus Dmaj7 B-m Fmaj7 G7 B-7addb9 Em Am D13/Galter#3alterb9alter#11 Dm/C G9 A-maj7 G- E-7 B-6add9 B7addb9 Cadd9 C#7alterb5 Cm C7 A7addb9 Fadd9 F-7 D- E/o7 D#dim/B# A9 Gm Bm E-m Fm G#7 A-m C-/G- B-9 E-add9 D#13 A-6 Am7 Bdim/G# F7 D D-m6 A-7 G-9 D/o7 Edim/C# F#7 B-maj7 C6/G B E Cmaj7 A-9 Em9 Am6 C-m7 Gmaj7 B13 C13 C#m7 E13 D7 Gm7 C D9 B- Asus G/B B/o7 A7 G6 D-9 Dm6/B G--/A--add9 D13 D-13 E-m7 E7 A#m/G# F#m F/A Cm7 A\n"
     ]
    }
   ],
   "source": [
    "km_cluster_center_chords = km_cluster_center_series.tolist()\n",
    "km_cluster_center_chords = (' ').join(km_cluster_center_chords)\n",
    "print(km_cluster_center_chords)\n",
    "\n",
    "with open('km_cluster_center_chords', 'w+') as fp:\n",
    "    fp.write(km_cluster_center_chords)"
   ]
  },
  {
   "cell_type": "markdown",
   "id": "broad-belgium",
   "metadata": {},
   "source": [
    "# K Modes (Cao)"
   ]
  },
  {
   "cell_type": "code",
   "execution_count": 80,
   "id": "classical-steam",
   "metadata": {
    "ExecuteTime": {
     "end_time": "2021-04-12T04:19:59.995358Z",
     "start_time": "2021-04-12T04:19:59.985358Z"
    }
   },
   "outputs": [],
   "source": [
    "from kmodes.kmodes import KModes"
   ]
  },
  {
   "cell_type": "code",
   "execution_count": 81,
   "id": "looking-sample",
   "metadata": {
    "ExecuteTime": {
     "end_time": "2021-04-12T04:20:00.246358Z",
     "start_time": "2021-04-12T04:19:59.996357Z"
    },
    "scrolled": false
   },
   "outputs": [
    {
     "name": "stdout",
     "output_type": "stream",
     "text": [
      "Init: initializing centroids\n",
      "Init: initializing clusters\n",
      "Starting iterations...\n",
      "Run 1, iteration: 1/100, moves: 165, cost: 7352.0\n"
     ]
    },
    {
     "data": {
      "text/plain": [
       "array([0, 1, 0, 0, 0, 0, 0, 0, 0, 0, 1, 0, 0, 1, 0, 1, 0, 1, 0, 0, 0, 0,\n",
       "       0, 0, 0, 1, 0, 0, 0, 0, 0, 0, 0, 0, 0, 0, 0, 0, 0, 0, 0, 0, 0, 0,\n",
       "       0, 0, 0, 1, 1, 1, 0, 0, 1, 1, 0, 0, 1, 1, 0, 0, 0, 0, 0, 0, 0, 0,\n",
       "       0, 0, 0, 0, 0, 0, 0, 0, 0, 1, 0, 0, 0, 0, 0, 0, 0, 0, 0, 0, 1, 1,\n",
       "       0, 1, 1, 0, 0, 1, 0, 0, 0, 0, 0, 1, 0, 0, 0, 1, 0, 0, 1, 1, 0, 0,\n",
       "       0, 0, 0, 0, 0, 1, 0, 0, 0, 0, 0, 0, 0, 1, 0, 0, 0, 0, 0, 0, 0, 0,\n",
       "       0, 0, 0, 0, 0, 0, 0, 0, 1, 0, 0, 1, 1, 1, 1, 1, 0, 0, 0, 0, 0, 1,\n",
       "       1, 0, 1, 0, 0, 1, 0, 1, 0, 1, 0, 1, 0, 0, 0, 0, 1, 0, 1, 1, 0, 1,\n",
       "       1, 1, 1, 0, 1, 0, 0, 1, 1, 0, 1, 0, 0, 0, 0, 1, 1, 0, 0, 0, 1, 1,\n",
       "       0, 0, 0, 1, 0, 1, 0, 1, 0, 0, 1, 1, 0, 0, 0, 0, 1, 0, 1, 1, 1, 0,\n",
       "       0, 1, 1, 1, 1, 0, 1, 1, 0, 0, 0, 0, 1, 0, 1, 1, 0, 0, 1, 0, 0, 0,\n",
       "       0, 1, 1, 0, 0, 0, 0, 0, 1, 0, 0, 1, 1, 0, 0, 0, 1, 0, 0, 1, 1, 0,\n",
       "       0, 0, 0, 1, 0, 0, 0, 0, 0, 0, 0, 0, 0, 0, 0, 0, 0, 1, 1, 1, 1, 0,\n",
       "       0, 0, 0, 0, 1, 0, 0, 0, 0, 0, 0, 1, 1, 1, 1, 0, 0, 0, 0, 0, 0, 0,\n",
       "       0, 0, 1, 0, 0, 1, 0, 0, 0, 0, 0, 0, 0, 1, 1, 1, 1, 1, 1, 0, 0, 0,\n",
       "       0, 0, 0, 0, 0, 0, 0, 0, 0, 1, 0, 0, 0, 0, 1, 1, 1, 0, 0, 1, 1, 1,\n",
       "       1, 0, 1, 1, 0, 0, 0, 0, 0, 0, 0, 0, 0, 0, 1, 1, 0, 0, 0, 0, 1, 1,\n",
       "       0, 0, 1, 1, 0, 0, 1, 1, 1, 1, 0, 1, 0, 0, 1, 0, 0, 1, 0, 1, 0, 0,\n",
       "       0, 1, 1, 1, 0, 0, 1, 0, 0, 0, 0, 0, 1, 1, 0, 0, 0, 0, 0, 0, 0, 0,\n",
       "       0, 1, 1, 1, 1, 0, 0, 0, 0, 0, 0, 0, 0, 0, 0, 0, 0, 0, 0, 0, 0, 0,\n",
       "       0, 0, 0, 1, 1, 0, 0, 0, 0, 0, 0, 0, 0, 0, 0, 1, 0, 0, 0, 0, 1, 1,\n",
       "       0, 1, 1, 1, 1, 0, 0, 0, 0, 0, 0, 0, 0, 0, 0, 1, 0, 1, 1, 1, 1, 1,\n",
       "       0, 0, 1, 1, 0, 0, 0, 1, 1, 1, 0, 0, 1, 0, 0, 0, 0, 1, 1, 1, 0, 1,\n",
       "       1, 1, 1, 1, 0, 1, 0, 1, 1, 0, 0, 1, 0, 0, 0, 0, 0, 1, 0, 0, 0, 0,\n",
       "       0, 0, 0, 1, 1, 1, 1, 0, 0, 0, 0, 1, 0, 0, 0, 0, 0, 0, 1, 1, 1, 0,\n",
       "       0, 0, 1, 0, 0, 1, 0, 1, 0, 1, 0, 1, 1, 0, 1, 1, 0, 0, 0, 1, 1, 0,\n",
       "       0, 0, 0, 0, 0, 0, 0, 0, 0, 0, 1, 0, 0, 0, 0, 0, 1, 0, 0, 0, 1, 1,\n",
       "       1, 1, 0, 0, 1, 0, 0, 0, 1, 1, 1, 1, 0, 1, 0, 0, 0, 0, 0, 1, 1, 0,\n",
       "       0, 1, 0, 1, 0, 0, 0, 1, 0, 1, 1, 0, 1, 1, 1, 1, 1, 1, 1, 1, 0, 0,\n",
       "       0, 0, 0, 0, 0, 0, 1, 1, 1, 0, 1, 1, 0, 0, 0, 1, 0, 0, 1, 0, 0, 0,\n",
       "       0, 0, 0, 0, 0, 0, 0, 1, 1, 1, 0, 0, 0, 0, 0, 0, 0, 0, 0, 0, 0, 0,\n",
       "       0, 1, 1, 1, 0, 1, 0, 0, 0, 0, 0, 1, 0, 1, 1, 0, 0, 1, 0, 0, 0, 0,\n",
       "       0, 0, 1, 0, 1, 0, 0, 1, 1, 0, 0, 0, 0, 1, 1, 0, 0, 1, 1, 1, 0, 0,\n",
       "       0, 0, 0, 0, 0, 0, 0, 0, 0, 0, 0, 1, 1, 0, 0, 1, 0, 1, 0, 1, 0, 0,\n",
       "       0, 0, 1, 0, 1, 0, 0, 0, 0, 0, 0, 1, 1, 1, 0, 0, 1, 1, 0, 1, 1, 0,\n",
       "       1, 1, 1, 1, 1, 1, 1, 0, 0, 1, 1, 1, 0, 0, 1, 0, 1, 1, 1, 1, 0, 0,\n",
       "       1, 1, 0, 1, 1, 0, 1, 0, 0, 0, 0, 1, 0, 0, 1, 1, 1, 1, 0, 0, 0, 0,\n",
       "       0, 0, 1, 1, 0, 0, 0, 0, 0, 0, 0, 0, 1, 1, 0, 0, 0, 1, 0, 1, 0, 0,\n",
       "       1, 0, 0, 0, 1, 1, 1, 0, 1, 1, 1, 1, 1, 0, 0, 0, 1, 1, 1, 1, 1, 1,\n",
       "       0, 0, 0, 0, 0, 0, 0, 1, 0, 0, 1, 0, 0, 1, 1, 0, 0, 0, 0, 1, 0, 0,\n",
       "       0, 0, 1, 0, 0, 1, 1, 1, 1, 0, 1, 0, 0, 1, 1, 0, 0, 0, 1, 1, 0, 0,\n",
       "       0, 0, 0, 0, 1, 0, 0, 1, 0, 0, 0, 0, 0, 1, 0, 0, 0, 0, 0, 0, 0, 0,\n",
       "       0, 0, 1, 0, 0, 0, 0, 0, 0, 0, 0, 0, 0, 0, 0, 0, 0, 0, 0, 0, 0, 0,\n",
       "       0, 0, 0, 0, 0, 0, 0, 0, 0, 1, 0, 0, 0, 0, 0, 0, 1, 0, 1, 0, 0, 1,\n",
       "       0, 0, 0, 0, 0, 1, 0, 1, 0, 0, 0, 0, 0, 1, 0, 0, 0, 1, 0, 0, 0, 0,\n",
       "       0, 0, 1, 1, 0, 1, 0, 0, 0, 0, 0, 0, 0, 0, 1, 0, 0, 1, 0, 1, 0, 0,\n",
       "       0, 0, 0, 1, 0, 0, 0, 0, 0, 0, 0, 0, 0, 0, 1, 0, 0, 0, 0, 0, 0, 0,\n",
       "       1, 0, 0, 0, 1, 1, 0, 1, 0, 0, 0, 0, 0, 0, 1, 0, 1, 0, 1, 0, 1, 1,\n",
       "       1, 1, 0, 0, 1, 0, 1, 0, 1, 0, 1, 1, 0, 0, 0, 0, 0, 0, 0, 0, 0, 0,\n",
       "       0, 1, 0, 0, 0, 0, 1, 0, 0, 1, 0, 0, 0, 0, 0, 0, 1, 0, 0, 0, 0, 1,\n",
       "       1, 1, 0, 1, 0, 1, 0, 1, 0, 0, 1, 1, 1, 0, 0, 0, 0, 0, 0, 0, 0, 0,\n",
       "       1, 0, 1, 0, 1, 0, 1, 1, 0, 1, 0, 0, 1, 1, 1, 1, 1, 0, 1, 0, 0, 1,\n",
       "       0, 1, 0, 0, 1, 1, 1, 1, 1, 0, 0, 0, 0, 0, 1, 0, 0, 0, 0, 0, 0, 0,\n",
       "       0, 0, 0, 0, 0, 1, 1, 1, 0, 0, 1, 1, 0, 0, 1, 0, 0, 0, 1, 0, 0, 1,\n",
       "       0, 0, 1, 0, 0, 0, 0, 0, 0, 0, 1, 0, 0, 0, 0, 0, 0, 0, 0, 0, 0, 0,\n",
       "       0, 1, 0, 0, 0, 1, 0, 1, 0, 0, 1, 0, 0, 1, 1, 0, 0, 1, 0, 1, 0],\n",
       "      dtype=uint16)"
      ]
     },
     "execution_count": 81,
     "metadata": {},
     "output_type": "execute_result"
    }
   ],
   "source": [
    "# KModes(n_clusters=2, init = \"Cao\", n_init = 1, verbose=1)\n",
    "\n",
    "km_huang = KModes(n_clusters=2, init = \"Huang\", n_init = 1, verbose=1)\n",
    "fitted_km_huang = km_huang.fit_predict(X_mlb)\n",
    "fitted_km_huang"
   ]
  },
  {
   "cell_type": "code",
   "execution_count": 82,
   "id": "delayed-network",
   "metadata": {
    "ExecuteTime": {
     "end_time": "2021-04-12T04:20:29.066856Z",
     "start_time": "2021-04-12T04:20:00.247357Z"
    }
   },
   "outputs": [
    {
     "name": "stdout",
     "output_type": "stream",
     "text": [
      "Initialization method and algorithm are deterministic. Setting n_init to 1.\n",
      "Init: initializing centroids\n",
      "Init: initializing clusters\n",
      "Starting iterations...\n",
      "Run 1, iteration: 1/100, moves: 0, cost: 7993.0\n",
      "Initialization method and algorithm are deterministic. Setting n_init to 1.\n",
      "Init: initializing centroids\n",
      "Init: initializing clusters\n",
      "Starting iterations...\n",
      "Run 1, iteration: 1/100, moves: 440, cost: 4192.0\n",
      "Run 1, iteration: 2/100, moves: 138, cost: 4141.0\n",
      "Run 1, iteration: 3/100, moves: 28, cost: 4128.0\n",
      "Run 1, iteration: 4/100, moves: 15, cost: 4128.0\n",
      "Initialization method and algorithm are deterministic. Setting n_init to 1.\n",
      "Init: initializing centroids\n",
      "Init: initializing clusters\n",
      "Starting iterations...\n",
      "Run 1, iteration: 1/100, moves: 321, cost: 3124.0\n",
      "Run 1, iteration: 2/100, moves: 71, cost: 3121.0\n",
      "Run 1, iteration: 3/100, moves: 4, cost: 3121.0\n",
      "Initialization method and algorithm are deterministic. Setting n_init to 1.\n",
      "Init: initializing centroids\n",
      "Init: initializing clusters\n",
      "Starting iterations...\n",
      "Run 1, iteration: 1/100, moves: 266, cost: 2598.0\n",
      "Run 1, iteration: 2/100, moves: 44, cost: 2592.0\n",
      "Run 1, iteration: 3/100, moves: 1, cost: 2592.0\n",
      "Initialization method and algorithm are deterministic. Setting n_init to 1.\n",
      "Init: initializing centroids\n",
      "Init: initializing clusters\n",
      "Starting iterations...\n",
      "Run 1, iteration: 1/100, moves: 248, cost: 2247.0\n",
      "Run 1, iteration: 2/100, moves: 34, cost: 2241.0\n",
      "Run 1, iteration: 3/100, moves: 2, cost: 2241.0\n",
      "Initialization method and algorithm are deterministic. Setting n_init to 1.\n",
      "Init: initializing centroids\n",
      "Init: initializing clusters\n",
      "Starting iterations...\n",
      "Run 1, iteration: 1/100, moves: 247, cost: 1987.0\n",
      "Run 1, iteration: 2/100, moves: 39, cost: 1973.0\n",
      "Run 1, iteration: 3/100, moves: 17, cost: 1960.0\n",
      "Run 1, iteration: 4/100, moves: 6, cost: 1960.0\n"
     ]
    }
   ],
   "source": [
    "cost = []\n",
    "max_clusters = 120\n",
    "for num_clusters in list(range(1,max_clusters,20)):\n",
    "    kmode = KModes(n_clusters=num_clusters, init = \"Cao\", n_init = 10, verbose=1)\n",
    "    kmode.fit_predict(X_mlb)\n",
    "    cost.append(kmode.cost_)"
   ]
  },
  {
   "cell_type": "code",
   "execution_count": 83,
   "id": "found-oregon",
   "metadata": {
    "ExecuteTime": {
     "end_time": "2021-04-12T04:20:29.164357Z",
     "start_time": "2021-04-12T04:20:29.067858Z"
    },
    "scrolled": true
   },
   "outputs": [
    {
     "data": {
      "text/plain": [
       "[<matplotlib.lines.Line2D at 0x2121faa09d0>]"
      ]
     },
     "execution_count": 83,
     "metadata": {},
     "output_type": "execute_result"
    },
    {
     "data": {
      "image/png": "[encoded data removed]",
      "text/plain": [
       "<Figure size 432x288 with 1 Axes>"
      ]
     },
     "metadata": {
      "needs_background": "light"
     },
     "output_type": "display_data"
    }
   ],
   "source": [
    "y = np.array([i for i in range(1,max_clusters, 20)])\n",
    "plt.figure()\n",
    "plt.title('K Mode Cao Loss')\n",
    "plt.xlabel('clusters')\n",
    "plt.ylabel('loss')\n",
    "plt.plot(y,cost)"
   ]
  },
  {
   "cell_type": "markdown",
   "id": "acceptable-clearance",
   "metadata": {},
   "source": [
    "# K Modes (Huang)"
   ]
  },
  {
   "cell_type": "code",
   "execution_count": 86,
   "id": "danish-hollow",
   "metadata": {
    "ExecuteTime": {
     "end_time": "2021-04-12T04:22:30.342161Z",
     "start_time": "2021-04-12T04:22:07.229658Z"
    }
   },
   "outputs": [
    {
     "name": "stdout",
     "output_type": "stream",
     "text": [
      "Init: initializing centroids\n",
      "Init: initializing clusters\n",
      "Starting iterations...\n",
      "Run 1, iteration: 1/100, moves: 0, cost: 7993.0\n",
      "Init: initializing centroids\n",
      "Init: initializing clusters\n",
      "Starting iterations...\n",
      "Run 1, iteration: 1/100, moves: 404, cost: 4261.0\n",
      "Run 1, iteration: 2/100, moves: 115, cost: 4218.0\n",
      "Run 1, iteration: 3/100, moves: 38, cost: 4204.0\n",
      "Run 1, iteration: 4/100, moves: 1, cost: 4204.0\n",
      "Init: initializing centroids\n",
      "Init: initializing clusters\n",
      "Starting iterations...\n",
      "Run 1, iteration: 1/100, moves: 395, cost: 3382.0\n",
      "Run 1, iteration: 2/100, moves: 221, cost: 3176.0\n",
      "Run 1, iteration: 3/100, moves: 114, cost: 3100.0\n",
      "Run 1, iteration: 4/100, moves: 29, cost: 3094.0\n",
      "Run 1, iteration: 5/100, moves: 9, cost: 3088.0\n",
      "Run 1, iteration: 6/100, moves: 1, cost: 3088.0\n",
      "Init: initializing centroids\n",
      "Init: initializing clusters\n",
      "Starting iterations...\n",
      "Run 1, iteration: 1/100, moves: 356, cost: 2656.0\n",
      "Run 1, iteration: 2/100, moves: 95, cost: 2575.0\n",
      "Run 1, iteration: 3/100, moves: 53, cost: 2558.0\n",
      "Run 1, iteration: 4/100, moves: 2, cost: 2558.0\n",
      "Init: initializing centroids\n",
      "Init: initializing clusters\n",
      "Starting iterations...\n",
      "Run 1, iteration: 1/100, moves: 246, cost: 2358.0\n",
      "Run 1, iteration: 2/100, moves: 44, cost: 2347.0\n",
      "Run 1, iteration: 3/100, moves: 3, cost: 2347.0\n",
      "Init: initializing centroids\n",
      "Init: initializing clusters\n",
      "Starting iterations...\n",
      "Run 1, iteration: 1/100, moves: 281, cost: 2122.0\n",
      "Run 1, iteration: 2/100, moves: 89, cost: 2070.0\n",
      "Run 1, iteration: 3/100, moves: 25, cost: 2058.0\n",
      "Run 1, iteration: 4/100, moves: 0, cost: 2058.0\n"
     ]
    }
   ],
   "source": [
    "cost = []\n",
    "max_clusters = 120\n",
    "for num_clusters in list(range(1,max_clusters,20)):\n",
    "    kmode = KModes(n_clusters=num_clusters, init = \"Huang\", n_init = 1, verbose=1)\n",
    "    kmode.fit_predict(X_mlb)\n",
    "    cost.append(kmode.cost_)"
   ]
  },
  {
   "cell_type": "code",
   "execution_count": 87,
   "id": "concrete-force",
   "metadata": {
    "ExecuteTime": {
     "end_time": "2021-04-12T04:24:37.074165Z",
     "start_time": "2021-04-12T04:24:36.988662Z"
    },
    "scrolled": true
   },
   "outputs": [
    {
     "data": {
      "text/plain": [
       "[<matplotlib.lines.Line2D at 0x2122552ebe0>]"
      ]
     },
     "execution_count": 87,
     "metadata": {},
     "output_type": "execute_result"
    },
    {
     "data": {
      "image/png": "[encoded data removed]",
      "text/plain": [
       "<Figure size 432x288 with 1 Axes>"
      ]
     },
     "metadata": {
      "needs_background": "light"
     },
     "output_type": "display_data"
    }
   ],
   "source": [
    "y = np.array([i for i in range(1,max_clusters, 20)])\n",
    "plt.plot(y,cost)"
   ]
  }
 ],
 "metadata": {
  "hide_input": false,
  "kernelspec": {
   "display_name": "deeplearning",
   "language": "python",
   "name": "deeplearning"
  },
  "language_info": {
   "codemirror_mode": {
    "name": "ipython",
    "version": 3
   },
   "file_extension": ".py",
   "mimetype": "text/x-python",
   "name": "python",
   "nbconvert_exporter": "python",
   "pygments_lexer": "ipython3",
   "version": "3.8.8"
  },
  "toc": {
   "base_numbering": 1,
   "nav_menu": {},
   "number_sections": false,
   "sideBar": true,
   "skip_h1_title": false,
   "title_cell": "Table of Contents",
   "title_sidebar": "Contents",
   "toc_cell": true,
   "toc_position": {
    "height": "calc(100% - 180px)",
    "left": "10px",
    "top": "150px",
    "width": "438.75px"
   },
   "toc_section_display": true,
   "toc_window_display": true
  },
  "varInspector": {
   "cols": {
    "lenName": 16,
    "lenType": 16,
    "lenVar": 40
   },
   "kernels_config": {
    "python": {
     "delete_cmd_postfix": "",
     "delete_cmd_prefix": "del ",
     "library": "var_list.py",
     "varRefreshCmd": "print(var_dic_list())"
    },
    "r": {
     "delete_cmd_postfix": ") ",
     "delete_cmd_prefix": "rm(",
     "library": "var_list.r",
     "varRefreshCmd": "cat(var_dic_list()) "
    }
   },
   "position": {
    "height": "584px",
    "left": "794px",
    "right": "20px",
    "top": "120px",
    "width": "531px"
   },
   "types_to_exclude": [
    "module",
    "function",
    "builtin_function_or_method",
    "instance",
    "_Feature"
   ],
   "window_display": false
  }
 },
 "nbformat": 4,
 "nbformat_minor": 5
}
